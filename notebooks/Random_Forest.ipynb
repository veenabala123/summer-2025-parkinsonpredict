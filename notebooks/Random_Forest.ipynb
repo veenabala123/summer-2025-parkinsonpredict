{
 "cells": [
  {
   "cell_type": "markdown",
   "id": "6672de38",
   "metadata": {},
   "source": [
    "Parkinson Prediction using Random Forest"
   ]
  },
  {
   "cell_type": "code",
   "execution_count": 1,
   "id": "cd72c368",
   "metadata": {},
   "outputs": [],
   "source": [
    "import pandas as pd\n",
    "from sklearn.model_selection import train_test_split, StratifiedKFold, cross_val_score\n",
    "from sklearn.feature_selection import SelectKBest, f_classif\n",
    "from sklearn.preprocessing import StandardScaler\n",
    "from sklearn.ensemble import RandomForestClassifier\n",
    "from sklearn.metrics import classification_report, balanced_accuracy_score, ConfusionMatrixDisplay, make_scorer\n",
    "from imblearn.over_sampling import SMOTE\n",
    "from imblearn.pipeline import Pipeline as ImbPipeline\n",
    "import matplotlib.pyplot as plt"
   ]
  },
  {
   "cell_type": "code",
   "execution_count": 2,
   "id": "f81abc6d",
   "metadata": {},
   "outputs": [
    {
     "name": "stdout",
     "output_type": "stream",
     "text": [
      "Original shape: (640, 119)\n",
      "Cleaned shape : (639, 119)\n",
      "Series([], dtype: int64)\n",
      "['Female' 'Male']\n",
      "GENDER\n",
      "Male      381\n",
      "Female    258\n",
      "Name: count, dtype: int64\n"
     ]
    }
   ],
   "source": [
    "#merged_file = pd.read_csv(\"Data/gene_matrix.csv\")\n",
    "gene_demo_file = pd.read_csv(\"merged_all.csv\")\n",
    "merged_file = gene_demo_file.dropna()\n",
    "print(\"Original shape:\", gene_demo_file.shape)\n",
    "print(\"Cleaned shape :\", merged_file.shape)\n",
    "\n",
    "null_counts = merged_file.isna().sum()\n",
    "print(null_counts[null_counts > 0].sort_values(ascending=False))\n",
    "print(merged_file[\"GENDER\"].unique())\n",
    "print(merged_file[\"GENDER\"].value_counts(dropna=False))"
   ]
  },
  {
   "cell_type": "code",
   "execution_count": 28,
   "id": "86730fa2",
   "metadata": {},
   "outputs": [],
   "source": [
    "nhy_map = {0:0,1:1,2:1,3:1,4:1,5:1}\n",
    "merged_file.loc[:,\"NHY_MAPPED\"] = merged_file[\"NHY\"].map(nhy_map)\n",
    "target_col = \"NHY_MAPPED\"\n",
    "merged_file.loc[:,\"GENDER_MAPPED\"] = merged_file[\"GENDER\"].map({\"Male\": 0, \"Female\": 1})\n"
   ]
  },
  {
   "cell_type": "markdown",
   "id": "36ea8193",
   "metadata": {},
   "source": [
    "MRI ONLY"
   ]
  },
  {
   "cell_type": "code",
   "execution_count": 30,
   "id": "a325ea12",
   "metadata": {},
   "outputs": [
    {
     "name": "stdout",
     "output_type": "stream",
     "text": [
      "X shape: (639, 6)\n",
      "y shape: (639,)\n"
     ]
    }
   ],
   "source": [
    "cols_to_include = [\"lh_MeanThickness\",\"lh_WhiteSurfArea\",\"lhCerebralWhiteMatterVol\",\"Left_Cerebellum_White_Matter\",\"CerebralWhiteMatterVol\",\"lhSurfaceHoles\"]\n",
    "feature_cols_mri = merged_file.columns.intersection(cols_to_include)\n",
    "X_mri = merged_file[feature_cols_mri]\n",
    "y = merged_file[target_col]\n",
    "print(\"X shape:\", X_mri.shape)\n",
    "print(\"y shape:\", y.shape)"
   ]
  },
  {
   "cell_type": "code",
   "execution_count": 31,
   "id": "8ebd2519",
   "metadata": {},
   "outputs": [
    {
     "name": "stdout",
     "output_type": "stream",
     "text": [
      "CV balanced accuracy (train): 0.555 ± 0.028\n"
     ]
    }
   ],
   "source": [
    "X_train, X_test, y_train, y_test = train_test_split(\n",
    "    X_mri, y, test_size=0.2, stratify=y, random_state=42\n",
    ")\n",
    "pipeline = ImbPipeline([\n",
    "    (\"scale\", StandardScaler()),\n",
    "    (\"smote\", SMOTE(random_state=42)),\n",
    "    (\"rf\", RandomForestClassifier(n_estimators=200, class_weight=\"balanced\", random_state=42))\n",
    "])\n",
    "\n",
    "cv = StratifiedKFold(n_splits=5, shuffle=True, random_state=42)\n",
    "scores = cross_val_score(\n",
    "    pipeline, X_train, y_train,\n",
    "    cv=cv,\n",
    "    scoring=make_scorer(balanced_accuracy_score),\n",
    "    n_jobs=-1\n",
    ")\n",
    "\n",
    "print(f\"CV balanced accuracy (train): {scores.mean():.3f} ± {scores.std():.3f}\")"
   ]
  },
  {
   "cell_type": "markdown",
   "id": "e18e17fb",
   "metadata": {},
   "source": [
    "DEMOGRAPHICS + MRI ONLY"
   ]
  },
  {
   "cell_type": "code",
   "execution_count": 32,
   "id": "64c08bd6",
   "metadata": {},
   "outputs": [
    {
     "name": "stdout",
     "output_type": "stream",
     "text": [
      "X shape: (639, 9)\n",
      "y shape: (639,)\n"
     ]
    }
   ],
   "source": [
    "cols_to_include = [\"GENDER_MAPPED\",\"AGE\",\"EDUC_YRS\",\"lh_MeanThickness\",\"lh_WhiteSurfArea\",\"lhCerebralWhiteMatterVol\",\"Left_Cerebellum_White_Matter\",\"CerebralWhiteMatterVol\",\"lhSurfaceHoles\"]\n",
    "feature_cols_demo_mri = merged_file.columns.intersection(cols_to_include)\n",
    "X_demo_mri = merged_file[feature_cols_demo_mri]\n",
    "y = merged_file[target_col]\n",
    "print(\"X shape:\", X_demo_mri.shape)\n",
    "print(\"y shape:\", y.shape)"
   ]
  },
  {
   "cell_type": "code",
   "execution_count": 33,
   "id": "370c31c6",
   "metadata": {},
   "outputs": [
    {
     "name": "stdout",
     "output_type": "stream",
     "text": [
      "CV balanced accuracy (train): 0.560 ± 0.043\n"
     ]
    }
   ],
   "source": [
    "X_train, X_test, y_train, y_test = train_test_split(\n",
    "    X_demo_mri, y, test_size=0.2, stratify=y, random_state=42\n",
    ")\n",
    "pipeline = ImbPipeline([\n",
    "    (\"scale\", StandardScaler()),\n",
    "    (\"smote\", SMOTE(random_state=42)),\n",
    "    (\"rf\", RandomForestClassifier(n_estimators=200, class_weight=\"balanced\", random_state=42))\n",
    "])\n",
    "\n",
    "cv = StratifiedKFold(n_splits=5, shuffle=True, random_state=42)\n",
    "scores = cross_val_score(\n",
    "    pipeline, X_train, y_train,\n",
    "    cv=cv,\n",
    "    scoring=make_scorer(balanced_accuracy_score),\n",
    "    n_jobs=-1\n",
    ")\n",
    "\n",
    "print(f\"CV balanced accuracy (train): {scores.mean():.3f} ± {scores.std():.3f}\")"
   ]
  },
  {
   "cell_type": "markdown",
   "id": "e2876250",
   "metadata": {},
   "source": [
    "DEMOGRAPHICS + MRI + GENE"
   ]
  },
  {
   "cell_type": "code",
   "execution_count": 34,
   "id": "a90c1627",
   "metadata": {},
   "outputs": [
    {
     "name": "stdout",
     "output_type": "stream",
     "text": [
      "X shape: (639, 108)\n",
      "y shape: (639,)\n"
     ]
    }
   ],
   "source": [
    "cols_to_exclude = [\"PATNO\",\"EVENT_ID\",\"NHY\",\"NHY_MAPPED\",\"GENDER\",\"NHY_BL\",\"MRIRSLT\",\"rh_MeanThickness\",\"rh_WhiteSurfArea\",\"rhCerebralWhiteMatterVol\",\"Right_Cerebellum_White_Matter\",\"CerebralWhiteMatterVol\",\"rhSurfaceHoles\"]\n",
    "feature_cols = merged_file.columns.difference(cols_to_exclude)\n",
    "X = merged_file[feature_cols]\n",
    "y = merged_file[target_col]\n",
    "print(\"X shape:\", X.shape)\n",
    "print(\"y shape:\", y.shape)"
   ]
  },
  {
   "cell_type": "code",
   "execution_count": 35,
   "id": "31ba4118",
   "metadata": {},
   "outputs": [
    {
     "name": "stdout",
     "output_type": "stream",
     "text": [
      "CV balanced accuracy (train): 0.599 ± 0.043\n"
     ]
    }
   ],
   "source": [
    "X_train, X_test, y_train, y_test = train_test_split(\n",
    "    X, y, test_size=0.2, stratify=y, random_state=42\n",
    ")\n",
    "#selector = SelectKBest(score_func=f_classif, k=50)\n",
    "#X_train_selected = selector.fit_transform(X_train, y_train)\n",
    "#X_test_selected = selector.transform(X_test)\n",
    "#selected_genes = X.columns[selector.get_support()]\n",
    "#print(selected_genes[:50])\n",
    "pipeline = ImbPipeline([\n",
    "    (\"scale\", StandardScaler()),\n",
    "    (\"smote\", SMOTE(random_state=42)),\n",
    "    (\"rf\", RandomForestClassifier(n_estimators=200, class_weight=\"balanced\", random_state=42))\n",
    "])\n",
    "\n",
    "cv = StratifiedKFold(n_splits=5, shuffle=True, random_state=42)\n",
    "scores = cross_val_score(\n",
    "    pipeline, X_train, y_train,\n",
    "    cv=cv,\n",
    "    scoring=make_scorer(balanced_accuracy_score),\n",
    "    n_jobs=-1\n",
    ")\n",
    "\n",
    "print(f\"CV balanced accuracy (train): {scores.mean():.3f} ± {scores.std():.3f}\")"
   ]
  },
  {
   "cell_type": "code",
   "execution_count": 36,
   "id": "763f4f68",
   "metadata": {},
   "outputs": [
    {
     "name": "stdout",
     "output_type": "stream",
     "text": [
      "Balanced Accuracy: 0.5831880448318805\n",
      "              precision    recall  f1-score   support\n",
      "\n",
      "   Early (0)       0.52      0.56      0.54        55\n",
      "    Late (1)       0.65      0.60      0.62        73\n",
      "\n",
      "    accuracy                           0.59       128\n",
      "   macro avg       0.58      0.58      0.58       128\n",
      "weighted avg       0.59      0.59      0.59       128\n",
      "\n"
     ]
    },
    {
     "data": {
      "image/png": "[encoded data removed]",
      "text/plain": [
       "<Figure size 640x480 with 2 Axes>"
      ]
     },
     "metadata": {},
     "output_type": "display_data"
    }
   ],
   "source": [
    "pipeline.fit(X_train, y_train)\n",
    "y_pred = pipeline.predict(X_test)\n",
    "\n",
    "# Evaluate\n",
    "print(\"Balanced Accuracy:\", balanced_accuracy_score(y_test, y_pred))\n",
    "print(classification_report(y_test, y_pred, target_names=[\"Early (0)\", \"Late (1)\"]))\n",
    "\n",
    "# Plot confusion matrix\n",
    "ConfusionMatrixDisplay.from_predictions(y_test, y_pred, display_labels=[\"Early (0)\", \"Late (1)\"], cmap=\"Blues\")\n",
    "plt.title(\"NHY Binary – Confusion Matrix\")\n",
    "plt.tight_layout()\n",
    "plt.show()"
   ]
  }
 ],
 "metadata": {
  "kernelspec": {
   "display_name": "Python 3 (ipykernel)",
   "language": "python",
   "name": "python3"
  },
  "language_info": {
   "codemirror_mode": {
    "name": "ipython",
    "version": 3
   },
   "file_extension": ".py",
   "mimetype": "text/x-python",
   "name": "python",
   "nbconvert_exporter": "python",
   "pygments_lexer": "ipython3",
   "version": "3.13.2"
  }
 },
 "nbformat": 4,
 "nbformat_minor": 5
}
