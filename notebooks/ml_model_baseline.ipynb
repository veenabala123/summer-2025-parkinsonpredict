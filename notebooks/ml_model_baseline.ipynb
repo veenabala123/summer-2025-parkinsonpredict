{
 "cells": [
  {
   "cell_type": "code",
   "execution_count": 2,
   "id": "7d66a1e7",
   "metadata": {},
   "outputs": [],
   "source": [
    "import os,sys\n",
    "import math\n",
    "\n",
    "import numpy as np\n",
    "import scipy as sp\n",
    "import pandas as pd\n",
    "import matplotlib as mlt\n",
    "import matplotlib.pyplot as plt\n",
    "from IPython.display import HTML\n",
    "from matplotlib import animation\n",
    "import seaborn as sns\n",
    "from sklearn.model_selection import train_test_split\n",
    "\n",
    "sys.path.append(\"../src\")  # adjust path as needed\n",
    "from read_Parkinsonpredict import ReadData, LoadData\n",
    "from ml_models import MlModels"
   ]
  },
  {
   "cell_type": "markdown",
   "id": "4f54d18e",
   "metadata": {},
   "source": [
    "### Load the Merged gene expression and MRI data"
   ]
  },
  {
   "cell_type": "code",
   "execution_count": 3,
   "id": "da1ea618",
   "metadata": {},
   "outputs": [
    {
     "name": "stdout",
     "output_type": "stream",
     "text": [
      "Is PATNO sorted?: True\n",
      "Do we have all unique patients?: Yes\n",
      "The train and test data is split according to 80.0 - 20.0%\n"
     ]
    }
   ],
   "source": [
    "path = '/Users/pushpita/Documents/Erdos_bootcamp/our_project/Data/fomatted_data/'\n",
    "loaddata = LoadData(input_path=path)\n",
    "X_train, Y_train = loaddata.merged_data()"
   ]
  },
  {
   "cell_type": "markdown",
   "id": "ebd19d65",
   "metadata": {},
   "source": [
    "### Loading the Logistic Regression model"
   ]
  },
  {
   "cell_type": "markdown",
   "id": "9805dec2",
   "metadata": {},
   "source": [
    "##### Splitting the trainning data further into train and validation set for regular logistic regression"
   ]
  },
  {
   "cell_type": "code",
   "execution_count": 4,
   "id": "8aeb5cf6",
   "metadata": {},
   "outputs": [],
   "source": [
    "X_train_reg, X_cv, Y_train_reg, Y_cv = train_test_split(X_train, Y_train, test_size=0.2, shuffle=True, random_state=64)\n",
    "data = {}\n",
    "data['X_train'] = X_train_reg\n",
    "data['Y_train'] = Y_train_reg"
   ]
  },
  {
   "cell_type": "code",
   "execution_count": 5,
   "id": "ee82e75a",
   "metadata": {},
   "outputs": [
    {
     "name": "stderr",
     "output_type": "stream",
     "text": [
      "/Users/pushpita/anaconda3/envs/erdos_summer_2025/lib/python3.12/site-packages/sklearn/linear_model/_logistic.py:1247: FutureWarning: 'multi_class' was deprecated in version 1.5 and will be removed in 1.7. From then on, it will always use 'multinomial'. Leave it to its default value to avoid this warning.\n",
      "  warnings.warn(\n"
     ]
    }
   ],
   "source": [
    "my_model = MlModels(model_name = 'logistic', data=data, params = None, pca_flag=True, pca_components = 10)\n",
    "mymodel_logistic = my_model.build_model()"
   ]
  },
  {
   "cell_type": "code",
   "execution_count": 6,
   "id": "00f38eaa",
   "metadata": {},
   "outputs": [
    {
     "name": "stdout",
     "output_type": "stream",
     "text": [
      "Validation Accuracy: 0.5\n",
      "Classification Report:\n",
      "               precision    recall  f1-score   support\n",
      "\n",
      "         0.0       0.53      0.44      0.48        18\n",
      "         1.0       0.00      0.00      0.00         3\n",
      "         2.0       0.51      0.83      0.63        23\n",
      "         3.0       0.00      0.00      0.00         2\n",
      "         4.0       0.00      0.00      0.00         6\n",
      "         5.0       0.00      0.00      0.00         2\n",
      "\n",
      "    accuracy                           0.50        54\n",
      "   macro avg       0.17      0.21      0.19        54\n",
      "weighted avg       0.40      0.50      0.43        54\n",
      "\n",
      "Confusion Matrix:\n",
      " [[ 8  0  9  0  1  0]\n",
      " [ 1  0  2  0  0  0]\n",
      " [ 3  0 19  1  0  0]\n",
      " [ 0  0  2  0  0  0]\n",
      " [ 3  0  3  0  0  0]\n",
      " [ 0  0  2  0  0  0]]\n"
     ]
    },
    {
     "name": "stderr",
     "output_type": "stream",
     "text": [
      "/Users/pushpita/anaconda3/envs/erdos_summer_2025/lib/python3.12/site-packages/sklearn/metrics/_classification.py:1565: UndefinedMetricWarning: Precision is ill-defined and being set to 0.0 in labels with no predicted samples. Use `zero_division` parameter to control this behavior.\n",
      "  _warn_prf(average, modifier, f\"{metric.capitalize()} is\", len(result))\n",
      "/Users/pushpita/anaconda3/envs/erdos_summer_2025/lib/python3.12/site-packages/sklearn/metrics/_classification.py:1565: UndefinedMetricWarning: Precision is ill-defined and being set to 0.0 in labels with no predicted samples. Use `zero_division` parameter to control this behavior.\n",
      "  _warn_prf(average, modifier, f\"{metric.capitalize()} is\", len(result))\n",
      "/Users/pushpita/anaconda3/envs/erdos_summer_2025/lib/python3.12/site-packages/sklearn/metrics/_classification.py:1565: UndefinedMetricWarning: Precision is ill-defined and being set to 0.0 in labels with no predicted samples. Use `zero_division` parameter to control this behavior.\n",
      "  _warn_prf(average, modifier, f\"{metric.capitalize()} is\", len(result))\n"
     ]
    }
   ],
   "source": [
    "# Apply the same preprocessing (scaling + PCA) if used during training\n",
    "if my_model.pca_flag:\n",
    "    X_cv_scaled = my_model.scaler.transform(X_cv)\n",
    "    X_cv_pca = my_model.pca.transform(X_cv_scaled)\n",
    "    predictions = my_model.model.predict(X_cv_pca)\n",
    "else:\n",
    "    predictions = my_model.model.predict(X_cv)\n",
    "\n",
    "# Now evaluate\n",
    "from sklearn.metrics import accuracy_score, classification_report, confusion_matrix\n",
    "\n",
    "print(\"Validation Accuracy:\", accuracy_score(Y_cv.values.ravel(), predictions))\n",
    "print(\"Classification Report:\\n\", classification_report(Y_cv.values.ravel(), predictions))\n",
    "print(\"Confusion Matrix:\\n\", confusion_matrix(Y_cv.values.ravel(), predictions))"
   ]
  },
  {
   "cell_type": "markdown",
   "id": "e26e01e1",
   "metadata": {},
   "source": [
    "##### Regular Logistic regression is a very bad model for this since the number of data points in the NHY score classes is heavily skewed"
   ]
  },
  {
   "cell_type": "code",
   "execution_count": null,
   "id": "818d4b11",
   "metadata": {},
   "outputs": [],
   "source": []
  }
 ],
 "metadata": {
  "kernelspec": {
   "display_name": "erdos_summer_2025",
   "language": "python",
   "name": "python3"
  },
  "language_info": {
   "codemirror_mode": {
    "name": "ipython",
    "version": 3
   },
   "file_extension": ".py",
   "mimetype": "text/x-python",
   "name": "python",
   "nbconvert_exporter": "python",
   "pygments_lexer": "ipython3",
   "version": "3.12.10"
  }
 },
 "nbformat": 4,
 "nbformat_minor": 5
}
