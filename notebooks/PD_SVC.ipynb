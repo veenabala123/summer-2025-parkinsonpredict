{
 "cells": [
  {
   "cell_type": "code",
   "execution_count": 42,
   "id": "d57397c5",
   "metadata": {},
   "outputs": [],
   "source": [
    "import numpy as np\n",
    "import pandas as pd\n",
    "import matplotlib.pyplot as plt\n",
    "from seaborn import set_style\n",
    "from sklearn.model_selection import train_test_split, StratifiedKFold, cross_val_score\n",
    "from sklearn.pipeline import Pipeline\n",
    "from sklearn.preprocessing import StandardScaler\n",
    "from sklearn.metrics import accuracy_score, classification_report,balanced_accuracy_score, ConfusionMatrixDisplay, make_scorer, roc_auc_score\n",
    "from sklearn.svm import SVC"
   ]
  },
  {
   "cell_type": "code",
   "execution_count": 43,
   "id": "382a1080",
   "metadata": {},
   "outputs": [],
   "source": [
    "PD_merged_all = pd.read_csv(\"C:/Users/dcsor/Desktop/Parkinson's Project/merged_all.csv\")\n",
    "PD_merged_all = PD_merged_all.dropna()"
   ]
  },
  {
   "cell_type": "markdown",
   "id": "e4195726",
   "metadata": {},
   "source": [
    "NHY Target"
   ]
  },
  {
   "cell_type": "code",
   "execution_count": 55,
   "id": "f54fa78a",
   "metadata": {},
   "outputs": [
    {
     "data": {
      "text/plain": [
       "NHY\n",
       "1    0.438185\n",
       "0    0.427230\n",
       "2    0.134585\n",
       "Name: proportion, dtype: float64"
      ]
     },
     "execution_count": 55,
     "metadata": {},
     "output_type": "execute_result"
    }
   ],
   "source": [
    "Y_Target = PD_merged_all.NHY\n",
    "\n",
    "def combine_class_three(x):\n",
    "    if x >= 3:\n",
    "       return 2\n",
    "    elif 1 <= x < 3:\n",
    "        return 1\n",
    "    else:\n",
    "        return 0 \n",
    "def combine_class(x):\n",
    "    if x >= 1:\n",
    "        return 1\n",
    "    else:\n",
    "        return 0\n",
    "    \n",
    "Y_target = Y_Target.apply(combine_class_three)\n",
    "Y_target.value_counts(normalize=True)"
   ]
  },
  {
   "cell_type": "markdown",
   "id": "f7d3f7d9",
   "metadata": {},
   "source": [
    "Baseline Data \n",
    "\n"
   ]
  },
  {
   "cell_type": "code",
   "execution_count": 56,
   "id": "0ef55edd",
   "metadata": {},
   "outputs": [
    {
     "name": "stderr",
     "output_type": "stream",
     "text": [
      "C:\\Users\\dcsor\\AppData\\Local\\Temp\\ipykernel_30668\\1279131828.py:3: SettingWithCopyWarning: \n",
      "A value is trying to be set on a copy of a slice from a DataFrame.\n",
      "Try using .loc[row_indexer,col_indexer] = value instead\n",
      "\n",
      "See the caveats in the documentation: https://pandas.pydata.org/pandas-docs/stable/user_guide/indexing.html#returning-a-view-versus-a-copy\n",
      "  Baseline_features['Male'] = pd.get_dummies(Baseline_features['GENDER'],dtype=int)['Male']\n"
     ]
    }
   ],
   "source": [
    "Baseline_features = PD_merged_all[[\"GENDER\", \"AGE\", \"EDUC_YRS\"]]\n",
    "pd.get_dummies(Baseline_features['GENDER'],dtype=int)\n",
    "Baseline_features['Male'] = pd.get_dummies(Baseline_features['GENDER'],dtype=int)['Male']\n",
    "X_Baseline = Baseline_features.drop(columns=['GENDER'])"
   ]
  },
  {
   "cell_type": "code",
   "execution_count": 57,
   "id": "8831ad29",
   "metadata": {},
   "outputs": [
    {
     "name": "stdout",
     "output_type": "stream",
     "text": [
      "0.46078431372549017\n",
      "CV balanced accuracy (holdout): 0.355 ± 0.059\n"
     ]
    }
   ],
   "source": [
    "#Split data \n",
    "X_train, X_test , y_train , y_test = train_test_split(X_Baseline, Y_target,\n",
    "                                            shuffle=True,\n",
    "                                            random_state=42,\n",
    "                                            test_size=.2,\n",
    "                                            stratify=Y_target)\n",
    "\n",
    "#Make validation set with 15% of the\n",
    "## training data in the validation set\n",
    "X_train_train, X_val, y_train_train, y_val = train_test_split(\n",
    "    X_train, y_train, shuffle=True, random_state=42, test_size=0.15, stratify=y_train\n",
    ")\n",
    "\n",
    "kfold = StratifiedKFold(n_splits=5,\n",
    "                           shuffle=True,\n",
    "                           random_state=42)\n",
    "kfold.get_n_splits(X_train,y_train)\n",
    "\n",
    "\n",
    "SVC_pipe = Pipeline([('scale', StandardScaler()), ('SVC', SVC(kernel = 'rbf', C=10, probability= True))])\n",
    "\n",
    "for i, (train_index, test_index) in enumerate(kfold.split(X_train, y_train)):\n",
    "    ## get the kfold training data\n",
    "    X_train_train = X_train.iloc[train_index, :]\n",
    "    y_train_train = y_train.iloc[train_index]\n",
    "\n",
    "    ## get the holdout data\n",
    "    X_holdout = X_train.iloc[test_index, :]\n",
    "    y_holdout = y_train.iloc[test_index]\n",
    "\n",
    "    ## Fit model\n",
    "    SVC_pipe.fit(X_train_train, y_train_train)\n",
    "\n",
    "    ## Use model to generate predictions on the holdout set\n",
    "    pred = SVC_pipe.predict(X_holdout)\n",
    "\n",
    "print(accuracy_score(y_holdout, \n",
    "               pred))\n",
    "\n",
    "scores = cross_val_score(\n",
    "    SVC_pipe, X_holdout, y_holdout,\n",
    "    cv=kfold,\n",
    "    scoring=make_scorer(balanced_accuracy_score),\n",
    "    n_jobs=-1\n",
    ")\n",
    "\n",
    "print(f\"CV balanced accuracy (holdout): {scores.mean():.3f} ± {scores.std():.3f}\")\n",
    "\n"
   ]
  },
  {
   "cell_type": "code",
   "execution_count": 47,
   "id": "34c324a3",
   "metadata": {},
   "outputs": [
    {
     "data": {
      "text/plain": [
       "np.float64(0.585423197492163)"
      ]
     },
     "execution_count": 47,
     "metadata": {},
     "output_type": "execute_result"
    }
   ],
   "source": [
    "roc_auc_score(y_holdout, SVC_pipe.decision_function(X_holdout))\n"
   ]
  },
  {
   "cell_type": "code",
   "execution_count": 59,
   "id": "dfe80905",
   "metadata": {},
   "outputs": [
    {
     "data": {
      "text/plain": [
       "np.float64(0.5981419533032416)"
      ]
     },
     "execution_count": 59,
     "metadata": {},
     "output_type": "execute_result"
    }
   ],
   "source": [
    "#Multi-class case\n",
    "roc_auc_score(y_holdout, SVC_pipe.predict_proba(X_holdout), multi_class='ovr')"
   ]
  },
  {
   "cell_type": "markdown",
   "id": "f2aade64",
   "metadata": {},
   "source": [
    "Baseline and MRI"
   ]
  },
  {
   "cell_type": "code",
   "execution_count": 49,
   "id": "fd528118",
   "metadata": {},
   "outputs": [
    {
     "name": "stderr",
     "output_type": "stream",
     "text": [
      "C:\\Users\\dcsor\\AppData\\Local\\Temp\\ipykernel_30668\\68412693.py:3: SettingWithCopyWarning: \n",
      "A value is trying to be set on a copy of a slice from a DataFrame.\n",
      "Try using .loc[row_indexer,col_indexer] = value instead\n",
      "\n",
      "See the caveats in the documentation: https://pandas.pydata.org/pandas-docs/stable/user_guide/indexing.html#returning-a-view-versus-a-copy\n",
      "  Baseline_MRI_features['Male'] = pd.get_dummies(Baseline_MRI_features['GENDER'],dtype=int)['Male']\n"
     ]
    }
   ],
   "source": [
    "Baseline_MRI_features = PD_merged_all[[\"GENDER\", \"AGE\", \"EDUC_YRS\",\"lh_MeanThickness\",\"lh_WhiteSurfArea\", \"lhCerebralWhiteMatterVol\",\"Left_Cerebellum_White_Matter\", \"lhSurfaceHoles\"  ]]\n",
    "pd.get_dummies(Baseline_MRI_features['GENDER'],dtype=int)\n",
    "Baseline_MRI_features['Male'] = pd.get_dummies(Baseline_MRI_features['GENDER'],dtype=int)['Male']\n",
    "X_Baseline_MRI = Baseline_features.drop(columns=['GENDER'])"
   ]
  },
  {
   "cell_type": "code",
   "execution_count": 50,
   "id": "13d110e3",
   "metadata": {},
   "outputs": [
    {
     "name": "stdout",
     "output_type": "stream",
     "text": [
      "0.5784313725490197\n",
      "CV balanced accuracy (holdout): 0.468 ± 0.114\n"
     ]
    }
   ],
   "source": [
    "#Split data \n",
    "X_train, X_test , y_train , y_test = train_test_split(X_Baseline_MRI, Y_target,\n",
    "                                            shuffle=True,\n",
    "                                            random_state=42,\n",
    "                                            test_size=.2,\n",
    "                                            stratify=Y_target)\n",
    "\n",
    "#Make validation set with 15% of the\n",
    "## training data in the validation set\n",
    "X_train_train, X_val, y_train_train, y_val = train_test_split(\n",
    "    X_train, y_train, shuffle=True, random_state=42, test_size=0.15, stratify=y_train\n",
    ")\n",
    "\n",
    "kfold = StratifiedKFold(n_splits=5,\n",
    "                           shuffle=True,\n",
    "                           random_state=42)\n",
    "kfold.get_n_splits(X_train,y_train)\n",
    "\n",
    "\n",
    "SVC_pipe = Pipeline([('scale', StandardScaler()), ('SVC', SVC(kernel = 'rbf', C=10,probability= True))])\n",
    "\n",
    "for i, (train_index, test_index) in enumerate(kfold.split(X_train, y_train)):\n",
    "    ## get the kfold training data\n",
    "    X_train_train = X_train.iloc[train_index, :]\n",
    "    y_train_train = y_train.iloc[train_index]\n",
    "\n",
    "    ## get the holdout data\n",
    "    X_holdout = X_train.iloc[test_index, :]\n",
    "    y_holdout = y_train.iloc[test_index]\n",
    "\n",
    "    ## Fit model\n",
    "    SVC_pipe.fit(X_train_train, y_train_train)\n",
    "\n",
    "    ## Use model to generate predictions on the holdout set\n",
    "    pred = SVC_pipe.predict(X_holdout)\n",
    "\n",
    "print(accuracy_score(y_holdout, \n",
    "               pred))\n",
    "\n",
    "scores = cross_val_score(\n",
    "    SVC_pipe, X_holdout, y_holdout,\n",
    "    cv=kfold,\n",
    "    scoring=make_scorer(balanced_accuracy_score),\n",
    "    n_jobs=-1\n",
    ")\n",
    "\n",
    "print(f\"CV balanced accuracy (holdout): {scores.mean():.3f} ± {scores.std():.3f}\")"
   ]
  },
  {
   "cell_type": "code",
   "execution_count": 51,
   "id": "a403587c",
   "metadata": {},
   "outputs": [
    {
     "data": {
      "text/plain": [
       "np.float64(0.585423197492163)"
      ]
     },
     "execution_count": 51,
     "metadata": {},
     "output_type": "execute_result"
    }
   ],
   "source": [
    "roc_auc_score(y_holdout, SVC_pipe.decision_function(X_holdout))"
   ]
  },
  {
   "cell_type": "markdown",
   "id": "1a52a3dd",
   "metadata": {},
   "source": [
    "Baseline and MRI and Genetic"
   ]
  },
  {
   "cell_type": "code",
   "execution_count": 52,
   "id": "fd7cb450",
   "metadata": {},
   "outputs": [],
   "source": [
    "PD_merged_allfeatures = PD_merged_all.drop(columns=['PATNO','MRIRSLT','rh_MeanThickness','rh_WhiteSurfArea', 'rhCerebralWhiteMatterVol','Right_Cerebellum_White_Matter', 'rhSurfaceHoles','CerebralWhiteMatterVol', 'NHY_BL', 'EVENT_ID','NHY'])\n",
    "pd.get_dummies(PD_merged_allfeatures['GENDER'],dtype=int)\n",
    "PD_merged_allfeatures['Male'] = pd.get_dummies(PD_merged_allfeatures['GENDER'],dtype=int)['Male']\n",
    "X_features = PD_merged_allfeatures.drop(columns=['GENDER'])"
   ]
  },
  {
   "cell_type": "code",
   "execution_count": 53,
   "id": "35d2c3c6",
   "metadata": {},
   "outputs": [
    {
     "name": "stdout",
     "output_type": "stream",
     "text": [
      "0.696078431372549\n",
      "CV balanced accuracy (holdout): 0.490 ± 0.042\n"
     ]
    }
   ],
   "source": [
    "#Split data \n",
    "X_train, X_test , y_train , y_test = train_test_split(X_features, Y_target,\n",
    "                                            shuffle=True,\n",
    "                                            random_state=42,\n",
    "                                            test_size=.2,\n",
    "                                            stratify=Y_target)\n",
    "\n",
    "#Make validation set with 15% of the\n",
    "## training data in the validation set\n",
    "X_train_train, X_val, y_train_train, y_val = train_test_split(\n",
    "    X_train, y_train, shuffle=True, random_state=42, test_size=0.15, stratify=y_train\n",
    ")\n",
    "\n",
    "kfold = StratifiedKFold(n_splits=5,\n",
    "                           shuffle=True,\n",
    "                           random_state=42)\n",
    "kfold.get_n_splits(X_train,y_train)\n",
    "\n",
    "\n",
    "SVC_pipe = Pipeline([('scale', StandardScaler()), ('SVC', SVC(kernel = 'rbf', C=10, probability=True))])\n",
    "\n",
    "for i, (train_index, test_index) in enumerate(kfold.split(X_train, y_train)):\n",
    "    ## get the kfold training data\n",
    "    X_train_train = X_train.iloc[train_index, :]\n",
    "    y_train_train = y_train.iloc[train_index]\n",
    "\n",
    "    ## get the holdout data\n",
    "    X_holdout = X_train.iloc[test_index, :]\n",
    "    y_holdout = y_train.iloc[test_index]\n",
    "\n",
    "    ## Fit model\n",
    "    SVC_pipe.fit(X_train_train, y_train_train)\n",
    "\n",
    "    ## Use model to generate predictions on the holdout set\n",
    "    pred = SVC_pipe.predict(X_holdout)\n",
    "\n",
    "print(accuracy_score(y_holdout, \n",
    "               pred))\n",
    "\n",
    "\n",
    "scores = cross_val_score(\n",
    "    SVC_pipe, X_holdout, y_holdout,\n",
    "    cv=kfold,\n",
    "    scoring=make_scorer(balanced_accuracy_score),\n",
    "    n_jobs=-1\n",
    ")\n",
    "\n",
    "print(f\"CV balanced accuracy (holdout): {scores.mean():.3f} ± {scores.std():.3f}\")"
   ]
  },
  {
   "cell_type": "code",
   "execution_count": 54,
   "id": "23104f8e",
   "metadata": {},
   "outputs": [
    {
     "data": {
      "text/plain": [
       "np.float64(0.6974921630094043)"
      ]
     },
     "execution_count": 54,
     "metadata": {},
     "output_type": "execute_result"
    }
   ],
   "source": [
    "roc_auc_score(y_holdout, SVC_pipe.decision_function(X_holdout))"
   ]
  }
 ],
 "metadata": {
  "kernelspec": {
   "display_name": "erdos_summer_2025",
   "language": "python",
   "name": "python3"
  },
  "language_info": {
   "codemirror_mode": {
    "name": "ipython",
    "version": 3
   },
   "file_extension": ".py",
   "mimetype": "text/x-python",
   "name": "python",
   "nbconvert_exporter": "python",
   "pygments_lexer": "ipython3",
   "version": "3.12.10"
  }
 },
 "nbformat": 4,
 "nbformat_minor": 5
}
