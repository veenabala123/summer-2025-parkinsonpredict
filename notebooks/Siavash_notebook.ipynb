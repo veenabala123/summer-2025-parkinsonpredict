{
 "cells": [
  {
   "cell_type": "code",
   "execution_count": 1,
   "id": "aaf37f08",
   "metadata": {},
   "outputs": [],
   "source": [
    "import pandas as pd\n",
    "import numpy as np\n",
    "import sys, os"
   ]
  },
  {
   "cell_type": "code",
   "execution_count": 2,
   "id": "7297b244",
   "metadata": {},
   "outputs": [
    {
     "name": "stdout",
     "output_type": "stream",
     "text": [
      "       PATNO EVENT_ID  MRIRSLT  lh_MeanThickness  rh_MeanThickness  \\\n",
      "0     3000.0       BL      2.0           2.30500           2.32243   \n",
      "1     3001.0       BL      2.0           2.31882           2.28570   \n",
      "2     3002.0       BL      2.0           2.48731           2.45438   \n",
      "3     3003.0       BL      1.0           2.47113           2.41209   \n",
      "4     3004.0       BL      2.0           2.46058           2.39909   \n",
      "...      ...      ...      ...               ...               ...   \n",
      "1660     NaN      NaN      NaN               NaN               NaN   \n",
      "1661     NaN      NaN      NaN               NaN               NaN   \n",
      "1662     NaN      NaN      NaN               NaN               NaN   \n",
      "1663     NaN      NaN      NaN               NaN               NaN   \n",
      "1664     NaN      NaN      NaN               NaN               NaN   \n",
      "\n",
      "      lh_WhiteSurfArea  rh_WhiteSurfArea  rhCerebralWhiteMatterVol  \\\n",
      "0              87201.1           88045.1                  249418.0   \n",
      "1              94296.6           94841.0                  285398.0   \n",
      "2              75326.3           75975.8                  211670.0   \n",
      "3              82333.1           84621.6                  258335.0   \n",
      "4              87029.4           89305.1                  272182.0   \n",
      "...                ...               ...                       ...   \n",
      "1660               NaN               NaN                       NaN   \n",
      "1661               NaN               NaN                       NaN   \n",
      "1662               NaN               NaN                       NaN   \n",
      "1663               NaN               NaN                       NaN   \n",
      "1664               NaN               NaN                       NaN   \n",
      "\n",
      "      lhCerebralWhiteMatterVol  Left_Cerebellum_White_Matter  \\\n",
      "0                     248312.0                       12763.6   \n",
      "1                     279750.0                       18154.5   \n",
      "2                     213644.0                       11748.5   \n",
      "3                     252510.0                       14778.5   \n",
      "4                     268029.0                       15660.8   \n",
      "...                        ...                           ...   \n",
      "1660                       NaN                           NaN   \n",
      "1661                       NaN                           NaN   \n",
      "1662                       NaN                           NaN   \n",
      "1663                       NaN                           NaN   \n",
      "1664                       NaN                           NaN   \n",
      "\n",
      "      Right_Cerebellum_White_Matter  CerebralWhiteMatterVol  rhSurfaceHoles  \\\n",
      "0                           11125.5                497730.0             9.0   \n",
      "1                           16515.1                565148.0            13.0   \n",
      "2                           11807.5                425313.0            15.0   \n",
      "3                           15223.8                510845.0             7.0   \n",
      "4                           14517.1                540211.0             8.0   \n",
      "...                             ...                     ...             ...   \n",
      "1660                            NaN                     NaN             NaN   \n",
      "1661                            NaN                     NaN             NaN   \n",
      "1662                            NaN                     NaN             NaN   \n",
      "1663                            NaN                     NaN             NaN   \n",
      "1664                            NaN                     NaN             NaN   \n",
      "\n",
      "      lhSurfaceHoles  \n",
      "0               14.0  \n",
      "1               13.0  \n",
      "2                8.0  \n",
      "3                9.0  \n",
      "4               13.0  \n",
      "...              ...  \n",
      "1660             NaN  \n",
      "1661             NaN  \n",
      "1662             NaN  \n",
      "1663             NaN  \n",
      "1664             NaN  \n",
      "\n",
      "[1665 rows x 14 columns]\n"
     ]
    }
   ],
   "source": [
    "directory_path = '../../../Data_sets/Quick_Start/complete_data/'\n",
    "path_list = [\"gene_expression_summary.csv\",\"MDS_UPDRS_III_filtered_with_event.csv\",\n",
    "             \"PDMRI_Clean_Merged_6_13_25.csv\"]\n",
    "\n",
    "for i in range(len(path_list)):\n",
    "            path_list[i] = directory_path + path_list[i]\n",
    "\n",
    "df_list = []\n",
    "\n",
    "for s in path_list:\n",
    "    i = path_list.index(s)\n",
    "    D = pd.read_csv(s)\n",
    "    df_list.append(D)\n",
    "\n",
    "print(df_list[2])"
   ]
  }
 ],
 "metadata": {
  "kernelspec": {
   "display_name": "erdos_summer_2025",
   "language": "python",
   "name": "python3"
  },
  "language_info": {
   "codemirror_mode": {
    "name": "ipython",
    "version": 3
   },
   "file_extension": ".py",
   "mimetype": "text/x-python",
   "name": "python",
   "nbconvert_exporter": "python",
   "pygments_lexer": "ipython3",
   "version": "3.12.10"
  }
 },
 "nbformat": 4,
 "nbformat_minor": 5
}
