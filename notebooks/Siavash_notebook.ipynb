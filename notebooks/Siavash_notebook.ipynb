{
 "cells": [
  {
   "cell_type": "code",
   "execution_count": 5,
   "id": "aaf37f08",
   "metadata": {},
   "outputs": [],
   "source": [
    "import pandas as pd\n",
    "import numpy as np\n",
    "import matplotlib.pyplot as plt\n",
    "import sys, os\n",
    "\n",
    "sys.path.append(\"../src\")  # adjust path as needed\n",
    "from read_Parkinsonpredict import ReadData, LoadData\n",
    "from ml_models import MlModels"
   ]
  },
  {
   "cell_type": "code",
   "execution_count": 24,
   "id": "7297b244",
   "metadata": {},
   "outputs": [
    {
     "name": "stderr",
     "output_type": "stream",
     "text": [
      "/var/folders/zb/s9y25xv57sd631cqzphbhf4r0000gn/T/ipykernel_69332/511909534.py:19: DtypeWarning: Columns (16,21) have mixed types. Specify dtype option on import or set low_memory=False.\n",
      "  df_UPDRS_III = pd.read_csv(path + \"MDS-UPDRS_Part_III_12Jun2025.csv\")\n"
     ]
    },
    {
     "name": "stdout",
     "output_type": "stream",
     "text": [
      "Index(['REC_ID', 'PATNO', 'EVENT_ID', 'PAG_NAME', 'INFODT', 'PDTRTMNT',\n",
      "       'PDSTATE', 'HRPOSTMED', 'HRDBSON', 'HRDBSOFF', 'PDMEDYN', 'DBSYN',\n",
      "       'ONOFFORDER', 'OFFEXAM', 'OFFNORSN', 'DBSOFFYN', 'DBSOFFTM', 'ONEXAM',\n",
      "       'ONNORSN', 'HIFUYN', 'DBSONYN', 'DBSONTM', 'PDMEDDT', 'PDMEDTM',\n",
      "       'EXAMDT', 'EXAMTM', 'NP3SPCH', 'NP3FACXP', 'NP3RIGN', 'NP3RIGRU',\n",
      "       'NP3RIGLU', 'NP3RIGRL', 'NP3RIGLL', 'NP3FTAPR', 'NP3FTAPL', 'NP3HMOVR',\n",
      "       'NP3HMOVL', 'NP3PRSPR', 'NP3PRSPL', 'NP3TTAPR', 'NP3TTAPL', 'NP3LGAGR',\n",
      "       'NP3LGAGL', 'NP3RISNG', 'NP3GAIT', 'NP3FRZGT', 'NP3PSTBL', 'NP3POSTR',\n",
      "       'NP3BRADY', 'NP3PTRMR', 'NP3PTRML', 'NP3KTRMR', 'NP3KTRML', 'NP3RTARU',\n",
      "       'NP3RTALU', 'NP3RTARL', 'NP3RTALL', 'NP3RTALJ', 'NP3RTCON', 'NP3TOT',\n",
      "       'DYSKPRES', 'DYSKIRAT', 'NHY', 'ORIG_ENTRY', 'LAST_UPDATE'],\n",
      "      dtype='object')\n"
     ]
    }
   ],
   "source": [
    "directory_path = '../../../Data_sets/Quick_Start/complete_data/'\n",
    "path = '../../../Data_sets/Quick_Start/Data/'\n",
    "\n",
    "path_list = [\"gene_expression_summary.csv\",\"MDS_UPDRS_III_filtered_with_event.csv\",\n",
    "             \"PDMRI_Clean_Merged_6_13_25.csv\"]\n",
    "\n",
    "for i in range(len(path_list)):\n",
    "            path_list[i] = directory_path + path_list[i]\n",
    "\n",
    "df_list = []\n",
    "\n",
    "for s in path_list:\n",
    "    i = path_list.index(s)\n",
    "    D = pd.read_csv(s)\n",
    "    df_list.append(D)\n",
    "\n",
    "#print(df_list[1])\n",
    "\n",
    "df_UPDRS_III = pd.read_csv(path + \"MDS-UPDRS_Part_III_12Jun2025.csv\")\n",
    "df_UPDRS_IV = pd.read_csv(path + \"MDS-UPDRS_Part_IV__Motor_Complications_12Jun2025.csv\")\n",
    "df_UPDRS_I = pd.read_csv(path + \"MDS-UPDRS_Part_I_12Jun2025.csv\")\n",
    "print(df_UPDRS_III.columns)  "
   ]
  },
  {
   "cell_type": "code",
   "execution_count": 7,
   "id": "77640d65",
   "metadata": {},
   "outputs": [],
   "source": [
    "from functools import reduce\n",
    "\n",
    "merged_df = reduce(\n",
    "    lambda left, right: pd.merge(\n",
    "        left, right, on=['PATNO', 'EVENT_ID'], how='inner', suffixes=('', '_drop')\n",
    "    ),\n",
    "    df_list\n",
    ")\n",
    "\n",
    "merged_df = merged_df.drop(columns=['NHY_drop'])"
   ]
  },
  {
   "cell_type": "code",
   "execution_count": 8,
   "id": "5004832d",
   "metadata": {},
   "outputs": [
    {
     "name": "stdout",
     "output_type": "stream",
     "text": [
      "['BL']\n",
      "<class 'pandas.core.frame.DataFrame'>\n",
      "RangeIndex: 374 entries, 0 to 373\n",
      "Data columns (total 26 columns):\n",
      " #   Column                         Non-Null Count  Dtype  \n",
      "---  ------                         --------------  -----  \n",
      " 0   PATNO                          374 non-null    int64  \n",
      " 1   EVENT_ID                       374 non-null    object \n",
      " 2   ENSG00000188906                374 non-null    float64\n",
      " 3   ENSG00000185345                374 non-null    float64\n",
      " 4   ENSG00000158828                374 non-null    float64\n",
      " 5   ENSG00000145335                374 non-null    float64\n",
      " 6   ENSG00000159082                374 non-null    float64\n",
      " 7   ENSG00000116288                374 non-null    float64\n",
      " 8   ENSG00000116675                374 non-null    float64\n",
      " 9   ENSG00000177628                374 non-null    float64\n",
      " 10  ENSG00000100225                374 non-null    float64\n",
      " 11  ENSG00000184381                374 non-null    float64\n",
      " 12  NHY                            374 non-null    float64\n",
      " 13  Origin_of_entry                374 non-null    object \n",
      " 14  MRIRSLT                        374 non-null    float64\n",
      " 15  lh_MeanThickness               374 non-null    float64\n",
      " 16  rh_MeanThickness               374 non-null    float64\n",
      " 17  lh_WhiteSurfArea               374 non-null    float64\n",
      " 18  rh_WhiteSurfArea               374 non-null    float64\n",
      " 19  rhCerebralWhiteMatterVol       374 non-null    float64\n",
      " 20  lhCerebralWhiteMatterVol       374 non-null    float64\n",
      " 21  Left_Cerebellum_White_Matter   374 non-null    float64\n",
      " 22  Right_Cerebellum_White_Matter  374 non-null    float64\n",
      " 23  CerebralWhiteMatterVol         374 non-null    float64\n",
      " 24  rhSurfaceHoles                 374 non-null    float64\n",
      " 25  lhSurfaceHoles                 374 non-null    float64\n",
      "dtypes: float64(23), int64(1), object(2)\n",
      "memory usage: 76.1+ KB\n",
      "None\n",
      "               PATNO EVENT_ID  ENSG00000188906  ENSG00000185345  \\\n",
      "count     374.000000      374       374.000000       374.000000   \n",
      "unique           NaN        1              NaN              NaN   \n",
      "top              NaN       BL              NaN              NaN   \n",
      "freq             NaN      374              NaN              NaN   \n",
      "mean     6429.748663      NaN       207.963247         4.875571   \n",
      "std     13120.345713      NaN        78.622690         2.383477   \n",
      "min      3000.000000      NaN        39.883400         0.361891   \n",
      "25%      3320.500000      NaN       154.357750         3.104538   \n",
      "50%      3602.000000      NaN       202.899000         4.618100   \n",
      "75%      3904.750000      NaN       259.454000         6.259478   \n",
      "max     92834.000000      NaN       470.750000        13.732900   \n",
      "\n",
      "        ENSG00000158828  ENSG00000145335  ENSG00000159082  ENSG00000116288  \\\n",
      "count        374.000000       374.000000       374.000000       374.000000   \n",
      "unique              NaN              NaN              NaN              NaN   \n",
      "top                 NaN              NaN              NaN              NaN   \n",
      "freq                NaN              NaN              NaN              NaN   \n",
      "mean          21.775218       732.837122        18.493756        44.697079   \n",
      "std            9.561500       475.276744         5.606237        13.102443   \n",
      "min            3.498360        91.346700         3.365450         9.930270   \n",
      "25%           15.380875       378.185250        15.130200        36.438625   \n",
      "50%           20.221100       620.213000        18.705550        43.585950   \n",
      "75%           26.906425       940.986250        21.735450        51.557850   \n",
      "max           60.187100      2953.630000        37.629100       110.303000   \n",
      "\n",
      "        ENSG00000116675  ENSG00000177628  ...  rh_MeanThickness  \\\n",
      "count        374.000000       374.000000  ...        374.000000   \n",
      "unique              NaN              NaN  ...               NaN   \n",
      "top                 NaN              NaN  ...               NaN   \n",
      "freq                NaN              NaN  ...               NaN   \n",
      "mean           4.646099         3.852578  ...          2.340018   \n",
      "std            5.757231         1.760443  ...          0.188848   \n",
      "min            0.666783         0.870590  ...          1.544100   \n",
      "25%            2.425310         2.745965  ...          2.280082   \n",
      "50%            3.531395         3.388925  ...          2.379275   \n",
      "75%            5.370640         4.571957  ...          2.453725   \n",
      "max           92.464400        12.918900  ...          2.665090   \n",
      "\n",
      "        lh_WhiteSurfArea  rh_WhiteSurfArea rhCerebralWhiteMatterVol  \\\n",
      "count         374.000000        374.000000               374.000000   \n",
      "unique               NaN               NaN                      NaN   \n",
      "top                  NaN               NaN                      NaN   \n",
      "freq                 NaN               NaN                      NaN   \n",
      "mean        85048.329947      85031.150000            258275.227273   \n",
      "std          7972.981781       7898.853233             51787.673417   \n",
      "min         64322.600000      62867.300000            174076.000000   \n",
      "25%         79663.400000      79418.975000            228367.250000   \n",
      "50%         84701.050000      84654.200000            248766.500000   \n",
      "75%         90226.750000      89985.275000            273084.750000   \n",
      "max        111841.000000     113294.000000            545978.000000   \n",
      "\n",
      "        lhCerebralWhiteMatterVol  Left_Cerebellum_White_Matter  \\\n",
      "count                 374.000000                    374.000000   \n",
      "unique                       NaN                           NaN   \n",
      "top                          NaN                           NaN   \n",
      "freq                         NaN                           NaN   \n",
      "mean               259021.288770                  15611.710963   \n",
      "std                 51300.487487                   3066.143950   \n",
      "min                170758.000000                   6692.600000   \n",
      "25%                229001.250000                  13756.625000   \n",
      "50%                249310.500000                  15326.100000   \n",
      "75%                273850.750000                  17161.600000   \n",
      "max                537496.000000                  29617.600000   \n",
      "\n",
      "        Right_Cerebellum_White_Matter  CerebralWhiteMatterVol  rhSurfaceHoles  \\\n",
      "count                      374.000000            3.740000e+02      374.000000   \n",
      "unique                            NaN                     NaN             NaN   \n",
      "top                               NaN                     NaN             NaN   \n",
      "freq                              NaN                     NaN             NaN   \n",
      "mean                     14913.467647            5.172965e+05       11.205882   \n",
      "std                       2574.930958            1.029662e+05       18.847998   \n",
      "min                       5357.300000            3.463700e+05        0.000000   \n",
      "25%                      13315.975000            4.570728e+05        3.000000   \n",
      "50%                      14611.200000            4.973665e+05        6.000000   \n",
      "75%                      16433.975000            5.467755e+05       10.000000   \n",
      "max                      25458.600000            1.083470e+06      130.000000   \n",
      "\n",
      "        lhSurfaceHoles  \n",
      "count       374.000000  \n",
      "unique             NaN  \n",
      "top                NaN  \n",
      "freq               NaN  \n",
      "mean         12.537433  \n",
      "std          21.240294  \n",
      "min           0.000000  \n",
      "25%           4.000000  \n",
      "50%           6.000000  \n",
      "75%          12.000000  \n",
      "max         151.000000  \n",
      "\n",
      "[11 rows x 26 columns]\n"
     ]
    }
   ],
   "source": [
    "print(merged_df.EVENT_ID.unique())\n",
    "print(merged_df.info())\n",
    "print(merged_df.describe(include='all'))"
   ]
  },
  {
   "cell_type": "code",
   "execution_count": 10,
   "id": "ba162948",
   "metadata": {},
   "outputs": [
    {
     "name": "stdout",
     "output_type": "stream",
     "text": [
      "Is PATNO sorted?: True\n",
      "Do we have all unique patients?: Yes\n",
      "The train and test data is split according to 80.0 - 20.0%\n"
     ]
    }
   ],
   "source": [
    "loaddata = LoadData(input_path=directory_path)\n",
    "X_train, Y_train = loaddata.merged_data()"
   ]
  },
  {
   "cell_type": "code",
   "execution_count": 17,
   "id": "22776aca",
   "metadata": {},
   "outputs": [
    {
     "name": "stdout",
     "output_type": "stream",
     "text": [
      "Index(['lh_MeanThickness', 'rh_MeanThickness', 'lh_WhiteSurfArea',\n",
      "       'rh_WhiteSurfArea', 'rhCerebralWhiteMatterVol',\n",
      "       'lhCerebralWhiteMatterVol', 'Left_Cerebellum_White_Matter',\n",
      "       'Right_Cerebellum_White_Matter', 'CerebralWhiteMatterVol',\n",
      "       'rhSurfaceHoles', 'lhSurfaceHoles', 'ENSG00000188906',\n",
      "       'ENSG00000185345', 'ENSG00000158828', 'ENSG00000145335',\n",
      "       'ENSG00000159082', 'ENSG00000116288', 'ENSG00000116675',\n",
      "       'ENSG00000177628', 'ENSG00000100225', 'ENSG00000184381'],\n",
      "      dtype='object')\n",
      "Index(['NHY'], dtype='object')\n"
     ]
    }
   ],
   "source": [
    "print(X_train.columns)\n",
    "print(Y_train.columns)"
   ]
  },
  {
   "cell_type": "code",
   "execution_count": null,
   "id": "77cb02f6",
   "metadata": {},
   "outputs": [],
   "source": []
  },
  {
   "cell_type": "code",
   "execution_count": null,
   "id": "57f1fff8",
   "metadata": {},
   "outputs": [],
   "source": []
  },
  {
   "cell_type": "markdown",
   "id": "5f18142c",
   "metadata": {},
   "source": []
  },
  {
   "cell_type": "markdown",
   "id": "44c6f45c",
   "metadata": {},
   "source": [
    "## Practice cells below"
   ]
  },
  {
   "cell_type": "markdown",
   "id": "f2daccee",
   "metadata": {},
   "source": [
    "### Commented cell\n",
    "\n",
    "1. MRI score vs NHY\n",
    "\n",
    "D = merged_df.MRIRSLT-merged_df.NHY\n",
    "plt.figure(figsize=(8, 5))\n",
    "plt.hist(D, bins=20, color='skyblue', edgecolor='black')\n",
    "plt.xlabel('NHY - MRIRSLT')\n",
    "plt.ylabel('Frequency')\n",
    "plt.title('Histogram of NHY and MRIRSLT Differences')\n",
    "plt.tight_layout()\n",
    "plt.show()\n",
    "\n",
    "1. MRI measurements vs NHY\n",
    "\n",
    "cols_to_plot = [col for col in merged_df.columns if col.lower().endswith('_meanthickness') or \n",
    "                col.lower().endswith('_whitesurfarea')]\n",
    "\n",
    "fig, axes = plt.subplots(2, 2, figsize=(12, 10))\n",
    "axes = axes.flatten()\n",
    "\n",
    "for idx, col in enumerate(cols_to_plot):\n",
    "    scatter = axes[idx].scatter(\n",
    "        merged_df[col], merged_df['MRIRSLT'],\n",
    "        c=merged_df['NHY'], cmap='viridis', alpha=0.7, edgecolor='k'\n",
    "    )\n",
    "    axes[idx].set_xlabel(col)\n",
    "    axes[idx].set_ylabel('MRIRSLT')\n",
    "    axes[idx].set_title(f'{col} vs MRIRSLT')\n",
    "    cbar = fig.colorbar(scatter, ax=axes[idx])\n",
    "    cbar.set_label('NHY')\n",
    "\n",
    "plt.tight_layout()\n",
    "plt.show()"
   ]
  },
  {
   "cell_type": "code",
   "execution_count": 72,
   "id": "a241b1a7",
   "metadata": {},
   "outputs": [],
   "source": [
    "from sklearn.neighbors import KNeighborsClassifier\n",
    "from sklearn.model_selection import train_test_split\n",
    "from sklearn.metrics import classification_report, accuracy_score"
   ]
  },
  {
   "cell_type": "code",
   "execution_count": null,
   "id": "7a1628a4",
   "metadata": {
    "vscode": {
     "languageId": "shellscript"
    }
   },
   "outputs": [],
   "source": [
    "Feature_columns = [\"PATNO\", \"MRIRSLT\" ]\n",
    "#Feature_columns = [\"PATNO\", \"ENSG00000188906\", \"ENSG00000185345\", \"ENSG00000158828\", \"ENSG00000145335\", \"ENSG00000159082\",\"ENSG00000116288\", \"ENSG00000116675\", \"ENSG00000177628\",\"ENSG00000100225\", \"ENSG00000184381\",\"MRIRSLT\" ]\n",
    "# \"lh_MeanThickness\",\"rh_MeanThickness\", \"lh_WhiteSurfArea\",\"rh_WhiteSurfArea\", \"rhCerebralWhiteMatterVol\""
   ]
  },
  {
   "cell_type": "code",
   "execution_count": null,
   "id": "3bf91961",
   "metadata": {},
   "outputs": [
    {
     "name": "stdout",
     "output_type": "stream",
     "text": [
      "              precision    recall  f1-score   support\n",
      "\n",
      "         0.0       0.50      0.54      0.52        28\n",
      "         1.0       0.50      0.45      0.47        20\n",
      "         2.0       0.44      0.44      0.44        27\n",
      "\n",
      "    accuracy                           0.48        75\n",
      "   macro avg       0.48      0.48      0.48        75\n",
      "weighted avg       0.48      0.48      0.48        75\n",
      "\n",
      "Accuracy: 0.48\n"
     ]
    }
   ],
   "source": [
    "X = merged_df[Feature_columns]\n",
    "y = merged_df['NHY']\n",
    "\n",
    "X_train, X_test, y_train, y_test = train_test_split(\n",
    "    X, y, test_size=0.2, random_state=142, stratify=y\n",
    ")\n",
    "\n",
    "knn = KNeighborsClassifier(n_neighbors=5)\n",
    "knn.fit(X_train, y_train)\n",
    "\n",
    "\n",
    "y_pred = knn.predict(X_test)\n",
    "\n",
    "\n",
    "print(classification_report(y_test, y_pred))\n",
    "print(\"Accuracy:\", accuracy_score(y_test, y_pred))"
   ]
  },
  {
   "cell_type": "code",
   "execution_count": null,
   "id": "1e5ba32b",
   "metadata": {},
   "outputs": [],
   "source": []
  }
 ],
 "metadata": {
  "kernelspec": {
   "display_name": "erdos_summer_2025",
   "language": "python",
   "name": "python3"
  },
  "language_info": {
   "codemirror_mode": {
    "name": "ipython",
    "version": 3
   },
   "file_extension": ".py",
   "mimetype": "text/x-python",
   "name": "python",
   "nbconvert_exporter": "python",
   "pygments_lexer": "ipython3",
   "version": "3.12.10"
  }
 },
 "nbformat": 4,
 "nbformat_minor": 5
}
