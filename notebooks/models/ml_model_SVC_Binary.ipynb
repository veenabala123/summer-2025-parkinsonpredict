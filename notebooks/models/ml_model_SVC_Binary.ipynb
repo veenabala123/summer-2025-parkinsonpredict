{
 "cells": [
  {
   "cell_type": "code",
   "execution_count": 2,
   "id": "2df3c1a0",
   "metadata": {},
   "outputs": [],
   "source": [
    "import numpy as np\n",
    "import pandas as pd\n",
    "import matplotlib.pyplot as plt\n",
    "from seaborn import set_style\n",
    "from sklearn.model_selection import train_test_split, StratifiedKFold, cross_val_score\n",
    "from sklearn.pipeline import Pipeline\n",
    "from sklearn.preprocessing import StandardScaler\n",
    "from sklearn.metrics import accuracy_score, classification_report,balanced_accuracy_score, ConfusionMatrixDisplay, make_scorer, roc_auc_score\n",
    "from sklearn.svm import SVC"
   ]
  },
  {
   "cell_type": "code",
   "execution_count": 8,
   "id": "936d83fc",
   "metadata": {},
   "outputs": [],
   "source": [
    "merged_final = pd.read_csv(\"C:/Users/dcsor/Desktop/Parkinson's Project/merged_all.csv\")\n",
    "merged_final = merged_final.dropna()\n",
    "merged_final.loc[:,\"GENDER_MAPPED\"] = merged_final[\"GENDER\"].map({\"Male\": 0, \"Female\": 1})\n"
   ]
  },
  {
   "cell_type": "code",
   "execution_count": 9,
   "id": "ddbc0e39",
   "metadata": {},
   "outputs": [],
   "source": [
    "\n",
    "nhy_map = {0:0,1:1,2:1,3:1,4:1,5:1}\n",
    "merged_final.loc[:,\"NHY_MAPPED\"] = merged_final[\"NHY\"].map(nhy_map)\n",
    "target_col = \"NHY_MAPPED\""
   ]
  },
  {
   "cell_type": "code",
   "execution_count": 10,
   "id": "98d753e7",
   "metadata": {},
   "outputs": [
    {
     "name": "stdout",
     "output_type": "stream",
     "text": [
      "X shape: (712, 3)\n",
      "y shape: (712,)\n"
     ]
    }
   ],
   "source": [
    "cols_to_include = [\"GENDER_MAPPED\",\"AGE\",\"EDUC_YRS\"]\n",
    "feature_cols_demo = merged_final.columns.intersection(cols_to_include)\n",
    "X_demo = merged_final[feature_cols_demo]\n",
    "y = merged_final[target_col]\n",
    "print(\"X shape:\", X_demo.shape)\n",
    "print(\"y shape:\", y.shape)"
   ]
  },
  {
   "cell_type": "markdown",
   "id": "3af09da6",
   "metadata": {},
   "source": [
    "Demographic Data Only\n"
   ]
  },
  {
   "cell_type": "code",
   "execution_count": 12,
   "id": "078420d1",
   "metadata": {},
   "outputs": [
    {
     "name": "stdout",
     "output_type": "stream",
     "text": [
      "X shape: (712, 3)\n",
      "y shape: (712,)\n"
     ]
    }
   ],
   "source": [
    "cols_to_include = [\"GENDER_MAPPED\",\"AGE\",\"EDUC_YRS\"]\n",
    "feature_cols_demo = merged_final.columns.intersection(cols_to_include)\n",
    "X_demo = merged_final[feature_cols_demo]\n",
    "y = merged_final[target_col]\n",
    "print(\"X shape:\", X_demo.shape)\n",
    "print(\"y shape:\", y.shape)"
   ]
  },
  {
   "cell_type": "code",
   "execution_count": 13,
   "id": "9f7e8382",
   "metadata": {},
   "outputs": [
    {
     "name": "stdout",
     "output_type": "stream",
     "text": [
      "CV balanced accuracy (train): 0.518 ± 0.039\n"
     ]
    }
   ],
   "source": [
    "X_train, X_test, y_train, y_test = train_test_split(\n",
    "    X_demo, y, test_size=0.2, stratify=y, random_state=42\n",
    ")\n",
    "pipeline =  Pipeline([('scale', StandardScaler()), ('SVC', SVC(kernel = 'rbf', C=10, probability= True))])\n",
    "\n",
    "cv = StratifiedKFold(n_splits=5, shuffle=True, random_state=42)\n",
    "scores = cross_val_score(\n",
    "    pipeline, X_train, y_train,\n",
    "    cv=cv,\n",
    "    scoring=make_scorer(balanced_accuracy_score),\n",
    "    n_jobs=-1\n",
    ")\n",
    "\n",
    "print(f\"CV balanced accuracy (train): {scores.mean():.3f} ± {scores.std():.3f}\")"
   ]
  },
  {
   "cell_type": "code",
   "execution_count": null,
   "id": "0aa0f852",
   "metadata": {},
   "outputs": [],
   "source": [
    "pipeline.fit(X_train, y_train)\n",
    "y_pred = pipeline.predict(X_test)\n",
    "y_prob = pipeline.predict_proba(X_test)[:, 1]   \n",
    "\n",
    "# Evaluate\n",
    "print(\"Balanced Accuracy:\", balanced_accuracy_score(y_test, y_pred))\n",
    "print(classification_report(y_test, y_pred, target_names=[\"Asymptomatic (0)\", \"PD (1)\"]))"
   ]
  },
  {
   "cell_type": "markdown",
   "id": "d4c7313c",
   "metadata": {},
   "source": [
    "Demographic + MRI "
   ]
  },
  {
   "cell_type": "code",
   "execution_count": 14,
   "id": "ab3ad01a",
   "metadata": {},
   "outputs": [
    {
     "name": "stdout",
     "output_type": "stream",
     "text": [
      "X shape: (712, 9)\n",
      "y shape: (712,)\n"
     ]
    }
   ],
   "source": [
    "cols_to_include = [\"GENDER_MAPPED\",\"AGE\",\"EDUC_YRS\",\"lh_MeanThickness\",\"lh_WhiteSurfArea\",\"lhCerebralWhiteMatterVol\",\"Left_Cerebellum_White_Matter\",\"CerebralWhiteMatterVol\",\"lhSurfaceHoles\"]\n",
    "feature_cols_demo_mri = merged_final.columns.intersection(cols_to_include)\n",
    "X_demo_mri = merged_final[feature_cols_demo_mri]\n",
    "y = merged_final[target_col]\n",
    "print(\"X shape:\", X_demo_mri.shape)\n",
    "print(\"y shape:\", y.shape)"
   ]
  },
  {
   "cell_type": "code",
   "execution_count": 15,
   "id": "3fca9166",
   "metadata": {},
   "outputs": [
    {
     "name": "stdout",
     "output_type": "stream",
     "text": [
      "CV balanced accuracy (train): 0.543 ± 0.046\n"
     ]
    }
   ],
   "source": [
    "X_train, X_test, y_train, y_test = train_test_split(\n",
    "    X_demo_mri, y, test_size=0.2, stratify=y, random_state=42\n",
    ")\n",
    "pipeline =  Pipeline([('scale', StandardScaler()), ('SVC', SVC(kernel = 'rbf', C=10, probability= True))])\n",
    "\n",
    "cv = StratifiedKFold(n_splits=5, shuffle=True, random_state=42)\n",
    "scores = cross_val_score(\n",
    "    pipeline, X_train, y_train,\n",
    "    cv=cv,\n",
    "    scoring=make_scorer(balanced_accuracy_score),\n",
    "    n_jobs=-1\n",
    ")\n",
    "\n",
    "print(f\"CV balanced accuracy (train): {scores.mean():.3f} ± {scores.std():.3f}\")"
   ]
  },
  {
   "cell_type": "code",
   "execution_count": null,
   "id": "abd92609",
   "metadata": {},
   "outputs": [],
   "source": [
    "pipeline.fit(X_train, y_train)\n",
    "y_pred = pipeline.predict(X_test)\n",
    "y_prob = pipeline.predict_proba(X_test)[:, 1]   \n",
    "\n",
    "# Evaluate\n",
    "print(\"Balanced Accuracy:\", balanced_accuracy_score(y_test, y_pred))\n",
    "print(classification_report(y_test, y_pred, target_names=[\"Asymptomatic (0)\", \"PD (1)\"]))"
   ]
  },
  {
   "cell_type": "markdown",
   "id": "e13983d0",
   "metadata": {},
   "source": [
    "Demographics + MRI + Gene"
   ]
  },
  {
   "cell_type": "code",
   "execution_count": 16,
   "id": "6a129f39",
   "metadata": {},
   "outputs": [
    {
     "name": "stdout",
     "output_type": "stream",
     "text": [
      "X shape: (712, 108)\n",
      "y shape: (712,)\n"
     ]
    }
   ],
   "source": [
    "cols_to_exclude = [\"PATNO\",\"EVENT_ID\",\"NHY\",\"NHY_MAPPED\",\"GENDER\",\"NHY_BL\",\"MRIRSLT\",\"rh_MeanThickness\",\"rh_WhiteSurfArea\",\"rhCerebralWhiteMatterVol\",\"Right_Cerebellum_White_Matter\",\"CerebralWhiteMatterVol\",\"rhSurfaceHoles\"]\n",
    "feature_cols = merged_final.columns.difference(cols_to_exclude)\n",
    "X = merged_final[feature_cols]\n",
    "y = merged_final[target_col]\n",
    "print(\"X shape:\", X.shape)\n",
    "print(\"y shape:\", y.shape)"
   ]
  },
  {
   "cell_type": "code",
   "execution_count": 17,
   "id": "3dc4dd8d",
   "metadata": {},
   "outputs": [
    {
     "name": "stdout",
     "output_type": "stream",
     "text": [
      "CV balanced accuracy (train): 0.583 ± 0.029\n"
     ]
    }
   ],
   "source": [
    "X_train, X_test, y_train, y_test = train_test_split(\n",
    "    X, y, test_size=0.2, stratify=y, random_state=42\n",
    ")\n",
    "#selector = SelectKBest(score_func=f_classif, k=50)\n",
    "#X_train_selected = selector.fit_transform(X_train, y_train)\n",
    "#X_test_selected = selector.transform(X_test)\n",
    "#selected_genes = X.columns[selector.get_support()]\n",
    "#print(selected_genes[:50])\n",
    "pipeline =  Pipeline([('scale', StandardScaler()), ('SVC', SVC(kernel = 'rbf', C=10, probability= True))])\n",
    "\n",
    "cv = StratifiedKFold(n_splits=5, shuffle=True, random_state=42)\n",
    "scores = cross_val_score(\n",
    "    pipeline, X_train, y_train,\n",
    "    cv=cv,\n",
    "    scoring=make_scorer(balanced_accuracy_score),\n",
    "    n_jobs=-1\n",
    ")\n",
    "\n",
    "print(f\"CV balanced accuracy (train): {scores.mean():.3f} ± {scores.std():.3f}\")"
   ]
  },
  {
   "cell_type": "code",
   "execution_count": null,
   "id": "edb44953",
   "metadata": {},
   "outputs": [],
   "source": [
    "\n",
    "pipeline.fit(X_train, y_train)\n",
    "y_pred = pipeline.predict(X_test)\n",
    "y_prob = pipeline.predict_proba(X_test)[:, 1]   \n",
    "roc_auc = roc_auc_score(y_test, y_prob)\n",
    "\n",
    "print(f\"ROC-AUC: {roc_auc:.3f}\")\n",
    "\n",
    "# Optional: plot ROC curve\n",
    "RocCurveDisplay.from_predictions(y_test, y_prob)\n",
    "plt.title(\"ROC curve (binary)\")\n",
    "plt.show()\n",
    "\n",
    "# Evaluate\n",
    "print(\"Balanced Accuracy:\", balanced_accuracy_score(y_test, y_pred))\n",
    "print(classification_report(y_test, y_pred, target_names=[\"Asymptomatic (0)\", \"PD (1)\"]))\n",
    "\n",
    "# Plot confusion matrix\n",
    "ConfusionMatrixDisplay.from_predictions(y_test, y_pred, display_labels=[\"Assymptomatic (0)\", \"PD (1)\"], cmap=\"Blues\")\n",
    "plt.title(\"NHY Binary – Confusion Matrix\")\n",
    "plt.tight_layout()\n",
    "plt.show()"
   ]
  }
 ],
 "metadata": {
  "kernelspec": {
   "display_name": "erdos_summer_2025",
   "language": "python",
   "name": "python3"
  },
  "language_info": {
   "codemirror_mode": {
    "name": "ipython",
    "version": 3
   },
   "file_extension": ".py",
   "mimetype": "text/x-python",
   "name": "python",
   "nbconvert_exporter": "python",
   "pygments_lexer": "ipython3",
   "version": "3.12.10"
  }
 },
 "nbformat": 4,
 "nbformat_minor": 5
}
