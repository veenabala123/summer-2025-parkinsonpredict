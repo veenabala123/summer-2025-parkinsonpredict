{
 "cells": [
  {
   "cell_type": "code",
   "execution_count": 1,
   "id": "7d66a1e7",
   "metadata": {},
   "outputs": [],
   "source": [
    "import os,sys\n",
    "import math\n",
    "\n",
    "import numpy as np\n",
    "import scipy as sp\n",
    "import pandas as pd\n",
    "import matplotlib as mlt\n",
    "import matplotlib.pyplot as plt\n",
    "from IPython.display import HTML\n",
    "from matplotlib import animation\n",
    "from functools import reduce\n",
    "\n",
    "import seaborn as sns\n",
    "from sklearn.model_selection import train_test_split,cross_val_score, KFold, StratifiedKFold,cross_val_predict\n",
    "from sklearn.decomposition import PCA\n",
    "from sklearn.preprocessing import StandardScaler\n",
    "from sklearn.metrics import accuracy_score, classification_report, confusion_matrix\n",
    "\n",
    "sys.path.append(\"../../../src\")  # adjust path as needed\n",
    "from data_loader import LoadData\n",
    "from model import MlModels\n",
    "from evaluation import Evaluate"
   ]
  },
  {
   "cell_type": "markdown",
   "id": "57aa5356",
   "metadata": {},
   "source": [
    "### MRI and Demographic Data"
   ]
  },
  {
   "cell_type": "markdown",
   "id": "4f54d18e",
   "metadata": {},
   "source": [
    "### Load the Data"
   ]
  },
  {
   "cell_type": "code",
   "execution_count": 2,
   "id": "e94748e6",
   "metadata": {},
   "outputs": [
    {
     "name": "stdout",
     "output_type": "stream",
     "text": [
      "X shape: (712, 110), Y shape: (712, 1)\n",
      "Y class distribution: {(1.0,): 434, (0.0,): 278}\n",
      "['rh_MeanThickness', 'rh_WhiteSurfArea', 'Left_Cerebellum_White_Matter', 'Right_Cerebellum_White_Matter', 'CerebralWhiteMatterVol', 'rhSurfaceHoles', 'lhSurfaceHoles']\n"
     ]
    }
   ],
   "source": [
    "# --- Load data\n",
    "mri_data_path = \"/Users/pushpita/Documents/Erdos_bootcamp/our_project/Data/clean_data/PDMRI_Clean_Merged_6_13_25.csv\"\n",
    "gene_data_path = \"/Users/pushpita/Documents/Erdos_bootcamp/our_project/Data/clean_data/gene_expression_summary.csv\"\n",
    "nhy_latest_path = \"/Users/pushpita/Documents/Erdos_bootcamp/our_project/Data/clean_data/clean_mds_updrs.csv\"\n",
    "\n",
    "dataload_mri_cls = LoadData(input_updrs=nhy_latest_path,\n",
    "    input_gene_clinical=gene_data_path,\n",
    "    input_mri=mri_data_path,\n",
    "    mri_data=True,\n",
    "    gene_data=False,\n",
    "    group_NHY=True,\n",
    "    group_binary=True,\n",
    "    common_dataset=True,\n",
    "    stratify_splits=True)\n",
    "\n",
    "X_data, Y_data = dataload_mri_cls.merged_data()"
   ]
  },
  {
   "cell_type": "code",
   "execution_count": 3,
   "id": "e1f58b9e",
   "metadata": {},
   "outputs": [
    {
     "data": {
      "image/png": "[encoded data removed]",
      "text/plain": [
       "<Figure size 600x400 with 1 Axes>"
      ]
     },
     "metadata": {},
     "output_type": "display_data"
    }
   ],
   "source": [
    "plt.figure(figsize=(6, 4))\n",
    "sns.countplot(x='NHY', data=Y_data, hue='NHY', palette='pastel', edgecolor='black')\n",
    "plt.title(\"Distribution of NHY Scores\", fontsize=12)\n",
    "plt.xlabel(\"NHY Score\", fontsize=12)\n",
    "plt.ylabel(\"Count\", fontsize=12)\n",
    "plt.grid(axis='y', linestyle='--', alpha=0.5)\n",
    "sns.despine()\n",
    "plt.tight_layout()\n",
    "plt.show()"
   ]
  },
  {
   "cell_type": "markdown",
   "id": "600a678c",
   "metadata": {},
   "source": [
    "### Split the data"
   ]
  },
  {
   "cell_type": "code",
   "execution_count": 4,
   "id": "fe981ae7",
   "metadata": {},
   "outputs": [],
   "source": [
    "X_train, Y_train, X_cv, Y_cv, X_test, Y_test = dataload_mri_cls.data_split(X_data, Y_data)\n",
    "data = {}\n",
    "data['X_train'] = X_train\n",
    "data['Y_train'] = Y_train"
   ]
  },
  {
   "cell_type": "markdown",
   "id": "ebd19d65",
   "metadata": {},
   "source": [
    "### Logistic Regression model"
   ]
  },
  {
   "cell_type": "code",
   "execution_count": 5,
   "id": "4647c231",
   "metadata": {},
   "outputs": [
    {
     "name": "stderr",
     "output_type": "stream",
     "text": [
      "/Users/pushpita/anaconda3/envs/erdos_summer_2025/lib/python3.12/site-packages/sklearn/linear_model/_logistic.py:1917: FutureWarning: 'multi_class' was deprecated in version 1.5 and will be removed in 1.7. Use OneVsRestClassifier(LogisticRegressionCV(..)) instead. Leave it to its default value to avoid this warning.\n",
      "  warnings.warn(\n",
      "/Users/pushpita/anaconda3/envs/erdos_summer_2025/lib/python3.12/site-packages/sklearn/linear_model/_logistic.py:1917: FutureWarning: 'multi_class' was deprecated in version 1.5 and will be removed in 1.7. Use OneVsRestClassifier(LogisticRegressionCV(..)) instead. Leave it to its default value to avoid this warning.\n",
      "  warnings.warn(\n"
     ]
    }
   ],
   "source": [
    "models_list =['logistic', 'logistic_cv']\n",
    "class_weight_list = [None, 'balanced']\n",
    "models_dict = {}\n",
    "\n",
    "for mo_l in models_list:\n",
    "    for cw in class_weight_list:\n",
    "        names_ = f\"model_{mo_l}_{cw}\"\n",
    "        models_dict[names_] = (mo_l, cw)\n",
    "\n",
    "trained_models = {}\n",
    "for name, (model_type, cw) in models_dict.items():\n",
    "    if model_type == 'logistic_cv':\n",
    "        params_cv = {'cv':StratifiedKFold(n_splits=5)}\n",
    "        \n",
    "        mymodel = MlModels(model_name = model_type, \n",
    "                        data=data, params = params_cv, \n",
    "                        pca_flag=False, class_weights=cw)\n",
    "    else:\n",
    "        mymodel = MlModels(model_name = model_type, \n",
    "                        data=data, params = None, \n",
    "                        pca_flag=False, class_weights=cw)\n",
    "    mymodel.build_model()\n",
    "    trained_models[name] = mymodel\n"
   ]
  },
  {
   "cell_type": "code",
   "execution_count": 6,
   "id": "58966767",
   "metadata": {},
   "outputs": [
    {
     "name": "stdout",
     "output_type": "stream",
     "text": [
      "\n",
      "📌 Model: Logistic None\n",
      "==================================================\n",
      "\n",
      "✅ Validation Accuracy: 0.6512\n",
      "\n",
      "📋 Classification Report:\n",
      "╒══════════════╤═════════════╤══════════╤════════════╤═══════════╕\n",
      "│              │   precision │   recall │   f1-score │   support │\n",
      "╞══════════════╪═════════════╪══════════╪════════════╪═══════════╡\n",
      "│ 0.0          │       0.667 │    0.235 │      0.348 │    34     │\n",
      "├──────────────┼─────────────┼──────────┼────────────┼───────────┤\n",
      "│ 1.0          │       0.649 │    0.923 │      0.762 │    52     │\n",
      "├──────────────┼─────────────┼──────────┼────────────┼───────────┤\n",
      "│ accuracy     │       0.651 │    0.651 │      0.651 │     0.651 │\n",
      "├──────────────┼─────────────┼──────────┼────────────┼───────────┤\n",
      "│ macro avg    │       0.658 │    0.579 │      0.555 │    86     │\n",
      "├──────────────┼─────────────┼──────────┼────────────┼───────────┤\n",
      "│ weighted avg │       0.656 │    0.651 │      0.598 │    86     │\n",
      "╘══════════════╧═════════════╧══════════╧════════════╧═══════════╛\n",
      "\n",
      "🧩 Confusion Matrix:\n",
      "╒═══╤═══╤════╕\n",
      "│ 0 │ 8 │ 26 │\n",
      "├───┼───┼────┤\n",
      "│ 1 │ 4 │ 48 │\n",
      "╘═══╧═══╧════╛\n",
      "\n",
      "📌 Model: Logistic Balanced\n",
      "==================================================\n",
      "\n",
      "✅ Validation Accuracy: 0.5581\n",
      "\n",
      "📋 Classification Report:\n",
      "╒══════════════╤═════════════╤══════════╤════════════╤═══════════╕\n",
      "│              │   precision │   recall │   f1-score │   support │\n",
      "╞══════════════╪═════════════╪══════════╪════════════╪═══════════╡\n",
      "│ 0.0          │       0.458 │    0.647 │      0.537 │    34     │\n",
      "├──────────────┼─────────────┼──────────┼────────────┼───────────┤\n",
      "│ 1.0          │       0.684 │    0.5   │      0.578 │    52     │\n",
      "├──────────────┼─────────────┼──────────┼────────────┼───────────┤\n",
      "│ accuracy     │       0.558 │    0.558 │      0.558 │     0.558 │\n",
      "├──────────────┼─────────────┼──────────┼────────────┼───────────┤\n",
      "│ macro avg    │       0.571 │    0.574 │      0.557 │    86     │\n",
      "├──────────────┼─────────────┼──────────┼────────────┼───────────┤\n",
      "│ weighted avg │       0.595 │    0.558 │      0.561 │    86     │\n",
      "╘══════════════╧═════════════╧══════════╧════════════╧═══════════╛\n",
      "\n",
      "🧩 Confusion Matrix:\n",
      "╒═══╤════╤════╕\n",
      "│ 0 │ 22 │ 12 │\n",
      "├───┼────┼────┤\n",
      "│ 1 │ 26 │ 26 │\n",
      "╘═══╧════╧════╛\n",
      "\n",
      "📌 Model: Logistic Cv None\n",
      "==================================================\n",
      "\n",
      "✅ Validation Accuracy: 0.6047\n",
      "\n",
      "📋 Classification Report:\n",
      "╒══════════════╤═════════════╤══════════╤════════════╤═══════════╕\n",
      "│              │   precision │   recall │   f1-score │   support │\n",
      "╞══════════════╪═════════════╪══════════╪════════════╪═══════════╡\n",
      "│ 0.0          │       0     │    0     │      0     │    34     │\n",
      "├──────────────┼─────────────┼──────────┼────────────┼───────────┤\n",
      "│ 1.0          │       0.605 │    1     │      0.754 │    52     │\n",
      "├──────────────┼─────────────┼──────────┼────────────┼───────────┤\n",
      "│ accuracy     │       0.605 │    0.605 │      0.605 │     0.605 │\n",
      "├──────────────┼─────────────┼──────────┼────────────┼───────────┤\n",
      "│ macro avg    │       0.302 │    0.5   │      0.377 │    86     │\n",
      "├──────────────┼─────────────┼──────────┼────────────┼───────────┤\n",
      "│ weighted avg │       0.366 │    0.605 │      0.456 │    86     │\n",
      "╘══════════════╧═════════════╧══════════╧════════════╧═══════════╛\n",
      "\n",
      "🧩 Confusion Matrix:\n",
      "╒═══╤═══╤════╕\n",
      "│ 0 │ 0 │ 34 │\n",
      "├───┼───┼────┤\n",
      "│ 1 │ 0 │ 52 │\n",
      "╘═══╧═══╧════╛\n",
      "\n",
      "📌 Model: Logistic Cv Balanced\n",
      "==================================================\n",
      "\n",
      "✅ Validation Accuracy: 0.5581\n",
      "\n",
      "📋 Classification Report:\n",
      "╒══════════════╤═════════════╤══════════╤════════════╤═══════════╕\n",
      "│              │   precision │   recall │   f1-score │   support │\n",
      "╞══════════════╪═════════════╪══════════╪════════════╪═══════════╡\n",
      "│ 0.0          │       0.458 │    0.647 │      0.537 │    34     │\n",
      "├──────────────┼─────────────┼──────────┼────────────┼───────────┤\n",
      "│ 1.0          │       0.684 │    0.5   │      0.578 │    52     │\n",
      "├──────────────┼─────────────┼──────────┼────────────┼───────────┤\n",
      "│ accuracy     │       0.558 │    0.558 │      0.558 │     0.558 │\n",
      "├──────────────┼─────────────┼──────────┼────────────┼───────────┤\n",
      "│ macro avg    │       0.571 │    0.574 │      0.557 │    86     │\n",
      "├──────────────┼─────────────┼──────────┼────────────┼───────────┤\n",
      "│ weighted avg │       0.595 │    0.558 │      0.561 │    86     │\n",
      "╘══════════════╧═════════════╧══════════╧════════════╧═══════════╛\n",
      "\n",
      "🧩 Confusion Matrix:\n",
      "╒═══╤════╤════╕\n",
      "│ 0 │ 22 │ 12 │\n",
      "├───┼────┼────┤\n",
      "│ 1 │ 26 │ 26 │\n",
      "╘═══╧════╧════╛\n"
     ]
    }
   ],
   "source": [
    "eval_objs = {}\n",
    "eval_results = {}\n",
    "\n",
    "for model_type in models_list:\n",
    "    for cw in class_weight_list:\n",
    "        key = f\"{model_type}_{cw}\"\n",
    "        model_key = f\"model_{model_type}_{cw}\"\n",
    "        \n",
    "        # Create Evaluate object\n",
    "        eval_objs[key] = Evaluate(trained_models[model_key], X_cv, Y_cv)\n",
    "        \n",
    "        # Run and store results\n",
    "        print(f\"\\n📌 Model: {model_key.replace('model_', '').replace('_', ' ').title()}\\n{'=' * 50}\")\n",
    "        eval_results[key] = eval_objs[key].report_validation_metrics()"
   ]
  },
  {
   "cell_type": "markdown",
   "id": "211dd940",
   "metadata": {},
   "source": [
    "### Final Model"
   ]
  },
  {
   "cell_type": "code",
   "execution_count": 7,
   "id": "1b99d497",
   "metadata": {},
   "outputs": [
    {
     "name": "stdout",
     "output_type": "stream",
     "text": [
      "\n",
      "📌 Model: Logistic Regression\n",
      "\n",
      "✅ Validation Accuracy: 0.6643\n",
      "\n",
      "📋 Classification Report:\n",
      "╒══════════════╤═════════════╤══════════╤════════════╤═══════════╕\n",
      "│              │   precision │   recall │   f1-score │   support │\n",
      "╞══════════════╪═════════════╪══════════╪════════════╪═══════════╡\n",
      "│ 0.0          │       0.786 │    0.196 │      0.314 │    56     │\n",
      "├──────────────┼─────────────┼──────────┼────────────┼───────────┤\n",
      "│ 1.0          │       0.651 │    0.966 │      0.778 │    87     │\n",
      "├──────────────┼─────────────┼──────────┼────────────┼───────────┤\n",
      "│ accuracy     │       0.664 │    0.664 │      0.664 │     0.664 │\n",
      "├──────────────┼─────────────┼──────────┼────────────┼───────────┤\n",
      "│ macro avg    │       0.718 │    0.581 │      0.546 │   143     │\n",
      "├──────────────┼─────────────┼──────────┼────────────┼───────────┤\n",
      "│ weighted avg │       0.704 │    0.664 │      0.596 │   143     │\n",
      "╘══════════════╧═════════════╧══════════╧════════════╧═══════════╛\n",
      "\n",
      "🧩 Confusion Matrix:\n",
      "╒═══╤════╤════╕\n",
      "│ 0 │ 11 │ 45 │\n",
      "├───┼────┼────┤\n",
      "│ 1 │  3 │ 84 │\n",
      "╘═══╧════╧════╛\n"
     ]
    }
   ],
   "source": [
    "X_train, Y_train, X_cv, Y_cv, X_test, Y_test = dataload_mri_cls.data_split(X_data, Y_data)\n",
    "\n",
    "#Train using the X_train and X_cv\n",
    "X_train_full = pd.concat([X_train, X_cv])\n",
    "Y_train_full = pd.concat([Y_train, Y_cv])\n",
    "\n",
    "data_final = {}\n",
    "data_final['X_train'] = X_train_full\n",
    "data_final['Y_train'] = Y_train_full\n",
    "\n",
    "params_final = {'penalty': 'l2'}\n",
    "        \n",
    "final_model = MlModels(model_name = 'logistic', \n",
    "                    data=data_final, params = params_final, \n",
    "                    pca_flag=False, class_weights=None)\n",
    "\n",
    "final_model.build_model()\n",
    "final_trained_model = final_model\n",
    "\n",
    "#Show the accuracy\n",
    "eval_obj_final = Evaluate(final_trained_model, X_test, Y_test)\n",
    "print(f\"\\n📌 Model: Logistic Regression\")\n",
    "\n",
    "eval_results_final = eval_obj_final.report_validation_metrics()"
   ]
  },
  {
   "cell_type": "markdown",
   "id": "d4103fd0",
   "metadata": {},
   "source": [
    "### Demographic, Gene Expressions and MRI"
   ]
  },
  {
   "cell_type": "code",
   "execution_count": 8,
   "id": "11935b13",
   "metadata": {},
   "outputs": [
    {
     "name": "stdout",
     "output_type": "stream",
     "text": [
      "X shape: (712, 110), Y shape: (712, 1)\n",
      "Y class distribution: {(1.0,): 434, (0.0,): 278}\n"
     ]
    }
   ],
   "source": [
    "# --- Load data\n",
    "mri_data_path = \"/Users/pushpita/Documents/Erdos_bootcamp/our_project/Data/clean_data/PDMRI_Clean_Merged_6_13_25.csv\"\n",
    "gene_data_path = \"/Users/pushpita/Documents/Erdos_bootcamp/our_project/Data/clean_data/gene_expression_summary.csv\"\n",
    "nhy_latest_path = \"/Users/pushpita/Documents/Erdos_bootcamp/our_project/Data/clean_data/clean_mds_updrs.csv\"\n",
    "\n",
    "dataload_all_cls = LoadData(input_updrs=nhy_latest_path,\n",
    "    input_gene_clinical=gene_data_path,\n",
    "    input_mri=mri_data_path,\n",
    "    mri_data=True,\n",
    "    gene_data=True,\n",
    "    group_NHY=True,\n",
    "    group_binary=True,\n",
    "    common_dataset=True,\n",
    "    stratify_splits=True)\n",
    "\n",
    "X_data, Y_data = dataload_all_cls.merged_data()"
   ]
  },
  {
   "cell_type": "code",
   "execution_count": 9,
   "id": "f1f096fd",
   "metadata": {},
   "outputs": [
    {
     "data": {
      "image/png": "[encoded data removed]",
      "text/plain": [
       "<Figure size 600x400 with 1 Axes>"
      ]
     },
     "metadata": {},
     "output_type": "display_data"
    }
   ],
   "source": [
    "plt.figure(figsize=(6, 4))\n",
    "sns.countplot(x='NHY', data=Y_data, hue='NHY', palette='pastel', edgecolor='black')\n",
    "plt.title(\"Distribution of NHY Scores\", fontsize=12)\n",
    "plt.xlabel(\"NHY Score\", fontsize=12)\n",
    "plt.ylabel(\"Count\", fontsize=12)\n",
    "plt.grid(axis='y', linestyle='--', alpha=0.5)\n",
    "sns.despine()\n",
    "plt.tight_layout()\n",
    "plt.show()"
   ]
  },
  {
   "cell_type": "code",
   "execution_count": 10,
   "id": "eddce78f",
   "metadata": {},
   "outputs": [],
   "source": [
    "X_train, Y_train, X_cv, Y_cv, X_test, Y_test = dataload_all_cls.data_split(X_data, Y_data)\n",
    "data_all = {}\n",
    "data_all['X_train'] = X_train\n",
    "data_all['Y_train'] = Y_train"
   ]
  },
  {
   "cell_type": "code",
   "execution_count": 11,
   "id": "e6517ad2",
   "metadata": {},
   "outputs": [
    {
     "name": "stderr",
     "output_type": "stream",
     "text": [
      "/Users/pushpita/anaconda3/envs/erdos_summer_2025/lib/python3.12/site-packages/sklearn/linear_model/_logistic.py:1917: FutureWarning: 'multi_class' was deprecated in version 1.5 and will be removed in 1.7. Use OneVsRestClassifier(LogisticRegressionCV(..)) instead. Leave it to its default value to avoid this warning.\n",
      "  warnings.warn(\n",
      "/Users/pushpita/anaconda3/envs/erdos_summer_2025/lib/python3.12/site-packages/sklearn/linear_model/_logistic.py:1917: FutureWarning: 'multi_class' was deprecated in version 1.5 and will be removed in 1.7. Use OneVsRestClassifier(LogisticRegressionCV(..)) instead. Leave it to its default value to avoid this warning.\n",
      "  warnings.warn(\n"
     ]
    }
   ],
   "source": [
    "models_list =['logistic', 'logistic_cv']\n",
    "class_weight_list = [None, 'balanced']\n",
    "models_dict = {}\n",
    "\n",
    "for mo_l in models_list:\n",
    "    for cw in class_weight_list:\n",
    "        names_ = f\"model_{mo_l}_{cw}\"\n",
    "        models_dict[names_] = (mo_l, cw)\n",
    "\n",
    "trained_models_all = {}\n",
    "for name, (model_type, cw) in models_dict.items():\n",
    "    if model_type == 'logistic_cv':\n",
    "        params = {'cv':StratifiedKFold(n_splits=5), \n",
    "                    'penalty': 'l2'}\n",
    "    else:\n",
    "        params = {'penalty': 'l2'}\n",
    "        \n",
    "    mymodel_all = MlModels(model_name = model_type, \n",
    "                        data=data_all, params = params, \n",
    "                        pca_flag=False, class_weights=cw)\n",
    "    mymodel_all.build_model()\n",
    "    trained_models_all[name] = mymodel_all"
   ]
  },
  {
   "cell_type": "code",
   "execution_count": 12,
   "id": "56ba7cee",
   "metadata": {},
   "outputs": [
    {
     "name": "stdout",
     "output_type": "stream",
     "text": [
      "\n",
      "📌 Model: Logistic None\n",
      "==================================================\n",
      "\n",
      "✅ Validation Accuracy: 0.5698\n",
      "\n",
      "📋 Classification Report:\n",
      "╒══════════════╤═════════════╤══════════╤════════════╤═══════════╕\n",
      "│              │   precision │   recall │   f1-score │   support │\n",
      "╞══════════════╪═════════════╪══════════╪════════════╪═══════════╡\n",
      "│ 0.0          │       0.452 │    0.412 │      0.431 │     34    │\n",
      "├──────────────┼─────────────┼──────────┼────────────┼───────────┤\n",
      "│ 1.0          │       0.636 │    0.673 │      0.654 │     52    │\n",
      "├──────────────┼─────────────┼──────────┼────────────┼───────────┤\n",
      "│ accuracy     │       0.57  │    0.57  │      0.57  │      0.57 │\n",
      "├──────────────┼─────────────┼──────────┼────────────┼───────────┤\n",
      "│ macro avg    │       0.544 │    0.542 │      0.542 │     86    │\n",
      "├──────────────┼─────────────┼──────────┼────────────┼───────────┤\n",
      "│ weighted avg │       0.563 │    0.57  │      0.566 │     86    │\n",
      "╘══════════════╧═════════════╧══════════╧════════════╧═══════════╛\n",
      "\n",
      "🧩 Confusion Matrix:\n",
      "╒═══╤════╤════╕\n",
      "│ 0 │ 14 │ 20 │\n",
      "├───┼────┼────┤\n",
      "│ 1 │ 17 │ 35 │\n",
      "╘═══╧════╧════╛\n",
      "\n",
      "📌 Model: Logistic Balanced\n",
      "==================================================\n",
      "\n",
      "✅ Validation Accuracy: 0.5581\n",
      "\n",
      "📋 Classification Report:\n",
      "╒══════════════╤═════════════╤══════════╤════════════╤═══════════╕\n",
      "│              │   precision │   recall │   f1-score │   support │\n",
      "╞══════════════╪═════════════╪══════════╪════════════╪═══════════╡\n",
      "│ 0.0          │       0.455 │    0.588 │      0.513 │    34     │\n",
      "├──────────────┼─────────────┼──────────┼────────────┼───────────┤\n",
      "│ 1.0          │       0.667 │    0.538 │      0.596 │    52     │\n",
      "├──────────────┼─────────────┼──────────┼────────────┼───────────┤\n",
      "│ accuracy     │       0.558 │    0.558 │      0.558 │     0.558 │\n",
      "├──────────────┼─────────────┼──────────┼────────────┼───────────┤\n",
      "│ macro avg    │       0.561 │    0.563 │      0.554 │    86     │\n",
      "├──────────────┼─────────────┼──────────┼────────────┼───────────┤\n",
      "│ weighted avg │       0.583 │    0.558 │      0.563 │    86     │\n",
      "╘══════════════╧═════════════╧══════════╧════════════╧═══════════╛\n",
      "\n",
      "🧩 Confusion Matrix:\n",
      "╒═══╤════╤════╕\n",
      "│ 0 │ 20 │ 14 │\n",
      "├───┼────┼────┤\n",
      "│ 1 │ 24 │ 28 │\n",
      "╘═══╧════╧════╛\n",
      "\n",
      "📌 Model: Logistic Cv None\n",
      "==================================================\n",
      "\n",
      "✅ Validation Accuracy: 0.5581\n",
      "\n",
      "📋 Classification Report:\n",
      "╒══════════════╤═════════════╤══════════╤════════════╤═══════════╕\n",
      "│              │   precision │   recall │   f1-score │   support │\n",
      "╞══════════════╪═════════════╪══════════╪════════════╪═══════════╡\n",
      "│ 0.0          │       0.417 │    0.294 │      0.345 │    34     │\n",
      "├──────────────┼─────────────┼──────────┼────────────┼───────────┤\n",
      "│ 1.0          │       0.613 │    0.731 │      0.667 │    52     │\n",
      "├──────────────┼─────────────┼──────────┼────────────┼───────────┤\n",
      "│ accuracy     │       0.558 │    0.558 │      0.558 │     0.558 │\n",
      "├──────────────┼─────────────┼──────────┼────────────┼───────────┤\n",
      "│ macro avg    │       0.515 │    0.512 │      0.506 │    86     │\n",
      "├──────────────┼─────────────┼──────────┼────────────┼───────────┤\n",
      "│ weighted avg │       0.535 │    0.558 │      0.539 │    86     │\n",
      "╘══════════════╧═════════════╧══════════╧════════════╧═══════════╛\n",
      "\n",
      "🧩 Confusion Matrix:\n",
      "╒═══╤════╤════╕\n",
      "│ 0 │ 10 │ 24 │\n",
      "├───┼────┼────┤\n",
      "│ 1 │ 14 │ 38 │\n",
      "╘═══╧════╧════╛\n",
      "\n",
      "📌 Model: Logistic Cv Balanced\n",
      "==================================================\n",
      "\n",
      "✅ Validation Accuracy: 0.5349\n",
      "\n",
      "📋 Classification Report:\n",
      "╒══════════════╤═════════════╤══════════╤════════════╤═══════════╕\n",
      "│              │   precision │   recall │   f1-score │   support │\n",
      "╞══════════════╪═════════════╪══════════╪════════════╪═══════════╡\n",
      "│ 0.0          │       0.435 │    0.588 │      0.5   │    34     │\n",
      "├──────────────┼─────────────┼──────────┼────────────┼───────────┤\n",
      "│ 1.0          │       0.65  │    0.5   │      0.565 │    52     │\n",
      "├──────────────┼─────────────┼──────────┼────────────┼───────────┤\n",
      "│ accuracy     │       0.535 │    0.535 │      0.535 │     0.535 │\n",
      "├──────────────┼─────────────┼──────────┼────────────┼───────────┤\n",
      "│ macro avg    │       0.542 │    0.544 │      0.533 │    86     │\n",
      "├──────────────┼─────────────┼──────────┼────────────┼───────────┤\n",
      "│ weighted avg │       0.565 │    0.535 │      0.539 │    86     │\n",
      "╘══════════════╧═════════════╧══════════╧════════════╧═══════════╛\n",
      "\n",
      "🧩 Confusion Matrix:\n",
      "╒═══╤════╤════╕\n",
      "│ 0 │ 20 │ 14 │\n",
      "├───┼────┼────┤\n",
      "│ 1 │ 26 │ 26 │\n",
      "╘═══╧════╧════╛\n"
     ]
    }
   ],
   "source": [
    "eval_objs = {}\n",
    "eval_results = {}\n",
    "\n",
    "for model_type in models_list:\n",
    "    for cw in class_weight_list:\n",
    "        key = f\"{model_type}_{cw}\"\n",
    "        model_key = f\"model_{model_type}_{cw}\"\n",
    "        \n",
    "        # Create Evaluate object\n",
    "        eval_objs[key] = Evaluate(trained_models_all[model_key], X_cv, Y_cv)\n",
    "        \n",
    "        # Run and store results\n",
    "        print(f\"\\n📌 Model: {model_key.replace('model_', '').replace('_', ' ').title()}\\n{'=' * 50}\")\n",
    "        eval_results[key] = eval_objs[key].report_validation_metrics()"
   ]
  },
  {
   "cell_type": "markdown",
   "id": "82ca595c",
   "metadata": {},
   "source": [
    "### Test Set"
   ]
  },
  {
   "cell_type": "code",
   "execution_count": 13,
   "id": "b0ca264d",
   "metadata": {},
   "outputs": [
    {
     "name": "stdout",
     "output_type": "stream",
     "text": [
      "\n",
      "📌 Model: Logistic None\n",
      "==================================================\n",
      "\n",
      "✅ Validation Accuracy: 0.5698\n",
      "\n",
      "📋 Classification Report:\n",
      "╒══════════════╤═════════════╤══════════╤════════════╤═══════════╕\n",
      "│              │   precision │   recall │   f1-score │   support │\n",
      "╞══════════════╪═════════════╪══════════╪════════════╪═══════════╡\n",
      "│ 0.0          │       0.452 │    0.412 │      0.431 │     34    │\n",
      "├──────────────┼─────────────┼──────────┼────────────┼───────────┤\n",
      "│ 1.0          │       0.636 │    0.673 │      0.654 │     52    │\n",
      "├──────────────┼─────────────┼──────────┼────────────┼───────────┤\n",
      "│ accuracy     │       0.57  │    0.57  │      0.57  │      0.57 │\n",
      "├──────────────┼─────────────┼──────────┼────────────┼───────────┤\n",
      "│ macro avg    │       0.544 │    0.542 │      0.542 │     86    │\n",
      "├──────────────┼─────────────┼──────────┼────────────┼───────────┤\n",
      "│ weighted avg │       0.563 │    0.57  │      0.566 │     86    │\n",
      "╘══════════════╧═════════════╧══════════╧════════════╧═══════════╛\n",
      "\n",
      "🧩 Confusion Matrix:\n",
      "╒═══╤════╤════╕\n",
      "│ 0 │ 14 │ 20 │\n",
      "├───┼────┼────┤\n",
      "│ 1 │ 17 │ 35 │\n",
      "╘═══╧════╧════╛\n",
      "\n",
      "📌 Model: Logistic Balanced\n",
      "==================================================\n",
      "\n",
      "✅ Validation Accuracy: 0.5581\n",
      "\n",
      "📋 Classification Report:\n",
      "╒══════════════╤═════════════╤══════════╤════════════╤═══════════╕\n",
      "│              │   precision │   recall │   f1-score │   support │\n",
      "╞══════════════╪═════════════╪══════════╪════════════╪═══════════╡\n",
      "│ 0.0          │       0.455 │    0.588 │      0.513 │    34     │\n",
      "├──────────────┼─────────────┼──────────┼────────────┼───────────┤\n",
      "│ 1.0          │       0.667 │    0.538 │      0.596 │    52     │\n",
      "├──────────────┼─────────────┼──────────┼────────────┼───────────┤\n",
      "│ accuracy     │       0.558 │    0.558 │      0.558 │     0.558 │\n",
      "├──────────────┼─────────────┼──────────┼────────────┼───────────┤\n",
      "│ macro avg    │       0.561 │    0.563 │      0.554 │    86     │\n",
      "├──────────────┼─────────────┼──────────┼────────────┼───────────┤\n",
      "│ weighted avg │       0.583 │    0.558 │      0.563 │    86     │\n",
      "╘══════════════╧═════════════╧══════════╧════════════╧═══════════╛\n",
      "\n",
      "🧩 Confusion Matrix:\n",
      "╒═══╤════╤════╕\n",
      "│ 0 │ 20 │ 14 │\n",
      "├───┼────┼────┤\n",
      "│ 1 │ 24 │ 28 │\n",
      "╘═══╧════╧════╛\n",
      "\n",
      "📌 Model: Logistic Cv None\n",
      "==================================================\n",
      "\n",
      "✅ Validation Accuracy: 0.5581\n",
      "\n",
      "📋 Classification Report:\n",
      "╒══════════════╤═════════════╤══════════╤════════════╤═══════════╕\n",
      "│              │   precision │   recall │   f1-score │   support │\n",
      "╞══════════════╪═════════════╪══════════╪════════════╪═══════════╡\n",
      "│ 0.0          │       0.417 │    0.294 │      0.345 │    34     │\n",
      "├──────────────┼─────────────┼──────────┼────────────┼───────────┤\n",
      "│ 1.0          │       0.613 │    0.731 │      0.667 │    52     │\n",
      "├──────────────┼─────────────┼──────────┼────────────┼───────────┤\n",
      "│ accuracy     │       0.558 │    0.558 │      0.558 │     0.558 │\n",
      "├──────────────┼─────────────┼──────────┼────────────┼───────────┤\n",
      "│ macro avg    │       0.515 │    0.512 │      0.506 │    86     │\n",
      "├──────────────┼─────────────┼──────────┼────────────┼───────────┤\n",
      "│ weighted avg │       0.535 │    0.558 │      0.539 │    86     │\n",
      "╘══════════════╧═════════════╧══════════╧════════════╧═══════════╛\n",
      "\n",
      "🧩 Confusion Matrix:\n",
      "╒═══╤════╤════╕\n",
      "│ 0 │ 10 │ 24 │\n",
      "├───┼────┼────┤\n",
      "│ 1 │ 14 │ 38 │\n",
      "╘═══╧════╧════╛\n",
      "\n",
      "📌 Model: Logistic Cv Balanced\n",
      "==================================================\n",
      "\n",
      "✅ Validation Accuracy: 0.5349\n",
      "\n",
      "📋 Classification Report:\n",
      "╒══════════════╤═════════════╤══════════╤════════════╤═══════════╕\n",
      "│              │   precision │   recall │   f1-score │   support │\n",
      "╞══════════════╪═════════════╪══════════╪════════════╪═══════════╡\n",
      "│ 0.0          │       0.435 │    0.588 │      0.5   │    34     │\n",
      "├──────────────┼─────────────┼──────────┼────────────┼───────────┤\n",
      "│ 1.0          │       0.65  │    0.5   │      0.565 │    52     │\n",
      "├──────────────┼─────────────┼──────────┼────────────┼───────────┤\n",
      "│ accuracy     │       0.535 │    0.535 │      0.535 │     0.535 │\n",
      "├──────────────┼─────────────┼──────────┼────────────┼───────────┤\n",
      "│ macro avg    │       0.542 │    0.544 │      0.533 │    86     │\n",
      "├──────────────┼─────────────┼──────────┼────────────┼───────────┤\n",
      "│ weighted avg │       0.565 │    0.535 │      0.539 │    86     │\n",
      "╘══════════════╧═════════════╧══════════╧════════════╧═══════════╛\n",
      "\n",
      "🧩 Confusion Matrix:\n",
      "╒═══╤════╤════╕\n",
      "│ 0 │ 20 │ 14 │\n",
      "├───┼────┼────┤\n",
      "│ 1 │ 26 │ 26 │\n",
      "╘═══╧════╧════╛\n"
     ]
    }
   ],
   "source": [
    "X_train, Y_train, X_cv, Y_cv, X_test, Y_test = dataload_all_cls.data_split(X_data, Y_data)\n",
    "\n",
    "eval_objs_test = {}\n",
    "eval_results_test = {}\n",
    "\n",
    "for model_type in models_list:\n",
    "    for cw in class_weight_list:\n",
    "        key = f\"{model_type}_{cw}\"\n",
    "        model_key = f\"model_{model_type}_{cw}\"\n",
    "        \n",
    "        # Create Evaluate object\n",
    "        eval_objs_test[key] = Evaluate(trained_models_all[model_key], X_cv, Y_cv)\n",
    "        \n",
    "        # Run and store results\n",
    "        print(f\"\\n📌 Model: {model_key.replace('model_', '').replace('_', ' ').title()}\\n{'=' * 50}\")\n",
    "        eval_results_test[key] = eval_objs_test[key].report_validation_metrics()"
   ]
  },
  {
   "cell_type": "markdown",
   "id": "3801c2b0",
   "metadata": {},
   "source": [
    "### Final Model"
   ]
  },
  {
   "cell_type": "code",
   "execution_count": 14,
   "id": "cb8a6da3",
   "metadata": {},
   "outputs": [
    {
     "name": "stdout",
     "output_type": "stream",
     "text": [
      "\n",
      "📌 Model: Logistic Regression\n",
      "\n",
      "✅ Validation Accuracy: 0.6224\n",
      "\n",
      "📋 Classification Report:\n",
      "╒══════════════╤═════════════╤══════════╤════════════╤═══════════╕\n",
      "│              │   precision │   recall │   f1-score │   support │\n",
      "╞══════════════╪═════════════╪══════════╪════════════╪═══════════╡\n",
      "│ 0.0          │       0.529 │    0.321 │      0.4   │    56     │\n",
      "├──────────────┼─────────────┼──────────┼────────────┼───────────┤\n",
      "│ 1.0          │       0.651 │    0.816 │      0.724 │    87     │\n",
      "├──────────────┼─────────────┼──────────┼────────────┼───────────┤\n",
      "│ accuracy     │       0.622 │    0.622 │      0.622 │     0.622 │\n",
      "├──────────────┼─────────────┼──────────┼────────────┼───────────┤\n",
      "│ macro avg    │       0.59  │    0.569 │      0.562 │   143     │\n",
      "├──────────────┼─────────────┼──────────┼────────────┼───────────┤\n",
      "│ weighted avg │       0.604 │    0.622 │      0.597 │   143     │\n",
      "╘══════════════╧═════════════╧══════════╧════════════╧═══════════╛\n",
      "\n",
      "🧩 Confusion Matrix:\n",
      "╒═══╤════╤════╕\n",
      "│ 0 │ 18 │ 38 │\n",
      "├───┼────┼────┤\n",
      "│ 1 │ 16 │ 71 │\n",
      "╘═══╧════╧════╛\n"
     ]
    }
   ],
   "source": [
    "#Train using the X_train and X_cv\n",
    "X_train_full = pd.concat([X_train, X_cv])\n",
    "Y_train_full = pd.concat([Y_train, Y_cv])\n",
    "\n",
    "data_all_final = {}\n",
    "data_all_final['X_train'] = X_train_full\n",
    "data_all_final['Y_train'] = Y_train_full\n",
    "\n",
    "params_final = {'penalty': 'l2'}\n",
    "        \n",
    "final_model = MlModels(model_name = 'logistic', \n",
    "                    data=data_all_final, params = params_final, \n",
    "                    pca_flag=False, class_weights=None)\n",
    "\n",
    "final_model.build_model()\n",
    "final_trained_model = final_model\n",
    "\n",
    "#Show the accuracy\n",
    "eval_obj_final = Evaluate(final_trained_model, X_test, Y_test)\n",
    "print(f\"\\n📌 Model: Logistic Regression\")\n",
    "\n",
    "eval_results_final = eval_obj_final.report_validation_metrics()\n",
    "\n"
   ]
  },
  {
   "cell_type": "code",
   "execution_count": null,
   "id": "cad25682",
   "metadata": {},
   "outputs": [
    {
     "data": {
      "image/png": "[encoded data removed]",
      "text/plain": [
       "<Figure size 700x600 with 1 Axes>"
      ]
     },
     "metadata": {},
     "output_type": "display_data"
    }
   ],
   "source": [
    "# Get the AUC output dictionary\n",
    "eval_auc = eval_obj_final.get_auc_scores(class_list=[0, 1])\n",
    "\n",
    "fpr = eval_auc['fpr']\n",
    "tpr = eval_auc['tpr']\n",
    "roc_auc = eval_auc['roc_auc']\n",
    "auc_score = eval_auc['auc_score']\n",
    "\n",
    "plt.figure(figsize=(7, 6))\n",
    "\n",
    "for i in fpr:\n",
    "    plt.plot(fpr[i], tpr[i], lw=2, color='tab:green', label=f\"Class {i} (AUC = {roc_auc[i]:.2f})\")\n",
    "    plt.fill_between(fpr[i], 0, tpr[i], color='tab:green', alpha=0.3)\n",
    "\n",
    "plt.plot([0, 1], [0, 1], color='k', lw=2, linestyle='--')\n",
    "plt.xlabel(\"False Positive Rate\", fontsize=12)\n",
    "plt.ylabel(\"True Positive Rate\", fontsize=12)\n",
    "plt.legend(loc=\"upper left\", fontsize=10)\n",
    "plt.grid(linestyle='--', alpha=0.4)\n",
    "plt.tight_layout()\n"
   ]
  },
  {
   "cell_type": "code",
   "execution_count": null,
   "id": "a0c39569",
   "metadata": {},
   "outputs": [
    {
     "data": {
      "image/png": "[encoded data removed]",
      "text/plain": [
       "<Figure size 600x400 with 1 Axes>"
      ]
     },
     "metadata": {},
     "output_type": "display_data"
    }
   ],
   "source": [
    "plt.figure(figsize=(6, 4))\n",
    "sns.countplot(x='NHY', data=Y_test.to_frame(name='NHY'), hue='NHY', palette='pastel', edgecolor='black')\n",
    "plt.title(\"Distribution of NHY Scores\", fontsize=12)\n",
    "plt.xlabel(\"NHY Score\", fontsize=12)\n",
    "plt.ylabel(\"Count\", fontsize=12)\n",
    "plt.grid(axis='y', linestyle='--', alpha=0.5)\n",
    "sns.despine()\n",
    "plt.tight_layout()\n",
    "plt.show()"
   ]
  },
  {
   "cell_type": "code",
   "execution_count": null,
   "id": "665c8712",
   "metadata": {},
   "outputs": [
    {
     "name": "stdout",
     "output_type": "stream",
     "text": [
      "(143, 2)\n"
     ]
    }
   ],
   "source": [
    "y_score = eval_obj_final.predict_proba(eval_obj_final.x_test)\n",
    "print(y_score.shape)"
   ]
  },
  {
   "cell_type": "code",
   "execution_count": null,
   "id": "49d3c247",
   "metadata": {},
   "outputs": [],
   "source": []
  }
 ],
 "metadata": {
  "kernelspec": {
   "display_name": "erdos_summer_2025",
   "language": "python",
   "name": "python3"
  },
  "language_info": {
   "codemirror_mode": {
    "name": "ipython",
    "version": 3
   },
   "file_extension": ".py",
   "mimetype": "text/x-python",
   "name": "python",
   "nbconvert_exporter": "python",
   "pygments_lexer": "ipython3",
   "version": "3.12.10"
  }
 },
 "nbformat": 4,
 "nbformat_minor": 5
}
