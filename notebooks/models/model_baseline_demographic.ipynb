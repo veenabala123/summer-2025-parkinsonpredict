{
 "cells": [
  {
   "cell_type": "code",
   "execution_count": 1,
   "id": "7d66a1e7",
   "metadata": {},
   "outputs": [],
   "source": [
    "import os,sys\n",
    "import math\n",
    "\n",
    "import numpy as np\n",
    "import scipy as sp\n",
    "import pandas as pd\n",
    "import matplotlib as mlt\n",
    "import matplotlib.pyplot as plt\n",
    "from IPython.display import HTML\n",
    "from matplotlib import animation\n",
    "from functools import reduce\n",
    "\n",
    "import seaborn as sns\n",
    "from sklearn.model_selection import train_test_split,cross_val_score, KFold, StratifiedKFold,cross_val_predict\n",
    "from sklearn.decomposition import PCA\n",
    "from sklearn.preprocessing import StandardScaler\n",
    "from sklearn.metrics import accuracy_score, classification_report, confusion_matrix\n",
    "\n",
    "sys.path.append(\"../../src\")  # adjust path as needed\n",
    "from data_loader import LoadData\n",
    "from model import MlModels\n",
    "from evaluation import Evaluate"
   ]
  },
  {
   "cell_type": "markdown",
   "id": "4f54d18e",
   "metadata": {},
   "source": [
    "### Load the Data"
   ]
  },
  {
   "cell_type": "code",
   "execution_count": 2,
   "id": "e94748e6",
   "metadata": {},
   "outputs": [
    {
     "name": "stdout",
     "output_type": "stream",
     "text": [
      "X shape: (639, 110), Y shape: (639, 1)\n",
      "Y class distribution: {(1.0,): 280, (0.0,): 273, (2.0,): 86}\n"
     ]
    }
   ],
   "source": [
    "# --- Load data\n",
    "mri_data_path = \"/Users/pushpita/Documents/Erdos_bootcamp/our_project/Data/finalised_dataset/\"\n",
    "gene_data_path = \"/Users/pushpita/Documents/Erdos_bootcamp/our_project/Data/finalised_dataset/\"\n",
    "nhy_latest_path = \"/Users/pushpita/Documents/Erdos_bootcamp/our_project/Data/finalised_dataset/\"\n",
    "\n",
    "dataload_demo_cls = LoadData(input_path_updrs=nhy_latest_path,\n",
    "    input_path_gene_clinical=gene_data_path,\n",
    "    input_path_mri=mri_data_path,\n",
    "    mri_data=False,\n",
    "    gene_data=False,\n",
    "    group_NHY=True,\n",
    "    common_dataset=True,\n",
    "    stratify_splits=True)\n",
    "\n",
    "X_data, Y_data = dataload_demo_cls.merged_data()"
   ]
  },
  {
   "cell_type": "code",
   "execution_count": 3,
   "id": "e1f58b9e",
   "metadata": {},
   "outputs": [
    {
     "data": {
      "image/png": "[encoded data removed]",
      "text/plain": [
       "<Figure size 600x400 with 1 Axes>"
      ]
     },
     "metadata": {},
     "output_type": "display_data"
    }
   ],
   "source": [
    "plt.figure(figsize=(6, 4))\n",
    "sns.countplot(x='NHY', data=Y_data, hue='NHY', palette='pastel', edgecolor='black')\n",
    "plt.title(\"Distribution of NHY Scores\", fontsize=12)\n",
    "plt.xlabel(\"NHY Score\", fontsize=12)\n",
    "plt.ylabel(\"Count\", fontsize=12)\n",
    "plt.grid(axis='y', linestyle='--', alpha=0.5)\n",
    "sns.despine()\n",
    "plt.tight_layout()\n",
    "plt.show()"
   ]
  },
  {
   "cell_type": "markdown",
   "id": "600a678c",
   "metadata": {},
   "source": [
    "### Split the data"
   ]
  },
  {
   "cell_type": "code",
   "execution_count": 4,
   "id": "fe981ae7",
   "metadata": {},
   "outputs": [],
   "source": [
    "X_train, Y_train, X_cv, Y_cv, X_test, Y_test = dataload_demo_cls.data_split(X_data, Y_data)\n",
    "data = {}\n",
    "data['X_train'] = X_train\n",
    "data['Y_train'] = Y_train"
   ]
  },
  {
   "cell_type": "markdown",
   "id": "ebd19d65",
   "metadata": {},
   "source": [
    "### Logistic Regression model"
   ]
  },
  {
   "cell_type": "code",
   "execution_count": 5,
   "id": "4647c231",
   "metadata": {},
   "outputs": [
    {
     "name": "stderr",
     "output_type": "stream",
     "text": [
      "/Users/pushpita/anaconda3/envs/erdos_summer_2025/lib/python3.12/site-packages/sklearn/linear_model/_logistic.py:1917: FutureWarning: 'multi_class' was deprecated in version 1.5 and will be removed in 1.7. Use OneVsRestClassifier(LogisticRegressionCV(..)) instead. Leave it to its default value to avoid this warning.\n",
      "  warnings.warn(\n",
      "/Users/pushpita/anaconda3/envs/erdos_summer_2025/lib/python3.12/site-packages/sklearn/linear_model/_logistic.py:1917: FutureWarning: 'multi_class' was deprecated in version 1.5 and will be removed in 1.7. Use OneVsRestClassifier(LogisticRegressionCV(..)) instead. Leave it to its default value to avoid this warning.\n",
      "  warnings.warn(\n"
     ]
    }
   ],
   "source": [
    "models_list =['logistic', 'logistic_cv']\n",
    "class_weight_list = [None, 'balanced']\n",
    "models_dict = {}\n",
    "\n",
    "for mo_l in models_list:\n",
    "    for cw in class_weight_list:\n",
    "        names_ = f\"model_{mo_l}_{cw}\"\n",
    "        models_dict[names_] = (mo_l, cw)\n",
    "\n",
    "trained_models = {}\n",
    "for name, (model_type, cw) in models_dict.items():\n",
    "    if model_type == 'logistic_cv':\n",
    "        params_cv = {'cv':StratifiedKFold(n_splits=5)}\n",
    "        \n",
    "        mymodel = MlModels(model_name = model_type, \n",
    "                        data=data, params = params_cv, \n",
    "                        pca_flag=False, class_weights=cw)\n",
    "    else:\n",
    "        mymodel = MlModels(model_name = model_type, \n",
    "                        data=data, params = None, \n",
    "                        pca_flag=False, class_weights=cw)\n",
    "    mymodel.build_model()\n",
    "    trained_models[name] = mymodel\n"
   ]
  },
  {
   "cell_type": "code",
   "execution_count": 6,
   "id": "58966767",
   "metadata": {},
   "outputs": [
    {
     "name": "stdout",
     "output_type": "stream",
     "text": [
      "model_logistic_None\n",
      "\n",
      "✅ Validation Accuracy: 0.4805\n",
      "\n",
      "📋 Classification Report:\n",
      "╒══════════════╤═════════════╤══════════╤════════════╤═══════════╕\n",
      "│              │   precision │   recall │   f1-score │   support │\n",
      "╞══════════════╪═════════════╪══════════╪════════════╪═══════════╡\n",
      "│ 0.0          │       0.483 │    0.424 │      0.452 │    33     │\n",
      "├──────────────┼─────────────┼──────────┼────────────┼───────────┤\n",
      "│ 1.0          │       0.479 │    0.676 │      0.561 │    34     │\n",
      "├──────────────┼─────────────┼──────────┼────────────┼───────────┤\n",
      "│ 2.0          │       0     │    0     │      0     │    10     │\n",
      "├──────────────┼─────────────┼──────────┼────────────┼───────────┤\n",
      "│ accuracy     │       0.481 │    0.481 │      0.481 │     0.481 │\n",
      "├──────────────┼─────────────┼──────────┼────────────┼───────────┤\n",
      "│ macro avg    │       0.321 │    0.367 │      0.338 │    77     │\n",
      "├──────────────┼─────────────┼──────────┼────────────┼───────────┤\n",
      "│ weighted avg │       0.418 │    0.481 │      0.441 │    77     │\n",
      "╘══════════════╧═════════════╧══════════╧════════════╧═══════════╛\n",
      "\n",
      "🧩 Confusion Matrix:\n",
      "╒═══╤════╤════╤═══╕\n",
      "│ 0 │ 14 │ 19 │ 0 │\n",
      "├───┼────┼────┼───┤\n",
      "│ 1 │ 11 │ 23 │ 0 │\n",
      "├───┼────┼────┼───┤\n",
      "│ 2 │  4 │  6 │ 0 │\n",
      "╘═══╧════╧════╧═══╛\n",
      "model_logistic_balanced\n",
      "\n",
      "✅ Validation Accuracy: 0.4156\n",
      "\n",
      "📋 Classification Report:\n",
      "╒══════════════╤═════════════╤══════════╤════════════╤═══════════╕\n",
      "│              │   precision │   recall │   f1-score │   support │\n",
      "╞══════════════╪═════════════╪══════════╪════════════╪═══════════╡\n",
      "│ 0.0          │       0.444 │    0.242 │      0.314 │    33     │\n",
      "├──────────────┼─────────────┼──────────┼────────────┼───────────┤\n",
      "│ 1.0          │       0.531 │    0.5   │      0.515 │    34     │\n",
      "├──────────────┼─────────────┼──────────┼────────────┼───────────┤\n",
      "│ 2.0          │       0.259 │    0.7   │      0.378 │    10     │\n",
      "├──────────────┼─────────────┼──────────┼────────────┼───────────┤\n",
      "│ accuracy     │       0.416 │    0.416 │      0.416 │     0.416 │\n",
      "├──────────────┼─────────────┼──────────┼────────────┼───────────┤\n",
      "│ macro avg    │       0.412 │    0.481 │      0.402 │    77     │\n",
      "├──────────────┼─────────────┼──────────┼────────────┼───────────┤\n",
      "│ weighted avg │       0.459 │    0.416 │      0.411 │    77     │\n",
      "╘══════════════╧═════════════╧══════════╧════════════╧═══════════╛\n",
      "\n",
      "🧩 Confusion Matrix:\n",
      "╒═══╤═══╤════╤════╕\n",
      "│ 0 │ 8 │ 13 │ 12 │\n",
      "├───┼───┼────┼────┤\n",
      "│ 1 │ 9 │ 17 │  8 │\n",
      "├───┼───┼────┼────┤\n",
      "│ 2 │ 1 │  2 │  7 │\n",
      "╘═══╧═══╧════╧════╛\n",
      "model_logistic_cv_None\n",
      "\n",
      "✅ Validation Accuracy: 0.4805\n",
      "\n",
      "📋 Classification Report:\n",
      "╒══════════════╤═════════════╤══════════╤════════════╤═══════════╕\n",
      "│              │   precision │   recall │   f1-score │   support │\n",
      "╞══════════════╪═════════════╪══════════╪════════════╪═══════════╡\n",
      "│ 0.0          │       0.483 │    0.424 │      0.452 │    33     │\n",
      "├──────────────┼─────────────┼──────────┼────────────┼───────────┤\n",
      "│ 1.0          │       0.479 │    0.676 │      0.561 │    34     │\n",
      "├──────────────┼─────────────┼──────────┼────────────┼───────────┤\n",
      "│ 2.0          │       0     │    0     │      0     │    10     │\n",
      "├──────────────┼─────────────┼──────────┼────────────┼───────────┤\n",
      "│ accuracy     │       0.481 │    0.481 │      0.481 │     0.481 │\n",
      "├──────────────┼─────────────┼──────────┼────────────┼───────────┤\n",
      "│ macro avg    │       0.321 │    0.367 │      0.338 │    77     │\n",
      "├──────────────┼─────────────┼──────────┼────────────┼───────────┤\n",
      "│ weighted avg │       0.418 │    0.481 │      0.441 │    77     │\n",
      "╘══════════════╧═════════════╧══════════╧════════════╧═══════════╛\n",
      "\n",
      "🧩 Confusion Matrix:\n",
      "╒═══╤════╤════╤═══╕\n",
      "│ 0 │ 14 │ 19 │ 0 │\n",
      "├───┼────┼────┼───┤\n",
      "│ 1 │ 11 │ 23 │ 0 │\n",
      "├───┼────┼────┼───┤\n",
      "│ 2 │  4 │  6 │ 0 │\n",
      "╘═══╧════╧════╧═══╛\n",
      "model_logistic_cv_balanced\n",
      "\n",
      "✅ Validation Accuracy: 0.3896\n",
      "\n",
      "📋 Classification Report:\n",
      "╒══════════════╤═════════════╤══════════╤════════════╤═══════════╕\n",
      "│              │   precision │   recall │   f1-score │   support │\n",
      "╞══════════════╪═════════════╪══════════╪════════════╪═══════════╡\n",
      "│ 0.0          │       0.444 │    0.242 │      0.314 │     33    │\n",
      "├──────────────┼─────────────┼──────────┼────────────┼───────────┤\n",
      "│ 1.0          │       0.5   │    0.441 │      0.469 │     34    │\n",
      "├──────────────┼─────────────┼──────────┼────────────┼───────────┤\n",
      "│ 2.0          │       0.241 │    0.7   │      0.359 │     10    │\n",
      "├──────────────┼─────────────┼──────────┼────────────┼───────────┤\n",
      "│ accuracy     │       0.39  │    0.39  │      0.39  │      0.39 │\n",
      "├──────────────┼─────────────┼──────────┼────────────┼───────────┤\n",
      "│ macro avg    │       0.395 │    0.461 │      0.38  │     77    │\n",
      "├──────────────┼─────────────┼──────────┼────────────┼───────────┤\n",
      "│ weighted avg │       0.443 │    0.39  │      0.388 │     77    │\n",
      "╘══════════════╧═════════════╧══════════╧════════════╧═══════════╛\n",
      "\n",
      "🧩 Confusion Matrix:\n",
      "╒═══╤═══╤════╤════╕\n",
      "│ 0 │ 8 │ 13 │ 12 │\n",
      "├───┼───┼────┼────┤\n",
      "│ 1 │ 9 │ 15 │ 10 │\n",
      "├───┼───┼────┼────┤\n",
      "│ 2 │ 1 │  2 │  7 │\n",
      "╘═══╧═══╧════╧════╛\n"
     ]
    }
   ],
   "source": [
    "eval_objs = {}\n",
    "eval_results = {}\n",
    "\n",
    "for model_type in models_list:\n",
    "    for cw in class_weight_list:\n",
    "        key = f\"{model_type}_{cw}\"\n",
    "        model_key = f\"model_{model_type}_{cw}\"\n",
    "        \n",
    "        # Create Evaluate object\n",
    "        eval_objs[key] = Evaluate(trained_models[model_key], X_cv, Y_cv)\n",
    "        \n",
    "        # Run and store results\n",
    "        print(model_key)\n",
    "        eval_results[key] = eval_objs[key].report_validation_metrics()"
   ]
  }
 ],
 "metadata": {
  "kernelspec": {
   "display_name": "erdos_summer_2025",
   "language": "python",
   "name": "python3"
  },
  "language_info": {
   "codemirror_mode": {
    "name": "ipython",
    "version": 3
   },
   "file_extension": ".py",
   "mimetype": "text/x-python",
   "name": "python",
   "nbconvert_exporter": "python",
   "pygments_lexer": "ipython3",
   "version": "3.12.10"
  }
 },
 "nbformat": 4,
 "nbformat_minor": 5
}
