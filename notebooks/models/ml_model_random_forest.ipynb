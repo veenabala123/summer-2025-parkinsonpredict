{
 "cells": [
  {
   "cell_type": "markdown",
   "id": "6672de38",
   "metadata": {},
   "source": [
    "Parkinson Prediction using Random Forest"
   ]
  },
  {
   "cell_type": "code",
   "execution_count": 1,
   "id": "cd72c368",
   "metadata": {},
   "outputs": [],
   "source": [
    "import pandas as pd\n",
    "from sklearn.model_selection import train_test_split, StratifiedKFold, cross_val_score\n",
    "from sklearn.feature_selection import SelectKBest, f_classif\n",
    "from sklearn.preprocessing import StandardScaler\n",
    "from sklearn.ensemble import RandomForestClassifier\n",
    "from sklearn.metrics import roc_auc_score, RocCurveDisplay\n",
    "from sklearn.metrics import classification_report, balanced_accuracy_score, ConfusionMatrixDisplay, make_scorer\n",
    "from imblearn.over_sampling import SMOTE\n",
    "from imblearn.pipeline import Pipeline as ImbPipeline\n",
    "import matplotlib.pyplot as plt"
   ]
  },
  {
   "cell_type": "code",
   "execution_count": 2,
   "id": "f81abc6d",
   "metadata": {},
   "outputs": [
    {
     "name": "stdout",
     "output_type": "stream",
     "text": [
      "Original shape: (712, 119)\n",
      "Cleaned shape : (712, 119)\n",
      "Series([], dtype: int64)\n",
      "['Female' 'Male']\n",
      "GENDER\n",
      "Male      435\n",
      "Female    277\n",
      "Name: count, dtype: int64\n"
     ]
    }
   ],
   "source": [
    "#merged_file = pd.read_csv(\"Data/gene_matrix.csv\")\n",
    "gene_demo_file = pd.read_csv(\"merged_all.csv\")\n",
    "merged_file = gene_demo_file.dropna()\n",
    "print(\"Original shape:\", gene_demo_file.shape)\n",
    "print(\"Cleaned shape :\", merged_file.shape)\n",
    "\n",
    "null_counts = merged_file.isna().sum()\n",
    "print(null_counts[null_counts > 0].sort_values(ascending=False))\n",
    "print(merged_file[\"GENDER\"].unique())\n",
    "print(merged_file[\"GENDER\"].value_counts(dropna=False))"
   ]
  },
  {
   "cell_type": "code",
   "execution_count": 3,
   "id": "86730fa2",
   "metadata": {},
   "outputs": [],
   "source": [
    "nhy_map = {0:0,1:1,2:1,3:1,4:1,5:1}\n",
    "merged_file.loc[:,\"NHY_MAPPED\"] = merged_file[\"NHY\"].map(nhy_map)\n",
    "target_col = \"NHY_MAPPED\"\n",
    "merged_file.loc[:,\"GENDER_MAPPED\"] = merged_file[\"GENDER\"].map({\"Male\": 0, \"Female\": 1})\n"
   ]
  },
  {
   "cell_type": "markdown",
   "id": "36ea8193",
   "metadata": {},
   "source": [
    "DEMOGRAPHICS ONLY"
   ]
  },
  {
   "cell_type": "code",
   "execution_count": 4,
   "id": "a325ea12",
   "metadata": {},
   "outputs": [
    {
     "name": "stdout",
     "output_type": "stream",
     "text": [
      "X shape: (712, 3)\n",
      "y shape: (712,)\n"
     ]
    }
   ],
   "source": [
    "cols_to_include = [\"GENDER_MAPPED\",\"AGE\",\"EDUC_YRS\"]\n",
    "feature_cols_demo = merged_file.columns.intersection(cols_to_include)\n",
    "X_demo = merged_file[feature_cols_demo]\n",
    "y = merged_file[target_col]\n",
    "print(\"X shape:\", X_demo.shape)\n",
    "print(\"y shape:\", y.shape)"
   ]
  },
  {
   "cell_type": "code",
   "execution_count": 5,
   "id": "8ebd2519",
   "metadata": {},
   "outputs": [
    {
     "name": "stdout",
     "output_type": "stream",
     "text": [
      "CV balanced accuracy (train): 0.555 ± 0.036\n"
     ]
    }
   ],
   "source": [
    "X_train, X_test, y_train, y_test = train_test_split(\n",
    "    X_demo, y, test_size=0.2, stratify=y, random_state=42\n",
    ")\n",
    "pipeline = ImbPipeline([\n",
    "    (\"scale\", StandardScaler()),\n",
    "    (\"smote\", SMOTE(random_state=42)),\n",
    "    (\"rf\", RandomForestClassifier(n_estimators=200, class_weight=\"balanced\", random_state=42))\n",
    "])\n",
    "\n",
    "cv = StratifiedKFold(n_splits=5, shuffle=True, random_state=42)\n",
    "scores = cross_val_score(\n",
    "    pipeline, X_train, y_train,\n",
    "    cv=cv,\n",
    "    scoring=make_scorer(balanced_accuracy_score),\n",
    "    n_jobs=-1\n",
    ")\n",
    "\n",
    "print(f\"CV balanced accuracy (train): {scores.mean():.3f} ± {scores.std():.3f}\")"
   ]
  },
  {
   "cell_type": "code",
   "execution_count": 6,
   "id": "2f1e5fc4",
   "metadata": {},
   "outputs": [
    {
     "name": "stdout",
     "output_type": "stream",
     "text": [
      "Balanced Accuracy: 0.499692118226601\n",
      "                  precision    recall  f1-score   support\n",
      "\n",
      "Asymptomatic (0)       0.39      0.48      0.43        56\n",
      "          PD (1)       0.61      0.52      0.56        87\n",
      "\n",
      "        accuracy                           0.50       143\n",
      "       macro avg       0.50      0.50      0.50       143\n",
      "    weighted avg       0.52      0.50      0.51       143\n",
      "\n"
     ]
    }
   ],
   "source": [
    "pipeline.fit(X_train, y_train)\n",
    "y_pred = pipeline.predict(X_test)\n",
    "y_prob = pipeline.predict_proba(X_test)[:, 1]   \n",
    "\n",
    "# Evaluate\n",
    "print(\"Balanced Accuracy:\", balanced_accuracy_score(y_test, y_pred))\n",
    "print(classification_report(y_test, y_pred, target_names=[\"Asymptomatic (0)\", \"PD (1)\"]))"
   ]
  },
  {
   "cell_type": "markdown",
   "id": "e18e17fb",
   "metadata": {},
   "source": [
    "DEMOGRAPHICS + MRI ONLY"
   ]
  },
  {
   "cell_type": "code",
   "execution_count": 7,
   "id": "64c08bd6",
   "metadata": {},
   "outputs": [
    {
     "name": "stdout",
     "output_type": "stream",
     "text": [
      "X shape: (712, 9)\n",
      "y shape: (712,)\n"
     ]
    }
   ],
   "source": [
    "cols_to_include = [\"GENDER_MAPPED\",\"AGE\",\"EDUC_YRS\",\"lh_MeanThickness\",\"lh_WhiteSurfArea\",\"lhCerebralWhiteMatterVol\",\"Left_Cerebellum_White_Matter\",\"CerebralWhiteMatterVol\",\"lhSurfaceHoles\"]\n",
    "feature_cols_demo_mri = merged_file.columns.intersection(cols_to_include)\n",
    "X_demo_mri = merged_file[feature_cols_demo_mri]\n",
    "y = merged_file[target_col]\n",
    "print(\"X shape:\", X_demo_mri.shape)\n",
    "print(\"y shape:\", y.shape)"
   ]
  },
  {
   "cell_type": "code",
   "execution_count": 8,
   "id": "370c31c6",
   "metadata": {},
   "outputs": [
    {
     "name": "stdout",
     "output_type": "stream",
     "text": [
      "CV balanced accuracy (train): 0.538 ± 0.050\n"
     ]
    }
   ],
   "source": [
    "X_train, X_test, y_train, y_test = train_test_split(\n",
    "    X_demo_mri, y, test_size=0.2, stratify=y, random_state=42\n",
    ")\n",
    "pipeline = ImbPipeline([\n",
    "    (\"scale\", StandardScaler()),\n",
    "    (\"smote\", SMOTE(random_state=42)),\n",
    "    (\"rf\", RandomForestClassifier(n_estimators=200, class_weight=\"balanced\", random_state=42))\n",
    "])\n",
    "\n",
    "cv = StratifiedKFold(n_splits=5, shuffle=True, random_state=42)\n",
    "scores = cross_val_score(\n",
    "    pipeline, X_train, y_train,\n",
    "    cv=cv,\n",
    "    scoring=make_scorer(balanced_accuracy_score),\n",
    "    n_jobs=-1\n",
    ")\n",
    "\n",
    "print(f\"CV balanced accuracy (train): {scores.mean():.3f} ± {scores.std():.3f}\")"
   ]
  },
  {
   "cell_type": "code",
   "execution_count": 9,
   "id": "4345fa4e",
   "metadata": {},
   "outputs": [
    {
     "name": "stdout",
     "output_type": "stream",
     "text": [
      "Balanced Accuracy: 0.5099548440065682\n",
      "                  precision    recall  f1-score   support\n",
      "\n",
      "Asymptomatic (0)       0.40      0.41      0.41        56\n",
      "          PD (1)       0.62      0.61      0.61        87\n",
      "\n",
      "        accuracy                           0.53       143\n",
      "       macro avg       0.51      0.51      0.51       143\n",
      "    weighted avg       0.53      0.53      0.53       143\n",
      "\n"
     ]
    }
   ],
   "source": [
    "pipeline.fit(X_train, y_train)\n",
    "y_pred = pipeline.predict(X_test)\n",
    "y_prob = pipeline.predict_proba(X_test)[:, 1]   \n",
    "\n",
    "# Evaluate\n",
    "print(\"Balanced Accuracy:\", balanced_accuracy_score(y_test, y_pred))\n",
    "print(classification_report(y_test, y_pred, target_names=[\"Asymptomatic (0)\", \"PD (1)\"]))"
   ]
  },
  {
   "cell_type": "markdown",
   "id": "e2876250",
   "metadata": {},
   "source": [
    "DEMOGRAPHICS + MRI + GENE"
   ]
  },
  {
   "cell_type": "code",
   "execution_count": 10,
   "id": "a90c1627",
   "metadata": {},
   "outputs": [
    {
     "name": "stdout",
     "output_type": "stream",
     "text": [
      "X shape: (712, 108)\n",
      "y shape: (712,)\n"
     ]
    }
   ],
   "source": [
    "cols_to_exclude = [\"PATNO\",\"EVENT_ID\",\"NHY\",\"NHY_MAPPED\",\"GENDER\",\"NHY_BL\",\"MRIRSLT\",\"rh_MeanThickness\",\"rh_WhiteSurfArea\",\"rhCerebralWhiteMatterVol\",\"Right_Cerebellum_White_Matter\",\"CerebralWhiteMatterVol\",\"rhSurfaceHoles\"]\n",
    "feature_cols = merged_file.columns.difference(cols_to_exclude)\n",
    "X = merged_file[feature_cols]\n",
    "y = merged_file[target_col]\n",
    "print(\"X shape:\", X.shape)\n",
    "print(\"y shape:\", y.shape)"
   ]
  },
  {
   "cell_type": "code",
   "execution_count": 11,
   "id": "31ba4118",
   "metadata": {},
   "outputs": [
    {
     "name": "stdout",
     "output_type": "stream",
     "text": [
      "CV balanced accuracy (train): 0.555 ± 0.031\n"
     ]
    }
   ],
   "source": [
    "X_train, X_test, y_train, y_test = train_test_split(\n",
    "    X, y, test_size=0.2, stratify=y, random_state=42\n",
    ")\n",
    "#selector = SelectKBest(score_func=f_classif, k=50)\n",
    "#X_train_selected = selector.fit_transform(X_train, y_train)\n",
    "#X_test_selected = selector.transform(X_test)\n",
    "#selected_genes = X.columns[selector.get_support()]\n",
    "#print(selected_genes[:50])\n",
    "pipeline = ImbPipeline([\n",
    "    (\"scale\", StandardScaler()),\n",
    "    (\"smote\", SMOTE(random_state=42)),\n",
    "    (\"rf\", RandomForestClassifier(n_estimators=200, class_weight=\"balanced\", random_state=42))\n",
    "])\n",
    "\n",
    "cv = StratifiedKFold(n_splits=5, shuffle=True, random_state=42)\n",
    "scores = cross_val_score(\n",
    "    pipeline, X_train, y_train,\n",
    "    cv=cv,\n",
    "    scoring=make_scorer(balanced_accuracy_score),\n",
    "    n_jobs=-1\n",
    ")\n",
    "\n",
    "print(f\"CV balanced accuracy (train): {scores.mean():.3f} ± {scores.std():.3f}\")"
   ]
  },
  {
   "cell_type": "markdown",
   "id": "20514034",
   "metadata": {},
   "source": [
    "ROC CURVE"
   ]
  },
  {
   "cell_type": "code",
   "execution_count": 12,
   "id": "763f4f68",
   "metadata": {},
   "outputs": [
    {
     "name": "stdout",
     "output_type": "stream",
     "text": [
      "ROC-AUC: 0.704\n"
     ]
    },
    {
     "data": {
      "image/png": "[encoded data removed]",
      "text/plain": [
       "<Figure size 640x480 with 1 Axes>"
      ]
     },
     "metadata": {},
     "output_type": "display_data"
    },
    {
     "name": "stdout",
     "output_type": "stream",
     "text": [
      "Balanced Accuracy: 0.6554802955665024\n",
      "                  precision    recall  f1-score   support\n",
      "\n",
      "Asymptomatic (0)       0.62      0.52      0.56        56\n",
      "          PD (1)       0.72      0.79      0.75        87\n",
      "\n",
      "        accuracy                           0.69       143\n",
      "       macro avg       0.67      0.66      0.66       143\n",
      "    weighted avg       0.68      0.69      0.68       143\n",
      "\n"
     ]
    },
    {
     "data": {
      "image/png": "[encoded data removed]",
      "text/plain": [
       "<Figure size 640x480 with 2 Axes>"
      ]
     },
     "metadata": {},
     "output_type": "display_data"
    }
   ],
   "source": [
    "pipeline.fit(X_train, y_train)\n",
    "y_pred = pipeline.predict(X_test)\n",
    "y_prob = pipeline.predict_proba(X_test)[:, 1]   \n",
    "roc_auc = roc_auc_score(y_test, y_prob)\n",
    "\n",
    "print(f\"ROC-AUC: {roc_auc:.3f}\")\n",
    "\n",
    "# Optional: plot ROC curve\n",
    "RocCurveDisplay.from_predictions(y_test, y_prob)\n",
    "plt.title(\"ROC curve (binary)\")\n",
    "plt.show()\n",
    "\n",
    "# Evaluate\n",
    "print(\"Balanced Accuracy:\", balanced_accuracy_score(y_test, y_pred))\n",
    "print(classification_report(y_test, y_pred, target_names=[\"Asymptomatic (0)\", \"PD (1)\"]))\n",
    "\n",
    "# Plot confusion matrix\n",
    "ConfusionMatrixDisplay.from_predictions(y_test, y_pred, display_labels=[\"Assymptomatic (0)\", \"PD (1)\"], cmap=\"Blues\")\n",
    "plt.title(\"NHY Binary – Confusion Matrix\")\n",
    "plt.tight_layout()\n",
    "plt.show()"
   ]
  }
 ],
 "metadata": {
  "kernelspec": {
   "display_name": "base",
   "language": "python",
   "name": "python3"
  },
  "language_info": {
   "codemirror_mode": {
    "name": "ipython",
    "version": 3
   },
   "file_extension": ".py",
   "mimetype": "text/x-python",
   "name": "python",
   "nbconvert_exporter": "python",
   "pygments_lexer": "ipython3",
   "version": "3.13.2"
  }
 },
 "nbformat": 4,
 "nbformat_minor": 5
}
