{
 "cells": [
  {
   "cell_type": "code",
   "execution_count": 85,
   "id": "aaf37f08",
   "metadata": {},
   "outputs": [],
   "source": [
    "import pandas as pd\n",
    "import numpy as np\n",
    "import matplotlib.pyplot as plt\n",
    "import sys, os\n",
    "\n",
    "from sklearn.model_selection import train_test_split, cross_val_score\n",
    "from sklearn.neighbors import KNeighborsClassifier\n",
    "from sklearn.metrics import classification_report\n",
    "from sklearn.impute import SimpleImputer\n",
    "from sklearn.model_selection import GridSearchCV\n",
    "from sklearn.impute import SimpleImputer\n",
    "\n",
    "\n",
    "\n",
    "#sys.path.append(\"../../src\")  # adjust path as needed\n",
    "#from data_loader import LoadData\n",
    "from ml_model import MlModels"
   ]
  },
  {
   "cell_type": "code",
   "execution_count": 86,
   "id": "cd128088",
   "metadata": {},
   "outputs": [
    {
     "name": "stdout",
     "output_type": "stream",
     "text": [
      "Index(['PATNO', 'MRIRSLT', 'lh_MeanThickness', 'rh_MeanThickness',\n",
      "       'lh_WhiteSurfArea', 'rh_WhiteSurfArea', 'rhCerebralWhiteMatterVol',\n",
      "       'lhCerebralWhiteMatterVol', 'Left_Cerebellum_White_Matter',\n",
      "       'Right_Cerebellum_White_Matter',\n",
      "       ...\n",
      "       'ENSG00000261740', 'ENSG00000204577', 'ENSG00000213221',\n",
      "       'ENSG00000166136', 'ENSG00000165983', 'ENSG00000254929',\n",
      "       'ENSG00000135929', 'NHY_BL', 'EVENT_ID', 'NHY'],\n",
      "      dtype='object', length=119)\n",
      "Any NaN values in merged_df True\n"
     ]
    }
   ],
   "source": [
    "#instiantiate the reading class\n",
    "merged_df = pd.read_csv('../../../../Data_sets/Quick_Start/Data/merged_all.csv')\n",
    "\n",
    "print(merged_df.columns)\n",
    "\"\"\"\n",
    "input_path = path\n",
    "output_path = path + 'fomatted_data/Updated/with_clinical_data'\n",
    "data = LoadData.merged_data(data_path=input_path, output_path=output_path, gene_list=selected_genes.to_list(), \n",
    "                write_csv=1, phaseIandII=1, genetic_cohort=1,clinical_data=1)\n",
    "\n",
    "genedata_all,unmatchedkeys = data.gene_expression(match_event=False)\n",
    "\"\"\"\n",
    "\n",
    "print(\"Any NaN values in merged_df\", merged_df.isnull().values.any())"
   ]
  },
  {
   "cell_type": "code",
   "execution_count": 87,
   "id": "797f23a8",
   "metadata": {},
   "outputs": [],
   "source": [
    "nhy_map = {0:0,1:1,2:1,3:1,4:1,5:1}\n",
    "\n",
    "merged_df['GENDER'] = merged_df['GENDER'].map({'Male': 0, 'Female': 1})\n",
    "merged_df.loc[:,\"NHY_MAPPED\"] = merged_df[\"NHY\"].map(nhy_map)\n",
    "target_col = \"NHY_MAPPED\""
   ]
  },
  {
   "cell_type": "code",
   "execution_count": 88,
   "id": "80611760",
   "metadata": {},
   "outputs": [],
   "source": [
    "merged_df = merged_df.dropna()\n"
   ]
  },
  {
   "cell_type": "code",
   "execution_count": 89,
   "id": "960ff8a2",
   "metadata": {},
   "outputs": [
    {
     "name": "stdout",
     "output_type": "stream",
     "text": [
      "Cross-validation scores (7 folds): [0.54794521 0.46575342 0.49315068 0.56164384 0.49315068 0.5890411\n",
      " 0.42465753]\n",
      "Mean CV score: 0.5107632093933464\n",
      "              precision    recall  f1-score   support\n",
      "\n",
      "           0       0.46      0.45      0.46        55\n",
      "           1       0.59      0.60      0.60        73\n",
      "\n",
      "    accuracy                           0.54       128\n",
      "   macro avg       0.53      0.53      0.53       128\n",
      "weighted avg       0.54      0.54      0.54       128\n",
      "\n"
     ]
    }
   ],
   "source": [
    "X = merged_df.drop(columns=['NHY','NHY_BL', 'PATNO', 'EVENT_ID']) \n",
    "y = merged_df[target_col]\n",
    "\n",
    "# Impute missing values with the mean of each column\n",
    "imputer = SimpleImputer(strategy='mean')\n",
    "X_imputed = pd.DataFrame(imputer.fit_transform(X), columns=X.columns, index=X.index)\n",
    "\n",
    "X_train, X_test, y_train, y_test = train_test_split(X_imputed, y, test_size=0.2, random_state=42, stratify=y)\n",
    "\n",
    "knn = KNeighborsClassifier()\n",
    "\n",
    "cv_folds = round(1 / 0.15)\n",
    "cv_scores = cross_val_score(knn, X_train, y_train, cv=cv_folds)\n",
    "\n",
    "print(f\"Cross-validation scores ({cv_folds} folds):\", cv_scores)\n",
    "print(\"Mean CV score:\", cv_scores.mean())\n",
    "\n",
    "knn.fit(X_train, y_train)\n",
    "y_pred = knn.predict(X_test)\n",
    "print(classification_report(y_test, y_pred))"
   ]
  },
  {
   "cell_type": "code",
   "execution_count": 90,
   "id": "382090e5",
   "metadata": {},
   "outputs": [
    {
     "name": "stdout",
     "output_type": "stream",
     "text": [
      "Best parameters found: {'metric': 'euclidean', 'n_neighbors': 11, 'weights': 'uniform'}\n",
      "Best cross-validation score: 0.5362035225048924\n",
      "              precision    recall  f1-score   support\n",
      "\n",
      "           0       0.63      0.35      0.45        55\n",
      "           1       0.63      0.85      0.73        73\n",
      "\n",
      "    accuracy                           0.63       128\n",
      "   macro avg       0.63      0.60      0.59       128\n",
      "weighted avg       0.63      0.63      0.61       128\n",
      "\n"
     ]
    }
   ],
   "source": [
    "param_grid = {\n",
    "    'n_neighbors': [7, 9, 10, 11, 12, 13, 14, 15],\n",
    "    'weights': ['uniform', 'distance'],\n",
    "    'metric': ['euclidean', 'manhattan']\n",
    "}\n",
    "\n",
    "grid_search = GridSearchCV(KNeighborsClassifier(), param_grid, cv=cv_folds, scoring='accuracy', n_jobs=-1)\n",
    "grid_search.fit(X_train, y_train)\n",
    "\n",
    "\n",
    "\n",
    "best_knn = grid_search.best_estimator_\n",
    "y_pred_best = best_knn.predict(X_test)\n",
    "\n",
    "print(\"Best parameters found:\", grid_search.best_params_)\n",
    "print(\"Best cross-validation score:\", grid_search.best_score_)\n",
    "\n",
    "print(classification_report(y_test, y_pred_best))"
   ]
  },
  {
   "cell_type": "code",
   "execution_count": 91,
   "id": "d476e852",
   "metadata": {},
   "outputs": [
    {
     "data": {
      "image/png": "[encoded data removed]",
      "text/plain": [
       "<Figure size 1000x500 with 1 Axes>"
      ]
     },
     "metadata": {},
     "output_type": "display_data"
    }
   ],
   "source": [
    "# Plotting cross-validation scores and test accuracy for best_knn\n",
    "# Cross-validation scores from grid_search\n",
    "cv_results = grid_search.cv_results_['mean_test_score']\n",
    "param_n_neighbors = grid_search.cv_results_['param_n_neighbors']\n",
    "\n",
    "plt.figure(figsize=(10, 5))\n",
    "plt.scatter(param_n_neighbors, cv_results[:len(param_n_neighbors)], marker='o', label='Mean CV Score (GridSearch)')\n",
    "\n",
    "# Test accuracy for best_knn\n",
    "test_accuracy = best_knn.score(X_test, y_test)\n",
    "plt.axhline(test_accuracy, color='red', linestyle='--', label=f'Test Accuracy: {test_accuracy:.2f}')\n",
    "\n",
    "plt.xlabel('n_neighbors')\n",
    "plt.ylabel('Accuracy')\n",
    "plt.title('KNN Cross-Validation Scores and Test Accuracy')\n",
    "plt.legend()\n",
    "plt.show()"
   ]
  },
  {
   "cell_type": "code",
   "execution_count": null,
   "id": "77cb02f6",
   "metadata": {},
   "outputs": [],
   "source": []
  },
  {
   "cell_type": "code",
   "execution_count": null,
   "id": "57f1fff8",
   "metadata": {},
   "outputs": [],
   "source": []
  }
 ],
 "metadata": {
  "kernelspec": {
   "display_name": "erdos_summer_2025",
   "language": "python",
   "name": "python3"
  },
  "language_info": {
   "codemirror_mode": {
    "name": "ipython",
    "version": 3
   },
   "file_extension": ".py",
   "mimetype": "text/x-python",
   "name": "python",
   "nbconvert_exporter": "python",
   "pygments_lexer": "ipython3",
   "version": "3.12.10"
  }
 },
 "nbformat": 4,
 "nbformat_minor": 5
}
