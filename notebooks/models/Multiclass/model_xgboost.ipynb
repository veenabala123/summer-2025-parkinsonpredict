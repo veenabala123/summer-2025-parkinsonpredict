{
 "cells": [
  {
   "cell_type": "code",
   "execution_count": 1,
   "id": "7d66a1e7",
   "metadata": {},
   "outputs": [],
   "source": [
    "import os,sys\n",
    "import math\n",
    "\n",
    "import numpy as np\n",
    "import scipy as sp\n",
    "import pandas as pd\n",
    "import matplotlib.pyplot as plt\n",
    "from IPython.display import HTML\n",
    "import seaborn as sns\n",
    "sys.path.append(\"../../src\")  # adjust path as needed\n",
    "from data_loader import LoadData\n",
    "from model import MlModels\n",
    "from evaluation import Evaluate"
   ]
  },
  {
   "cell_type": "markdown",
   "id": "57aa5356",
   "metadata": {},
   "source": [
    "### MRI and Demographic Data"
   ]
  },
  {
   "cell_type": "markdown",
   "id": "4f54d18e",
   "metadata": {},
   "source": [
    "### Load the Data"
   ]
  },
  {
   "cell_type": "code",
   "execution_count": 2,
   "id": "e94748e6",
   "metadata": {},
   "outputs": [
    {
     "name": "stdout",
     "output_type": "stream",
     "text": [
      "X shape: (712, 110), Y shape: (712, 1)\n",
      "Y class distribution: {(1.0,): 328, (0.0,): 277, (2.0,): 107}\n",
      "['rh_MeanThickness', 'rh_WhiteSurfArea', 'Left_Cerebellum_White_Matter', 'Right_Cerebellum_White_Matter', 'CerebralWhiteMatterVol', 'rhSurfaceHoles', 'lhSurfaceHoles']\n"
     ]
    }
   ],
   "source": [
    "# --- Load data\n",
    "mri_data_path = \"/Users/pushpita/Documents/Erdos_bootcamp/our_project/Data/clean_data/PDMRI_Clean_Merged_6_13_25.csv\"\n",
    "gene_data_path = \"/Users/pushpita/Documents/Erdos_bootcamp/our_project/Data/clean_data/gene_expression_summary.csv\"\n",
    "nhy_latest_path = \"/Users/pushpita/Documents/Erdos_bootcamp/our_project/Data/clean_data/clean_mds_updrs_v1.csv\"\n",
    "\n",
    "dataload_mri_cls = LoadData(input_updrs=nhy_latest_path,\n",
    "    input_gene_clinical=gene_data_path,\n",
    "    input_mri=mri_data_path,\n",
    "    mri_data=True,\n",
    "    gene_data=False,\n",
    "    group_NHY=True,\n",
    "    common_dataset=True,\n",
    "    stratify_splits=True)\n",
    "\n",
    "X_data, Y_data = dataload_mri_cls.merged_data()"
   ]
  },
  {
   "cell_type": "code",
   "execution_count": 3,
   "id": "e1f58b9e",
   "metadata": {},
   "outputs": [
    {
     "data": {
      "image/png": "[encoded data removed]",
      "text/plain": [
       "<Figure size 600x400 with 1 Axes>"
      ]
     },
     "metadata": {},
     "output_type": "display_data"
    }
   ],
   "source": [
    "plt.figure(figsize=(6, 4))\n",
    "sns.countplot(x='NHY', data=Y_data, hue='NHY', palette='pastel', edgecolor='black')\n",
    "plt.title(\"Distribution of NHY Scores\", fontsize=12)\n",
    "plt.xlabel(\"NHY Score\", fontsize=12)\n",
    "plt.ylabel(\"Count\", fontsize=12)\n",
    "plt.grid(axis='y', linestyle='--', alpha=0.5)\n",
    "sns.despine()\n",
    "plt.tight_layout()\n",
    "plt.show()"
   ]
  },
  {
   "cell_type": "markdown",
   "id": "600a678c",
   "metadata": {},
   "source": [
    "### Split the data"
   ]
  },
  {
   "cell_type": "code",
   "execution_count": 4,
   "id": "fe981ae7",
   "metadata": {},
   "outputs": [],
   "source": [
    "X_train, Y_train, X_cv, Y_cv, X_test, Y_test = dataload_mri_cls.data_split(X_data, Y_data)\n",
    "data = {}\n",
    "data['X_train'] = X_train\n",
    "data['Y_train'] = Y_train"
   ]
  },
  {
   "cell_type": "markdown",
   "id": "ebd19d65",
   "metadata": {},
   "source": [
    "### Logistic Regression model"
   ]
  },
  {
   "cell_type": "code",
   "execution_count": 5,
   "id": "4647c231",
   "metadata": {},
   "outputs": [],
   "source": [
    "\n",
    "data0 = Y_train[Y_train == 0]\n",
    "data1 = Y_train[Y_train == 1]\n",
    "data2 = Y_train[Y_train == 2]\n",
    "\n",
    "w0 = len(data0)/ (len(data0) + len(data1) + len(data2))\n",
    "w1 = len(data1)/ (len(data0) + len(data1) + len(data2))\n",
    "w2 = len(data2)/ (len(data0) + len(data1) + len(data2))\n",
    "\n",
    "class_weights = {0: w0, 1: w1, 2: w2}\n",
    "\n",
    "params_xgb = {\n",
    "    'max_depth': 5,\n",
    "    'n_estimators': 800,\n",
    "    'objective': 'multi:softprob',\n",
    "    'num_class': 3,\n",
    "    'reg_alpha': 0.5,   # L1\n",
    "    'reg_lambda': 1.0,   # L2\n",
    "    'learning_rate': 0.2,\n",
    "    'subsample': 0.5\n",
    "}\n",
    "\n",
    "my_model_boost = MlModels(\n",
    "    model_name='xgboost',\n",
    "    data=data,\n",
    "    params=params_xgb,\n",
    "    pca_flag=False\n",
    ")\n",
    "\n",
    "model_boost_train = my_model_boost.build_model()\n"
   ]
  },
  {
   "cell_type": "code",
   "execution_count": 6,
   "id": "58966767",
   "metadata": {},
   "outputs": [
    {
     "name": "stdout",
     "output_type": "stream",
     "text": [
      "\n",
      "✅ Validation Accuracy: 0.4767\n",
      "\n",
      "📋 Classification Report:\n",
      "╒══════════════╤═════════════╤══════════╤════════════╤═══════════╕\n",
      "│              │   precision │   recall │   f1-score │   support │\n",
      "╞══════════════╪═════════════╪══════════╪════════════╪═══════════╡\n",
      "│ 0.0          │       0.444 │    0.485 │      0.464 │    33     │\n",
      "├──────────────┼─────────────┼──────────┼────────────┼───────────┤\n",
      "│ 1.0          │       0.585 │    0.6   │      0.593 │    40     │\n",
      "├──────────────┼─────────────┼──────────┼────────────┼───────────┤\n",
      "│ 2.0          │       0.111 │    0.077 │      0.091 │    13     │\n",
      "├──────────────┼─────────────┼──────────┼────────────┼───────────┤\n",
      "│ accuracy     │       0.477 │    0.477 │      0.477 │     0.477 │\n",
      "├──────────────┼─────────────┼──────────┼────────────┼───────────┤\n",
      "│ macro avg    │       0.38  │    0.387 │      0.382 │    86     │\n",
      "├──────────────┼─────────────┼──────────┼────────────┼───────────┤\n",
      "│ weighted avg │       0.46  │    0.477 │      0.467 │    86     │\n",
      "╘══════════════╧═════════════╧══════════╧════════════╧═══════════╛\n",
      "\n",
      "🧩 Confusion Matrix:\n",
      "╒═══╤════╤════╤═══╕\n",
      "│ 0 │ 16 │ 10 │ 7 │\n",
      "├───┼────┼────┼───┤\n",
      "│ 1 │ 15 │ 24 │ 1 │\n",
      "├───┼────┼────┼───┤\n",
      "│ 2 │  5 │  7 │ 1 │\n",
      "╘═══╧════╧════╧═══╛\n"
     ]
    }
   ],
   "source": [
    "eval_objs = Evaluate(my_model_boost, X_cv, Y_cv)\n",
    "eval_results = eval_objs.report_validation_metrics()"
   ]
  },
  {
   "cell_type": "markdown",
   "id": "d4103fd0",
   "metadata": {},
   "source": [
    "### Demographic, Gene Expressions and MRI"
   ]
  },
  {
   "cell_type": "markdown",
   "id": "e1d72278",
   "metadata": {},
   "source": [
    "Grid Search Params: \n",
    "\n",
    "Best Parameters: {'learning_rate': 0.1, 'max_depth': 4, 'n_estimators': 100, 'reg_alpha': 1.0, 'reg_lambda': 2.0, 'subsample': 0.5}\n",
    "Best Accuracy: 0.5196687370600414\n"
   ]
  },
  {
   "cell_type": "code",
   "execution_count": 7,
   "id": "11935b13",
   "metadata": {},
   "outputs": [
    {
     "name": "stdout",
     "output_type": "stream",
     "text": [
      "X shape: (712, 110), Y shape: (712, 1)\n",
      "Y class distribution: {(1.0,): 327, (0.0,): 278, (2.0,): 107}\n"
     ]
    }
   ],
   "source": [
    "# --- Load data\n",
    "mri_data_path = \"/Users/pushpita/Documents/Erdos_bootcamp/our_project/Data/clean_data/PDMRI_Clean_Merged_6_13_25.csv\"\n",
    "gene_data_path = \"/Users/pushpita/Documents/Erdos_bootcamp/our_project/Data/clean_data/gene_expression_summary.csv\"\n",
    "nhy_latest_path = \"/Users/pushpita/Documents/Erdos_bootcamp/our_project/Data/clean_data/clean_mds_updrs.csv\"\n",
    "\n",
    "dataload_all_cls = LoadData(input_updrs=nhy_latest_path,\n",
    "    input_gene_clinical=gene_data_path,\n",
    "    input_mri=mri_data_path,\n",
    "    mri_data=True,\n",
    "    gene_data=True,\n",
    "    group_NHY=True,\n",
    "    common_dataset=True,\n",
    "    stratify_splits=True)\n",
    "\n",
    "X_data, Y_data = dataload_all_cls.merged_data()"
   ]
  },
  {
   "cell_type": "code",
   "execution_count": 8,
   "id": "f1f096fd",
   "metadata": {},
   "outputs": [
    {
     "data": {
      "image/png": "[encoded data removed]",
      "text/plain": [
       "<Figure size 600x400 with 1 Axes>"
      ]
     },
     "metadata": {},
     "output_type": "display_data"
    }
   ],
   "source": [
    "plt.figure(figsize=(6, 4))\n",
    "sns.countplot(x='NHY', data=Y_data, hue='NHY', palette='pastel', edgecolor='black')\n",
    "plt.title(\"Distribution of NHY Scores\", fontsize=12)\n",
    "plt.xlabel(\"NHY Score\", fontsize=12)\n",
    "plt.ylabel(\"Count\", fontsize=12)\n",
    "plt.grid(axis='y', linestyle='--', alpha=0.5)\n",
    "sns.despine()\n",
    "plt.tight_layout()\n",
    "plt.show()"
   ]
  },
  {
   "cell_type": "code",
   "execution_count": 9,
   "id": "eddce78f",
   "metadata": {},
   "outputs": [],
   "source": [
    "X_train, Y_train, X_cv, Y_cv, X_test, Y_test = dataload_all_cls.data_split(X_data, Y_data)\n",
    "data_all = {}\n",
    "data_all['X_train'] = X_train\n",
    "data_all['Y_train'] = Y_train"
   ]
  },
  {
   "cell_type": "markdown",
   "id": "0a4e674a",
   "metadata": {},
   "source": [
    "### Model 1"
   ]
  },
  {
   "cell_type": "code",
   "execution_count": 10,
   "id": "815b284e",
   "metadata": {},
   "outputs": [
    {
     "name": "stdout",
     "output_type": "stream",
     "text": [
      "\n",
      "✅ Validation Accuracy: 0.4884\n",
      "\n",
      "📋 Classification Report:\n",
      "╒══════════════╤═════════════╤══════════╤════════════╤═══════════╕\n",
      "│              │   precision │   recall │   f1-score │   support │\n",
      "╞══════════════╪═════════════╪══════════╪════════════╪═══════════╡\n",
      "│ 0.0          │       0.471 │    0.471 │      0.471 │    34     │\n",
      "├──────────────┼─────────────┼──────────┼────────────┼───────────┤\n",
      "│ 1.0          │       0.523 │    0.59  │      0.554 │    39     │\n",
      "├──────────────┼─────────────┼──────────┼────────────┼───────────┤\n",
      "│ 2.0          │       0.375 │    0.231 │      0.286 │    13     │\n",
      "├──────────────┼─────────────┼──────────┼────────────┼───────────┤\n",
      "│ accuracy     │       0.488 │    0.488 │      0.488 │     0.488 │\n",
      "├──────────────┼─────────────┼──────────┼────────────┼───────────┤\n",
      "│ macro avg    │       0.456 │    0.43  │      0.437 │    86     │\n",
      "├──────────────┼─────────────┼──────────┼────────────┼───────────┤\n",
      "│ weighted avg │       0.48  │    0.488 │      0.481 │    86     │\n",
      "╘══════════════╧═════════════╧══════════╧════════════╧═══════════╛\n",
      "\n",
      "🧩 Confusion Matrix:\n",
      "╒═══╤════╤════╤═══╕\n",
      "│ 0 │ 16 │ 15 │ 3 │\n",
      "├───┼────┼────┼───┤\n",
      "│ 1 │ 14 │ 23 │ 2 │\n",
      "├───┼────┼────┼───┤\n",
      "│ 2 │  4 │  6 │ 3 │\n",
      "╘═══╧════╧════╧═══╛\n"
     ]
    }
   ],
   "source": [
    "data0 = Y_train[Y_train == 0]\n",
    "data1 = Y_train[Y_train == 1]\n",
    "data2 = Y_train[Y_train == 2]\n",
    "\n",
    "w0 = len(data0)/ (len(data0) + len(data1) + len(data2))\n",
    "w1 = len(data1)/ (len(data0) + len(data1) + len(data2))\n",
    "w2 = len(data2)/ (len(data0) + len(data1) + len(data2))\n",
    "\n",
    "# class_weights = {0: w0, 1: w1, 2: w2}\n",
    "\n",
    "total = len(data0) + len(data1) + len(data2)\n",
    "n_classes = 3\n",
    "class_weights = {\n",
    "    0: total / (n_classes * len(data0)),\n",
    "    1: total / (n_classes * len(data1)),\n",
    "    2: total / (n_classes * len(data2)),\n",
    "}\n",
    "\n",
    "params_xgb = {\n",
    "    'max_depth': 4,\n",
    "    'n_estimators': 800,\n",
    "    'objective': 'multi:softprob',\n",
    "    'num_class': 3,\n",
    "    'reg_alpha': 2.4,   # L1\n",
    "    'reg_lambda': 1.5,   # L2\n",
    "    'learning_rate': 0.03,\n",
    "    'subsample': 0.3\n",
    "}\n",
    "\n",
    "my_model_boost_alldata = MlModels(\n",
    "    model_name='xgboost',\n",
    "    data=data_all,\n",
    "    params=params_xgb,\n",
    "    pca_flag=True,\n",
    "    pca_components=70,\n",
    "    sample_weight=True,\n",
    "    boost_class_weights=class_weights,\n",
    ")\n",
    "\n",
    "model_boost_train_alldata = my_model_boost_alldata.build_model()\n",
    "\n",
    "eval_objs_alldata = Evaluate(my_model_boost_alldata, X_cv, Y_cv)\n",
    "eval_results_alldata = eval_objs_alldata.report_validation_metrics()"
   ]
  },
  {
   "cell_type": "markdown",
   "id": "cc2c6611",
   "metadata": {},
   "source": [
    "##### Model 1 [Test Set]"
   ]
  },
  {
   "cell_type": "code",
   "execution_count": 11,
   "id": "179c7cfe",
   "metadata": {},
   "outputs": [
    {
     "name": "stdout",
     "output_type": "stream",
     "text": [
      "\n",
      "✅ Validation Accuracy: 0.4196\n",
      "\n",
      "📋 Classification Report:\n",
      "╒══════════════╤═════════════╤══════════╤════════════╤═══════════╕\n",
      "│              │   precision │   recall │   f1-score │   support │\n",
      "╞══════════════╪═════════════╪══════════╪════════════╪═══════════╡\n",
      "│ 0.0          │       0.429 │    0.482 │      0.454 │     56    │\n",
      "├──────────────┼─────────────┼──────────┼────────────┼───────────┤\n",
      "│ 1.0          │       0.534 │    0.47  │      0.5   │     66    │\n",
      "├──────────────┼─────────────┼──────────┼────────────┼───────────┤\n",
      "│ 2.0          │       0.091 │    0.095 │      0.093 │     21    │\n",
      "├──────────────┼─────────────┼──────────┼────────────┼───────────┤\n",
      "│ accuracy     │       0.42  │    0.42  │      0.42  │      0.42 │\n",
      "├──────────────┼─────────────┼──────────┼────────────┼───────────┤\n",
      "│ macro avg    │       0.351 │    0.349 │      0.349 │    143    │\n",
      "├──────────────┼─────────────┼──────────┼────────────┼───────────┤\n",
      "│ weighted avg │       0.428 │    0.42  │      0.422 │    143    │\n",
      "╘══════════════╧═════════════╧══════════╧════════════╧═══════════╛\n",
      "\n",
      "🧩 Confusion Matrix:\n",
      "╒═══╤════╤════╤════╕\n",
      "│ 0 │ 27 │ 18 │ 11 │\n",
      "├───┼────┼────┼────┤\n",
      "│ 1 │ 26 │ 31 │  9 │\n",
      "├───┼────┼────┼────┤\n",
      "│ 2 │ 10 │  9 │  2 │\n",
      "╘═══╧════╧════╧════╛\n"
     ]
    }
   ],
   "source": [
    "eval_objs_alldata = Evaluate(my_model_boost_alldata, X_test, Y_test)\n",
    "eval_results_alldata = eval_objs_alldata.report_validation_metrics()"
   ]
  },
  {
   "cell_type": "markdown",
   "id": "92e7e49d",
   "metadata": {},
   "source": [
    "### Model 2 [Best]"
   ]
  },
  {
   "cell_type": "code",
   "execution_count": 12,
   "id": "8c85bd8d",
   "metadata": {},
   "outputs": [
    {
     "name": "stdout",
     "output_type": "stream",
     "text": [
      "\n",
      "✅ Validation Accuracy: 0.5000\n",
      "\n",
      "📋 Classification Report:\n",
      "╒══════════════╤═════════════╤══════════╤════════════╤═══════════╕\n",
      "│              │   precision │   recall │   f1-score │   support │\n",
      "╞══════════════╪═════════════╪══════════╪════════════╪═══════════╡\n",
      "│ 0.0          │       0.486 │    0.5   │      0.493 │      34   │\n",
      "├──────────────┼─────────────┼──────────┼────────────┼───────────┤\n",
      "│ 1.0          │       0.5   │    0.615 │      0.552 │      39   │\n",
      "├──────────────┼─────────────┼──────────┼────────────┼───────────┤\n",
      "│ 2.0          │       0.667 │    0.154 │      0.25  │      13   │\n",
      "├──────────────┼─────────────┼──────────┼────────────┼───────────┤\n",
      "│ accuracy     │       0.5   │    0.5   │      0.5   │       0.5 │\n",
      "├──────────────┼─────────────┼──────────┼────────────┼───────────┤\n",
      "│ macro avg    │       0.551 │    0.423 │      0.431 │      86   │\n",
      "├──────────────┼─────────────┼──────────┼────────────┼───────────┤\n",
      "│ weighted avg │       0.52  │    0.5   │      0.483 │      86   │\n",
      "╘══════════════╧═════════════╧══════════╧════════════╧═══════════╛\n",
      "\n",
      "🧩 Confusion Matrix:\n",
      "╒═══╤════╤════╤═══╕\n",
      "│ 0 │ 17 │ 17 │ 0 │\n",
      "├───┼────┼────┼───┤\n",
      "│ 1 │ 14 │ 24 │ 1 │\n",
      "├───┼────┼────┼───┤\n",
      "│ 2 │  4 │  7 │ 2 │\n",
      "╘═══╧════╧════╧═══╛\n"
     ]
    }
   ],
   "source": [
    "n_classes = 3\n",
    "boost_class_weights = {\n",
    "    0: 1.0,\n",
    "    1: 1.0,\n",
    "    2: 2.0\n",
    "}\n",
    "\n",
    "params_xgb = {\n",
    "    'max_depth': 3,\n",
    "    'n_estimators': 800,\n",
    "    'objective': 'multi:softprob',\n",
    "    'num_class': 3,\n",
    "    'reg_alpha': 2.4,   # L1\n",
    "    'reg_lambda': 1.5,   # L2\n",
    "    'learning_rate': 0.06,\n",
    "    'subsample': 0.4\n",
    "}\n",
    "\n",
    "my_model_boost_alldata = MlModels(\n",
    "    model_name='xgboost',\n",
    "    data=data_all,\n",
    "    params=params_xgb,\n",
    "    pca_flag=True,\n",
    "    pca_components=70,\n",
    "    sample_weight=True,\n",
    "    boost_class_weights=boost_class_weights,\n",
    ")\n",
    "\n",
    "model_boost_train_alldata = my_model_boost_alldata.build_model()\n",
    "\n",
    "eval_objs_alldata = Evaluate(my_model_boost_alldata, X_cv, Y_cv)\n",
    "eval_results_alldata = eval_objs_alldata.report_validation_metrics()"
   ]
  },
  {
   "cell_type": "markdown",
   "id": "80516eac",
   "metadata": {},
   "source": [
    "### Final Model"
   ]
  },
  {
   "cell_type": "code",
   "execution_count": 14,
   "id": "a9f26e48",
   "metadata": {},
   "outputs": [
    {
     "name": "stdout",
     "output_type": "stream",
     "text": [
      "\n",
      "✅ Validation Accuracy: 0.4685\n",
      "\n",
      "📋 Classification Report:\n",
      "╒══════════════╤═════════════╤══════════╤════════════╤═══════════╕\n",
      "│              │   precision │   recall │   f1-score │   support │\n",
      "╞══════════════╪═════════════╪══════════╪════════════╪═══════════╡\n",
      "│ 0.0          │       0.5   │    0.518 │      0.509 │    56     │\n",
      "├──────────────┼─────────────┼──────────┼────────────┼───────────┤\n",
      "│ 1.0          │       0.556 │    0.53  │      0.543 │    66     │\n",
      "├──────────────┼─────────────┼──────────┼────────────┼───────────┤\n",
      "│ 2.0          │       0.136 │    0.143 │      0.14  │    21     │\n",
      "├──────────────┼─────────────┼──────────┼────────────┼───────────┤\n",
      "│ accuracy     │       0.469 │    0.469 │      0.469 │     0.469 │\n",
      "├──────────────┼─────────────┼──────────┼────────────┼───────────┤\n",
      "│ macro avg    │       0.397 │    0.397 │      0.397 │   143     │\n",
      "├──────────────┼─────────────┼──────────┼────────────┼───────────┤\n",
      "│ weighted avg │       0.472 │    0.469 │      0.47  │   143     │\n",
      "╘══════════════╧═════════════╧══════════╧════════════╧═══════════╛\n",
      "\n",
      "🧩 Confusion Matrix:\n",
      "╒═══╤════╤════╤════╕\n",
      "│ 0 │ 29 │ 18 │  9 │\n",
      "├───┼────┼────┼────┤\n",
      "│ 1 │ 21 │ 35 │ 10 │\n",
      "├───┼────┼────┼────┤\n",
      "│ 2 │  8 │ 10 │  3 │\n",
      "╘═══╧════╧════╧════╛\n"
     ]
    }
   ],
   "source": [
    "eval_objs_alldata = Evaluate(my_model_boost_alldata, X_test, Y_test)\n",
    "eval_results_alldata = eval_objs_alldata.report_validation_metrics()"
   ]
  },
  {
   "cell_type": "code",
   "execution_count": null,
   "id": "6986b35c",
   "metadata": {},
   "outputs": [],
   "source": []
  }
 ],
 "metadata": {
  "kernelspec": {
   "display_name": "erdos_summer_2025",
   "language": "python",
   "name": "python3"
  },
  "language_info": {
   "codemirror_mode": {
    "name": "ipython",
    "version": 3
   },
   "file_extension": ".py",
   "mimetype": "text/x-python",
   "name": "python",
   "nbconvert_exporter": "python",
   "pygments_lexer": "ipython3",
   "version": "3.12.10"
  }
 },
 "nbformat": 4,
 "nbformat_minor": 5
}
