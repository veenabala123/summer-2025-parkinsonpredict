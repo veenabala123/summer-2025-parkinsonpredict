{
 "cells": [
  {
   "cell_type": "code",
   "execution_count": 1,
   "id": "7d66a1e7",
   "metadata": {},
   "outputs": [],
   "source": [
    "import os,sys\n",
    "import math\n",
    "\n",
    "import numpy as np\n",
    "import scipy as sp\n",
    "import pandas as pd\n",
    "import matplotlib as mlt\n",
    "import matplotlib.pyplot as plt\n",
    "from IPython.display import HTML\n",
    "from matplotlib import animation\n",
    "from functools import reduce\n",
    "\n",
    "import seaborn as sns\n",
    "from sklearn.model_selection import train_test_split,cross_val_score, KFold, StratifiedKFold,cross_val_predict\n",
    "from sklearn.decomposition import PCA\n",
    "from sklearn.preprocessing import StandardScaler\n",
    "from sklearn.metrics import accuracy_score, classification_report, confusion_matrix\n",
    "\n",
    "sys.path.append(\"../../src\")  # adjust path as needed\n",
    "from data_loader import LoadData\n",
    "from model import MlModels\n",
    "from evaluation import Evaluate"
   ]
  },
  {
   "cell_type": "markdown",
   "id": "57aa5356",
   "metadata": {},
   "source": [
    "### MRI and Demographic Data"
   ]
  },
  {
   "cell_type": "markdown",
   "id": "4f54d18e",
   "metadata": {},
   "source": [
    "### Load the Data"
   ]
  },
  {
   "cell_type": "code",
   "execution_count": 2,
   "id": "e94748e6",
   "metadata": {},
   "outputs": [
    {
     "name": "stdout",
     "output_type": "stream",
     "text": [
      "X shape: (712, 110), Y shape: (712, 1)\n",
      "Y class distribution: {(1.0,): 327, (0.0,): 278, (2.0,): 107}\n",
      "['rh_MeanThickness', 'rh_WhiteSurfArea', 'Left_Cerebellum_White_Matter', 'Right_Cerebellum_White_Matter', 'CerebralWhiteMatterVol', 'rhSurfaceHoles', 'lhSurfaceHoles']\n"
     ]
    }
   ],
   "source": [
    "# --- Load data\n",
    "mri_data_path = \"/Users/pushpita/Documents/Erdos_bootcamp/our_project/Data/clean_data/PDMRI_Clean_Merged_6_13_25.csv\"\n",
    "gene_data_path = \"/Users/pushpita/Documents/Erdos_bootcamp/our_project/Data/clean_data/gene_expression_summary.csv\"\n",
    "nhy_latest_path = \"/Users/pushpita/Documents/Erdos_bootcamp/our_project/Data/clean_data/clean_mds_updrs.csv\"\n",
    "\n",
    "dataload_mri_cls = LoadData(input_updrs=nhy_latest_path,\n",
    "    input_gene_clinical=gene_data_path,\n",
    "    input_mri=mri_data_path,\n",
    "    mri_data=True,\n",
    "    gene_data=False,\n",
    "    group_NHY=True,\n",
    "    common_dataset=True,\n",
    "    stratify_splits=True)\n",
    "\n",
    "X_data, Y_data = dataload_mri_cls.merged_data()"
   ]
  },
  {
   "cell_type": "code",
   "execution_count": 3,
   "id": "e1f58b9e",
   "metadata": {},
   "outputs": [
    {
     "data": {
      "image/png": "[encoded data removed]",
      "text/plain": [
       "<Figure size 600x400 with 1 Axes>"
      ]
     },
     "metadata": {},
     "output_type": "display_data"
    }
   ],
   "source": [
    "plt.figure(figsize=(6, 4))\n",
    "sns.countplot(x='NHY', data=Y_data, hue='NHY', palette='pastel', edgecolor='black')\n",
    "plt.title(\"Distribution of NHY Scores\", fontsize=12)\n",
    "plt.xlabel(\"NHY Score\", fontsize=12)\n",
    "plt.ylabel(\"Count\", fontsize=12)\n",
    "plt.grid(axis='y', linestyle='--', alpha=0.5)\n",
    "sns.despine()\n",
    "plt.tight_layout()\n",
    "plt.show()"
   ]
  },
  {
   "cell_type": "markdown",
   "id": "600a678c",
   "metadata": {},
   "source": [
    "### Split the data"
   ]
  },
  {
   "cell_type": "code",
   "execution_count": 4,
   "id": "fe981ae7",
   "metadata": {},
   "outputs": [],
   "source": [
    "X_train, Y_train, X_cv, Y_cv, X_test, Y_test = dataload_mri_cls.data_split(X_data, Y_data)\n",
    "data = {}\n",
    "data['X_train'] = X_train\n",
    "data['Y_train'] = Y_train"
   ]
  },
  {
   "cell_type": "markdown",
   "id": "ebd19d65",
   "metadata": {},
   "source": [
    "### Logistic Regression model"
   ]
  },
  {
   "cell_type": "code",
   "execution_count": 5,
   "id": "4647c231",
   "metadata": {},
   "outputs": [
    {
     "name": "stderr",
     "output_type": "stream",
     "text": [
      "/Users/pushpita/anaconda3/envs/erdos_summer_2025/lib/python3.12/site-packages/sklearn/linear_model/_logistic.py:1917: FutureWarning: 'multi_class' was deprecated in version 1.5 and will be removed in 1.7. Use OneVsRestClassifier(LogisticRegressionCV(..)) instead. Leave it to its default value to avoid this warning.\n",
      "  warnings.warn(\n",
      "/Users/pushpita/anaconda3/envs/erdos_summer_2025/lib/python3.12/site-packages/sklearn/linear_model/_logistic.py:1917: FutureWarning: 'multi_class' was deprecated in version 1.5 and will be removed in 1.7. Use OneVsRestClassifier(LogisticRegressionCV(..)) instead. Leave it to its default value to avoid this warning.\n",
      "  warnings.warn(\n"
     ]
    }
   ],
   "source": [
    "models_list =['logistic', 'logistic_cv']\n",
    "class_weight_list = [None, 'balanced']\n",
    "models_dict = {}\n",
    "\n",
    "for mo_l in models_list:\n",
    "    for cw in class_weight_list:\n",
    "        names_ = f\"model_{mo_l}_{cw}\"\n",
    "        models_dict[names_] = (mo_l, cw)\n",
    "\n",
    "trained_models = {}\n",
    "for name, (model_type, cw) in models_dict.items():\n",
    "    if model_type == 'logistic_cv':\n",
    "        params_cv = {'cv':StratifiedKFold(n_splits=5)}\n",
    "        \n",
    "        mymodel = MlModels(model_name = model_type, \n",
    "                        data=data, params = params_cv, \n",
    "                        pca_flag=False, class_weights=cw)\n",
    "    else:\n",
    "        mymodel = MlModels(model_name = model_type, \n",
    "                        data=data, params = None, \n",
    "                        pca_flag=False, class_weights=cw)\n",
    "    mymodel.build_model()\n",
    "    trained_models[name] = mymodel\n"
   ]
  },
  {
   "cell_type": "code",
   "execution_count": 6,
   "id": "58966767",
   "metadata": {},
   "outputs": [
    {
     "name": "stdout",
     "output_type": "stream",
     "text": [
      "model_logistic_None\n",
      "\n",
      "✅ Validation Accuracy: 0.4884\n",
      "\n",
      "📋 Classification Report:\n",
      "╒══════════════╤═════════════╤══════════╤════════════╤═══════════╕\n",
      "│              │   precision │   recall │   f1-score │   support │\n",
      "╞══════════════╪═════════════╪══════════╪════════════╪═══════════╡\n",
      "│ 0.0          │       0.474 │    0.265 │      0.34  │    34     │\n",
      "├──────────────┼─────────────┼──────────┼────────────┼───────────┤\n",
      "│ 1.0          │       0.493 │    0.846 │      0.623 │    39     │\n",
      "├──────────────┼─────────────┼──────────┼────────────┼───────────┤\n",
      "│ 2.0          │       0     │    0     │      0     │    13     │\n",
      "├──────────────┼─────────────┼──────────┼────────────┼───────────┤\n",
      "│ accuracy     │       0.488 │    0.488 │      0.488 │     0.488 │\n",
      "├──────────────┼─────────────┼──────────┼────────────┼───────────┤\n",
      "│ macro avg    │       0.322 │    0.37  │      0.321 │    86     │\n",
      "├──────────────┼─────────────┼──────────┼────────────┼───────────┤\n",
      "│ weighted avg │       0.411 │    0.488 │      0.417 │    86     │\n",
      "╘══════════════╧═════════════╧══════════╧════════════╧═══════════╛\n",
      "\n",
      "🧩 Confusion Matrix:\n",
      "╒═══╤═══╤════╤═══╕\n",
      "│ 0 │ 9 │ 25 │ 0 │\n",
      "├───┼───┼────┼───┤\n",
      "│ 1 │ 6 │ 33 │ 0 │\n",
      "├───┼───┼────┼───┤\n",
      "│ 2 │ 4 │  9 │ 0 │\n",
      "╘═══╧═══╧════╧═══╛\n",
      "model_logistic_balanced\n",
      "\n",
      "✅ Validation Accuracy: 0.5116\n",
      "\n",
      "📋 Classification Report:\n",
      "╒══════════════╤═════════════╤══════════╤════════════╤═══════════╕\n",
      "│              │   precision │   recall │   f1-score │   support │\n",
      "╞══════════════╪═════════════╪══════════╪════════════╪═══════════╡\n",
      "│ 0.0          │       0.519 │    0.412 │      0.459 │    34     │\n",
      "├──────────────┼─────────────┼──────────┼────────────┼───────────┤\n",
      "│ 1.0          │       0.583 │    0.538 │      0.56  │    39     │\n",
      "├──────────────┼─────────────┼──────────┼────────────┼───────────┤\n",
      "│ 2.0          │       0.391 │    0.692 │      0.5   │    13     │\n",
      "├──────────────┼─────────────┼──────────┼────────────┼───────────┤\n",
      "│ accuracy     │       0.512 │    0.512 │      0.512 │     0.512 │\n",
      "├──────────────┼─────────────┼──────────┼────────────┼───────────┤\n",
      "│ macro avg    │       0.498 │    0.548 │      0.506 │    86     │\n",
      "├──────────────┼─────────────┼──────────┼────────────┼───────────┤\n",
      "│ weighted avg │       0.529 │    0.512 │      0.511 │    86     │\n",
      "╘══════════════╧═════════════╧══════════╧════════════╧═══════════╛\n",
      "\n",
      "🧩 Confusion Matrix:\n",
      "╒═══╤════╤════╤═══╕\n",
      "│ 0 │ 14 │ 14 │ 6 │\n",
      "├───┼────┼────┼───┤\n",
      "│ 1 │ 10 │ 21 │ 8 │\n",
      "├───┼────┼────┼───┤\n",
      "│ 2 │  3 │  1 │ 9 │\n",
      "╘═══╧════╧════╧═══╛\n",
      "model_logistic_cv_None\n",
      "\n",
      "✅ Validation Accuracy: 0.4767\n",
      "\n",
      "📋 Classification Report:\n",
      "╒══════════════╤═════════════╤══════════╤════════════╤═══════════╕\n",
      "│              │   precision │   recall │   f1-score │   support │\n",
      "╞══════════════╪═════════════╪══════════╪════════════╪═══════════╡\n",
      "│ 0.0          │       0.5   │    0.059 │      0.105 │    34     │\n",
      "├──────────────┼─────────────┼──────────┼────────────┼───────────┤\n",
      "│ 1.0          │       0.476 │    1     │      0.645 │    39     │\n",
      "├──────────────┼─────────────┼──────────┼────────────┼───────────┤\n",
      "│ 2.0          │       0     │    0     │      0     │    13     │\n",
      "├──────────────┼─────────────┼──────────┼────────────┼───────────┤\n",
      "│ accuracy     │       0.477 │    0.477 │      0.477 │     0.477 │\n",
      "├──────────────┼─────────────┼──────────┼────────────┼───────────┤\n",
      "│ macro avg    │       0.325 │    0.353 │      0.25  │    86     │\n",
      "├──────────────┼─────────────┼──────────┼────────────┼───────────┤\n",
      "│ weighted avg │       0.413 │    0.477 │      0.334 │    86     │\n",
      "╘══════════════╧═════════════╧══════════╧════════════╧═══════════╛\n",
      "\n",
      "🧩 Confusion Matrix:\n",
      "╒═══╤═══╤════╤═══╕\n",
      "│ 0 │ 2 │ 32 │ 0 │\n",
      "├───┼───┼────┼───┤\n",
      "│ 1 │ 0 │ 39 │ 0 │\n",
      "├───┼───┼────┼───┤\n",
      "│ 2 │ 2 │ 11 │ 0 │\n",
      "╘═══╧═══╧════╧═══╛\n",
      "model_logistic_cv_balanced\n",
      "\n",
      "✅ Validation Accuracy: 0.4419\n",
      "\n",
      "📋 Classification Report:\n",
      "╒══════════════╤═════════════╤══════════╤════════════╤═══════════╕\n",
      "│              │   precision │   recall │   f1-score │   support │\n",
      "╞══════════════╪═════════════╪══════════╪════════════╪═══════════╡\n",
      "│ 0.0          │       0.429 │    0.529 │      0.474 │    34     │\n",
      "├──────────────┼─────────────┼──────────┼────────────┼───────────┤\n",
      "│ 1.0          │       0.619 │    0.333 │      0.433 │    39     │\n",
      "├──────────────┼─────────────┼──────────┼────────────┼───────────┤\n",
      "│ 2.0          │       0.304 │    0.538 │      0.389 │    13     │\n",
      "├──────────────┼─────────────┼──────────┼────────────┼───────────┤\n",
      "│ accuracy     │       0.442 │    0.442 │      0.442 │     0.442 │\n",
      "├──────────────┼─────────────┼──────────┼────────────┼───────────┤\n",
      "│ macro avg    │       0.451 │    0.467 │      0.432 │    86     │\n",
      "├──────────────┼─────────────┼──────────┼────────────┼───────────┤\n",
      "│ weighted avg │       0.496 │    0.442 │      0.443 │    86     │\n",
      "╘══════════════╧═════════════╧══════════╧════════════╧═══════════╛\n",
      "\n",
      "🧩 Confusion Matrix:\n",
      "╒═══╤════╤════╤════╕\n",
      "│ 0 │ 18 │  6 │ 10 │\n",
      "├───┼────┼────┼────┤\n",
      "│ 1 │ 20 │ 13 │  6 │\n",
      "├───┼────┼────┼────┤\n",
      "│ 2 │  4 │  2 │  7 │\n",
      "╘═══╧════╧════╧════╛\n"
     ]
    }
   ],
   "source": [
    "eval_objs = {}\n",
    "eval_results = {}\n",
    "\n",
    "for model_type in models_list:\n",
    "    for cw in class_weight_list:\n",
    "        key = f\"{model_type}_{cw}\"\n",
    "        model_key = f\"model_{model_type}_{cw}\"\n",
    "        \n",
    "        # Create Evaluate object\n",
    "        eval_objs[key] = Evaluate(trained_models[model_key], X_cv, Y_cv)\n",
    "        \n",
    "        # Run and store results\n",
    "        print(model_key)\n",
    "        eval_results[key] = eval_objs[key].report_validation_metrics()"
   ]
  },
  {
   "cell_type": "markdown",
   "id": "d4103fd0",
   "metadata": {},
   "source": [
    "### Demographic, Gene Expressions and MRI"
   ]
  },
  {
   "cell_type": "code",
   "execution_count": 7,
   "id": "11935b13",
   "metadata": {},
   "outputs": [
    {
     "name": "stdout",
     "output_type": "stream",
     "text": [
      "X shape: (712, 110), Y shape: (712, 1)\n",
      "Y class distribution: {(1.0,): 327, (0.0,): 278, (2.0,): 107}\n"
     ]
    }
   ],
   "source": [
    "# --- Load data\n",
    "mri_data_path = \"/Users/pushpita/Documents/Erdos_bootcamp/our_project/Data/clean_data/PDMRI_Clean_Merged_6_13_25.csv\"\n",
    "gene_data_path = \"/Users/pushpita/Documents/Erdos_bootcamp/our_project/Data/clean_data/gene_expression_summary.csv\"\n",
    "nhy_latest_path = \"/Users/pushpita/Documents/Erdos_bootcamp/our_project/Data/clean_data/clean_mds_updrs.csv\"\n",
    "\n",
    "dataload_all_cls = LoadData(input_updrs=nhy_latest_path,\n",
    "    input_gene_clinical=gene_data_path,\n",
    "    input_mri=mri_data_path,\n",
    "    mri_data=True,\n",
    "    gene_data=True,\n",
    "    group_NHY=True,\n",
    "    common_dataset=True,\n",
    "    stratify_splits=True)\n",
    "\n",
    "X_data, Y_data = dataload_all_cls.merged_data()"
   ]
  },
  {
   "cell_type": "code",
   "execution_count": 8,
   "id": "f1f096fd",
   "metadata": {},
   "outputs": [
    {
     "data": {
      "image/png": "[encoded data removed]",
      "text/plain": [
       "<Figure size 600x400 with 1 Axes>"
      ]
     },
     "metadata": {},
     "output_type": "display_data"
    }
   ],
   "source": [
    "plt.figure(figsize=(6, 4))\n",
    "sns.countplot(x='NHY', data=Y_data, hue='NHY', palette='pastel', edgecolor='black')\n",
    "plt.title(\"Distribution of NHY Scores\", fontsize=12)\n",
    "plt.xlabel(\"NHY Score\", fontsize=12)\n",
    "plt.ylabel(\"Count\", fontsize=12)\n",
    "plt.grid(axis='y', linestyle='--', alpha=0.5)\n",
    "sns.despine()\n",
    "plt.tight_layout()\n",
    "plt.show()"
   ]
  },
  {
   "cell_type": "code",
   "execution_count": 9,
   "id": "eddce78f",
   "metadata": {},
   "outputs": [],
   "source": [
    "X_train, Y_train, X_cv, Y_cv, X_test, Y_test = dataload_all_cls.data_split(X_data, Y_data)\n",
    "data_all = {}\n",
    "data_all['X_train'] = X_train\n",
    "data_all['Y_train'] = Y_train"
   ]
  },
  {
   "cell_type": "code",
   "execution_count": 10,
   "id": "e6517ad2",
   "metadata": {},
   "outputs": [
    {
     "name": "stderr",
     "output_type": "stream",
     "text": [
      "/Users/pushpita/anaconda3/envs/erdos_summer_2025/lib/python3.12/site-packages/sklearn/linear_model/_logistic.py:1917: FutureWarning: 'multi_class' was deprecated in version 1.5 and will be removed in 1.7. Use OneVsRestClassifier(LogisticRegressionCV(..)) instead. Leave it to its default value to avoid this warning.\n",
      "  warnings.warn(\n",
      "/Users/pushpita/anaconda3/envs/erdos_summer_2025/lib/python3.12/site-packages/sklearn/linear_model/_logistic.py:1917: FutureWarning: 'multi_class' was deprecated in version 1.5 and will be removed in 1.7. Use OneVsRestClassifier(LogisticRegressionCV(..)) instead. Leave it to its default value to avoid this warning.\n",
      "  warnings.warn(\n"
     ]
    }
   ],
   "source": [
    "models_list =['logistic', 'logistic_cv']\n",
    "class_weight_list = [None, 'balanced']\n",
    "models_dict = {}\n",
    "\n",
    "for mo_l in models_list:\n",
    "    for cw in class_weight_list:\n",
    "        names_ = f\"model_{mo_l}_{cw}\"\n",
    "        models_dict[names_] = (mo_l, cw)\n",
    "\n",
    "trained_models_all = {}\n",
    "for name, (model_type, cw) in models_dict.items():\n",
    "    if model_type == 'logistic_cv':\n",
    "        params = {'cv':StratifiedKFold(n_splits=5), \n",
    "                    'penalty': 'l2'}\n",
    "    else:\n",
    "        params = {'penalty': 'l2'}\n",
    "        \n",
    "    mymodel_all = MlModels(model_name = model_type, \n",
    "                        data=data_all, params = params, \n",
    "                        pca_flag=False, class_weights=cw)\n",
    "    mymodel_all.build_model()\n",
    "    trained_models_all[name] = mymodel_all"
   ]
  },
  {
   "cell_type": "code",
   "execution_count": 11,
   "id": "56ba7cee",
   "metadata": {},
   "outputs": [
    {
     "name": "stdout",
     "output_type": "stream",
     "text": [
      "model_logistic_None\n",
      "\n",
      "✅ Validation Accuracy: 0.4767\n",
      "\n",
      "📋 Classification Report:\n",
      "╒══════════════╤═════════════╤══════════╤════════════╤═══════════╕\n",
      "│              │   precision │   recall │   f1-score │   support │\n",
      "╞══════════════╪═════════════╪══════════╪════════════╪═══════════╡\n",
      "│ 0.0          │       0.538 │    0.412 │      0.467 │    34     │\n",
      "├──────────────┼─────────────┼──────────┼────────────┼───────────┤\n",
      "│ 1.0          │       0.519 │    0.692 │      0.593 │    39     │\n",
      "├──────────────┼─────────────┼──────────┼────────────┼───────────┤\n",
      "│ 2.0          │       0     │    0     │      0     │    13     │\n",
      "├──────────────┼─────────────┼──────────┼────────────┼───────────┤\n",
      "│ accuracy     │       0.477 │    0.477 │      0.477 │     0.477 │\n",
      "├──────────────┼─────────────┼──────────┼────────────┼───────────┤\n",
      "│ macro avg    │       0.353 │    0.368 │      0.353 │    86     │\n",
      "├──────────────┼─────────────┼──────────┼────────────┼───────────┤\n",
      "│ weighted avg │       0.448 │    0.477 │      0.454 │    86     │\n",
      "╘══════════════╧═════════════╧══════════╧════════════╧═══════════╛\n",
      "\n",
      "🧩 Confusion Matrix:\n",
      "╒═══╤════╤════╤═══╕\n",
      "│ 0 │ 14 │ 17 │ 3 │\n",
      "├───┼────┼────┼───┤\n",
      "│ 1 │  7 │ 27 │ 5 │\n",
      "├───┼────┼────┼───┤\n",
      "│ 2 │  5 │  8 │ 0 │\n",
      "╘═══╧════╧════╧═══╛\n",
      "model_logistic_balanced\n",
      "\n",
      "✅ Validation Accuracy: 0.4302\n",
      "\n",
      "📋 Classification Report:\n",
      "╒══════════════╤═════════════╤══════════╤════════════╤═══════════╕\n",
      "│              │   precision │   recall │   f1-score │   support │\n",
      "╞══════════════╪═════════════╪══════════╪════════════╪═══════════╡\n",
      "│ 0.0          │       0.483 │    0.412 │      0.444 │     34    │\n",
      "├──────────────┼─────────────┼──────────┼────────────┼───────────┤\n",
      "│ 1.0          │       0.512 │    0.564 │      0.537 │     39    │\n",
      "├──────────────┼─────────────┼──────────┼────────────┼───────────┤\n",
      "│ 2.0          │       0.071 │    0.077 │      0.074 │     13    │\n",
      "├──────────────┼─────────────┼──────────┼────────────┼───────────┤\n",
      "│ accuracy     │       0.43  │    0.43  │      0.43  │      0.43 │\n",
      "├──────────────┼─────────────┼──────────┼────────────┼───────────┤\n",
      "│ macro avg    │       0.355 │    0.351 │      0.352 │     86    │\n",
      "├──────────────┼─────────────┼──────────┼────────────┼───────────┤\n",
      "│ weighted avg │       0.434 │    0.43  │      0.43  │     86    │\n",
      "╘══════════════╧═════════════╧══════════╧════════════╧═══════════╛\n",
      "\n",
      "🧩 Confusion Matrix:\n",
      "╒═══╤════╤════╤═══╕\n",
      "│ 0 │ 14 │ 14 │ 6 │\n",
      "├───┼────┼────┼───┤\n",
      "│ 1 │ 10 │ 22 │ 7 │\n",
      "├───┼────┼────┼───┤\n",
      "│ 2 │  5 │  7 │ 1 │\n",
      "╘═══╧════╧════╧═══╛\n",
      "model_logistic_cv_None\n",
      "\n",
      "✅ Validation Accuracy: 0.5116\n",
      "\n",
      "📋 Classification Report:\n",
      "╒══════════════╤═════════════╤══════════╤════════════╤═══════════╕\n",
      "│              │   precision │   recall │   f1-score │   support │\n",
      "╞══════════════╪═════════════╪══════════╪════════════╪═══════════╡\n",
      "│ 0.0          │       0.5   │    0.471 │      0.485 │    34     │\n",
      "├──────────────┼─────────────┼──────────┼────────────┼───────────┤\n",
      "│ 1.0          │       0.519 │    0.718 │      0.602 │    39     │\n",
      "├──────────────┼─────────────┼──────────┼────────────┼───────────┤\n",
      "│ 2.0          │       0     │    0     │      0     │    13     │\n",
      "├──────────────┼─────────────┼──────────┼────────────┼───────────┤\n",
      "│ accuracy     │       0.512 │    0.512 │      0.512 │     0.512 │\n",
      "├──────────────┼─────────────┼──────────┼────────────┼───────────┤\n",
      "│ macro avg    │       0.34  │    0.396 │      0.362 │    86     │\n",
      "├──────────────┼─────────────┼──────────┼────────────┼───────────┤\n",
      "│ weighted avg │       0.433 │    0.512 │      0.465 │    86     │\n",
      "╘══════════════╧═════════════╧══════════╧════════════╧═══════════╛\n",
      "\n",
      "🧩 Confusion Matrix:\n",
      "╒═══╤════╤════╤═══╕\n",
      "│ 0 │ 16 │ 18 │ 0 │\n",
      "├───┼────┼────┼───┤\n",
      "│ 1 │ 11 │ 28 │ 0 │\n",
      "├───┼────┼────┼───┤\n",
      "│ 2 │  5 │  8 │ 0 │\n",
      "╘═══╧════╧════╧═══╛\n",
      "model_logistic_cv_balanced\n",
      "\n",
      "✅ Validation Accuracy: 0.3837\n",
      "\n",
      "📋 Classification Report:\n",
      "╒══════════════╤═════════════╤══════════╤════════════╤═══════════╕\n",
      "│              │   precision │   recall │   f1-score │   support │\n",
      "╞══════════════╪═════════════╪══════════╪════════════╪═══════════╡\n",
      "│ 0.0          │       0.436 │    0.5   │      0.466 │    34     │\n",
      "├──────────────┼─────────────┼──────────┼────────────┼───────────┤\n",
      "│ 1.0          │       0.432 │    0.41  │      0.421 │    39     │\n",
      "├──────────────┼─────────────┼──────────┼────────────┼───────────┤\n",
      "│ 2.0          │       0     │    0     │      0     │    13     │\n",
      "├──────────────┼─────────────┼──────────┼────────────┼───────────┤\n",
      "│ accuracy     │       0.384 │    0.384 │      0.384 │     0.384 │\n",
      "├──────────────┼─────────────┼──────────┼────────────┼───────────┤\n",
      "│ macro avg    │       0.289 │    0.303 │      0.296 │    86     │\n",
      "├──────────────┼─────────────┼──────────┼────────────┼───────────┤\n",
      "│ weighted avg │       0.368 │    0.384 │      0.375 │    86     │\n",
      "╘══════════════╧═════════════╧══════════╧════════════╧═══════════╛\n",
      "\n",
      "🧩 Confusion Matrix:\n",
      "╒═══╤════╤════╤═══╕\n",
      "│ 0 │ 17 │ 13 │ 4 │\n",
      "├───┼────┼────┼───┤\n",
      "│ 1 │ 17 │ 16 │ 6 │\n",
      "├───┼────┼────┼───┤\n",
      "│ 2 │  5 │  8 │ 0 │\n",
      "╘═══╧════╧════╧═══╛\n"
     ]
    }
   ],
   "source": [
    "eval_objs = {}\n",
    "eval_results = {}\n",
    "\n",
    "for model_type in models_list:\n",
    "    for cw in class_weight_list:\n",
    "        key = f\"{model_type}_{cw}\"\n",
    "        model_key = f\"model_{model_type}_{cw}\"\n",
    "        \n",
    "        # Create Evaluate object\n",
    "        eval_objs[key] = Evaluate(trained_models_all[model_key], X_cv, Y_cv)\n",
    "        \n",
    "        # Run and store results\n",
    "        print(model_key)\n",
    "        eval_results[key] = eval_objs[key].report_validation_metrics()"
   ]
  },
  {
   "cell_type": "code",
   "execution_count": null,
   "id": "b0ca264d",
   "metadata": {},
   "outputs": [],
   "source": []
  }
 ],
 "metadata": {
  "kernelspec": {
   "display_name": "erdos_summer_2025",
   "language": "python",
   "name": "python3"
  },
  "language_info": {
   "codemirror_mode": {
    "name": "ipython",
    "version": 3
   },
   "file_extension": ".py",
   "mimetype": "text/x-python",
   "name": "python",
   "nbconvert_exporter": "python",
   "pygments_lexer": "ipython3",
   "version": "3.12.10"
  }
 },
 "nbformat": 4,
 "nbformat_minor": 5
}
